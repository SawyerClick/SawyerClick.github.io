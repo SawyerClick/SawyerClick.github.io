{
 "cells": [
  {
   "cell_type": "code",
   "execution_count": 1,
   "metadata": {},
   "outputs": [],
   "source": [
    "import pandas as pd\n",
    "pd.set_option('display.max_columns', None)\n",
    "pd.set_option('display.max_colwidth', -1)\n",
    "\n",
    "import json\n",
    "\n",
    "import numpy as np\n",
    "\n",
    "import matplotlib\n",
    "import matplotlib.pyplot as plt\n",
    "from matplotlib.colors import ListedColormap\n",
    "matplotlib.rcParams['pdf.fonttype'] = 42\n",
    "%matplotlib inline\n",
    "plt.style.use('fivethirtyeight')\n",
    "\n",
    "import seaborn as sns\n"
   ]
  },
  {
   "cell_type": "markdown",
   "metadata": {},
   "source": [
    "## Fixing the million columns"
   ]
  },
  {
   "cell_type": "code",
   "execution_count": 2,
   "metadata": {},
   "outputs": [],
   "source": [
    "dtypes = {\n",
    "    'eventid': 'int',\n",
    "    'iyear': 'int',\n",
    "    'imonth': 'str',\n",
    "    'iday': 'str',\n",
    "    'country_txt': 'category',\n",
    "    'region_txt': 'category',\n",
    "    'provstate': 'category',\n",
    "    'city': 'str',\n",
    "    'latitude': 'float',\n",
    "    'longitude': 'float',\n",
    "    'summary': 'str',\n",
    "    'crit1': 'int',\n",
    "    'crit2': 'int',\n",
    "    'crit3': 'int',\n",
    "    'doubtterr': 'float',\n",
    "    'success': 'float',\n",
    "    'suicide': 'float',\n",
    "    'attacktype1_txt': 'str',\n",
    "    'attacktype2_txt': 'str',\n",
    "    'attacktype3_txt': 'str',\n",
    "    'targtype1_txt': 'str',\n",
    "    'targsubtype1_txt': 'str',\n",
    "    'natlty1_txt': 'str',\n",
    "    'gname': 'category',\n",
    "    'motive': 'str',\n",
    "    'nperps': 'float',\n",
    "    'nperpcap': 'float',\n",
    "    'claimed': 'float',\n",
    "    'weaptype1_txt': 'category',\n",
    "    'weaptype2_txt': 'category',\n",
    "    'nkill': 'float',\n",
    "    'nkillter': 'float',\n",
    "    'nwound': 'float',\n",
    "    'propextent_txt': 'str',\n",
    "    'nhostkid': 'float'\n",
    "}"
   ]
  },
  {
   "cell_type": "code",
   "execution_count": 3,
   "metadata": {
    "scrolled": true
   },
   "outputs": [],
   "source": [
    "df = pd.read_excel('data/globalterrorismdb_0718dist.xlsx', na_values=['nan'], dtype=dtypes, usecols=['eventid', 'iyear', 'imonth', 'iday', 'country','country_txt', 'region_txt','provstate','city','latitude','longitude','summary','crit1','crit2','crit3','doubtterr','success','suicide','attacktype1_txt','attacktype2_txt','attacktype3_txt','targtype1_txt','targsubtype1_txt','natlty1_txt','gname','motive','nperps','nperpcap','claimed','weaptype1_txt','weaptype2_txt','weapdetail','nkill','nkillter','nwound','propextent_txt','nhostkid'])"
   ]
  },
  {
   "cell_type": "code",
   "execution_count": null,
   "metadata": {},
   "outputs": [],
   "source": []
  },
  {
   "cell_type": "markdown",
   "metadata": {},
   "source": [
    "## Reading in Census Bureau populations\n",
    "Using 2018 population estimations"
   ]
  },
  {
   "cell_type": "code",
   "execution_count": 4,
   "metadata": {},
   "outputs": [],
   "source": [
    "pops = pd.read_csv(\"data/scprc-est2018-18+pop-res.csv\")"
   ]
  },
  {
   "cell_type": "code",
   "execution_count": 5,
   "metadata": {
    "scrolled": true
   },
   "outputs": [
    {
     "data": {
      "text/html": [
       "<div>\n",
       "<style scoped>\n",
       "    .dataframe tbody tr th:only-of-type {\n",
       "        vertical-align: middle;\n",
       "    }\n",
       "\n",
       "    .dataframe tbody tr th {\n",
       "        vertical-align: top;\n",
       "    }\n",
       "\n",
       "    .dataframe thead th {\n",
       "        text-align: right;\n",
       "    }\n",
       "</style>\n",
       "<table border=\"1\" class=\"dataframe\">\n",
       "  <thead>\n",
       "    <tr style=\"text-align: right;\">\n",
       "      <th></th>\n",
       "      <th>SUMLEV</th>\n",
       "      <th>REGION</th>\n",
       "      <th>DIVISION</th>\n",
       "      <th>STATE</th>\n",
       "      <th>NAME</th>\n",
       "      <th>POPESTIMATE2018</th>\n",
       "      <th>POPEST18PLUS2018</th>\n",
       "      <th>PCNT_POPEST18PLUS</th>\n",
       "    </tr>\n",
       "  </thead>\n",
       "  <tbody>\n",
       "    <tr>\n",
       "      <th>0</th>\n",
       "      <td>10</td>\n",
       "      <td>0</td>\n",
       "      <td>0</td>\n",
       "      <td>0</td>\n",
       "      <td>United States</td>\n",
       "      <td>327167434</td>\n",
       "      <td>253768092</td>\n",
       "      <td>77.6</td>\n",
       "    </tr>\n",
       "    <tr>\n",
       "      <th>1</th>\n",
       "      <td>40</td>\n",
       "      <td>3</td>\n",
       "      <td>6</td>\n",
       "      <td>1</td>\n",
       "      <td>Alabama</td>\n",
       "      <td>4887871</td>\n",
       "      <td>3798031</td>\n",
       "      <td>77.7</td>\n",
       "    </tr>\n",
       "    <tr>\n",
       "      <th>2</th>\n",
       "      <td>40</td>\n",
       "      <td>4</td>\n",
       "      <td>9</td>\n",
       "      <td>2</td>\n",
       "      <td>Alaska</td>\n",
       "      <td>737438</td>\n",
       "      <td>553622</td>\n",
       "      <td>75.1</td>\n",
       "    </tr>\n",
       "    <tr>\n",
       "      <th>3</th>\n",
       "      <td>40</td>\n",
       "      <td>4</td>\n",
       "      <td>8</td>\n",
       "      <td>4</td>\n",
       "      <td>Arizona</td>\n",
       "      <td>7171646</td>\n",
       "      <td>5528989</td>\n",
       "      <td>77.1</td>\n",
       "    </tr>\n",
       "    <tr>\n",
       "      <th>4</th>\n",
       "      <td>40</td>\n",
       "      <td>3</td>\n",
       "      <td>7</td>\n",
       "      <td>5</td>\n",
       "      <td>Arkansas</td>\n",
       "      <td>3013825</td>\n",
       "      <td>2310645</td>\n",
       "      <td>76.7</td>\n",
       "    </tr>\n",
       "  </tbody>\n",
       "</table>\n",
       "</div>"
      ],
      "text/plain": [
       "   SUMLEV REGION DIVISION  STATE           NAME  POPESTIMATE2018  \\\n",
       "0  10      0      0        0      United States  327167434         \n",
       "1  40      3      6        1      Alabama        4887871           \n",
       "2  40      4      9        2      Alaska         737438            \n",
       "3  40      4      8        4      Arizona        7171646           \n",
       "4  40      3      7        5      Arkansas       3013825           \n",
       "\n",
       "   POPEST18PLUS2018  PCNT_POPEST18PLUS  \n",
       "0  253768092         77.6               \n",
       "1  3798031           77.7               \n",
       "2  553622            75.1               \n",
       "3  5528989           77.1               \n",
       "4  2310645           76.7               "
      ]
     },
     "execution_count": 5,
     "metadata": {},
     "output_type": "execute_result"
    }
   ],
   "source": [
    "pops.head()"
   ]
  },
  {
   "cell_type": "markdown",
   "metadata": {},
   "source": [
    "## I only want to look at U.S. events"
   ]
  },
  {
   "cell_type": "code",
   "execution_count": 6,
   "metadata": {
    "scrolled": false
   },
   "outputs": [],
   "source": [
    "df = df[(df['country_txt'] == 'United States') & (df.iyear > 2015)]"
   ]
  },
  {
   "cell_type": "code",
   "execution_count": 7,
   "metadata": {},
   "outputs": [],
   "source": [
    "df.to_csv('data/terrorism_us_since_2016.csv', index=False)"
   ]
  },
  {
   "cell_type": "code",
   "execution_count": 8,
   "metadata": {},
   "outputs": [],
   "source": [
    "df = pd.read_csv('data/terrorism_us_since_2016.csv')"
   ]
  },
  {
   "cell_type": "code",
   "execution_count": 9,
   "metadata": {},
   "outputs": [
    {
     "data": {
      "text/plain": [
       "(129, 37)"
      ]
     },
     "execution_count": 9,
     "metadata": {},
     "output_type": "execute_result"
    }
   ],
   "source": [
    "df.shape"
   ]
  },
  {
   "cell_type": "markdown",
   "metadata": {},
   "source": [
    "## What groups are in here?"
   ]
  },
  {
   "cell_type": "code",
   "execution_count": 10,
   "metadata": {
    "scrolled": false
   },
   "outputs": [
    {
     "data": {
      "text/plain": [
       "<matplotlib.axes._subplots.AxesSubplot at 0x285ee8b4b00>"
      ]
     },
     "execution_count": 10,
     "metadata": {},
     "output_type": "execute_result"
    },
    {
     "data": {
      "image/png": "[encoded data removed]",
      "text/plain": [
       "<Figure size 504x360 with 1 Axes>"
      ]
     },
     "metadata": {
      "needs_background": "light"
     },
     "output_type": "display_data"
    }
   ],
   "source": [
    "df.gname.value_counts().sort_values().plot(kind='barh', figsize=(7,5))"
   ]
  },
  {
   "cell_type": "markdown",
   "metadata": {},
   "source": [
    "## What are in the unknowns?"
   ]
  },
  {
   "cell_type": "code",
   "execution_count": 11,
   "metadata": {
    "scrolled": false
   },
   "outputs": [],
   "source": [
    "unknown = df[df.gname == 'Unknown']"
   ]
  },
  {
   "cell_type": "code",
   "execution_count": 12,
   "metadata": {},
   "outputs": [
    {
     "data": {
      "text/plain": [
       "eventid             int64  \n",
       "iyear               int64  \n",
       "imonth              int64  \n",
       "iday                int64  \n",
       "country             int64  \n",
       "country_txt         object \n",
       "region_txt          object \n",
       "provstate           object \n",
       "city                object \n",
       "latitude            float64\n",
       "longitude           float64\n",
       "summary             object \n",
       "crit1               int64  \n",
       "crit2               int64  \n",
       "crit3               int64  \n",
       "doubtterr           float64\n",
       "success             float64\n",
       "suicide             float64\n",
       "attacktype1_txt     object \n",
       "attacktype2_txt     object \n",
       "attacktype3_txt     float64\n",
       "targtype1_txt       object \n",
       "targsubtype1_txt    object \n",
       "natlty1_txt         object \n",
       "gname               object \n",
       "motive              object \n",
       "nperps              float64\n",
       "nperpcap            float64\n",
       "claimed             float64\n",
       "weaptype1_txt       object \n",
       "weaptype2_txt       object \n",
       "weapdetail          object \n",
       "nkill               float64\n",
       "nkillter            float64\n",
       "nwound              float64\n",
       "propextent_txt      object \n",
       "nhostkid            float64\n",
       "dtype: object"
      ]
     },
     "execution_count": 12,
     "metadata": {},
     "output_type": "execute_result"
    }
   ],
   "source": [
    "unknown.dtypes"
   ]
  },
  {
   "cell_type": "code",
   "execution_count": 13,
   "metadata": {
    "scrolled": true
   },
   "outputs": [
    {
     "data": {
      "text/plain": [
       "(55, 37)"
      ]
     },
     "execution_count": 13,
     "metadata": {},
     "output_type": "execute_result"
    }
   ],
   "source": [
    "unknown.shape"
   ]
  },
  {
   "cell_type": "code",
   "execution_count": 14,
   "metadata": {},
   "outputs": [
    {
     "data": {
      "text/plain": [
       "<matplotlib.axes._subplots.AxesSubplot at 0x285a3ccbb70>"
      ]
     },
     "execution_count": 14,
     "metadata": {},
     "output_type": "execute_result"
    },
    {
     "data": {
      "image/png": "[encoded data removed]",
      "text/plain": [
       "<Figure size 432x288 with 1 Axes>"
      ]
     },
     "metadata": {
      "needs_background": "light"
     },
     "output_type": "display_data"
    }
   ],
   "source": [
    "unknown.targtype1_txt.value_counts().sort_values().plot(kind='barh', title=\"What are the 'unknowns' attacking?\")"
   ]
  },
  {
   "cell_type": "code",
   "execution_count": 15,
   "metadata": {},
   "outputs": [
    {
     "data": {
      "text/plain": [
       "<matplotlib.axes._subplots.AxesSubplot at 0x2859056c940>"
      ]
     },
     "execution_count": 15,
     "metadata": {},
     "output_type": "execute_result"
    },
    {
     "data": {
      "image/png": "[encoded data removed]",
      "text/plain": [
       "<Figure size 432x288 with 1 Axes>"
      ]
     },
     "metadata": {
      "needs_background": "light"
     },
     "output_type": "display_data"
    }
   ],
   "source": [
    "unknown.provstate.value_counts().sort_values().plot(kind='barh')"
   ]
  },
  {
   "cell_type": "code",
   "execution_count": 16,
   "metadata": {
    "scrolled": false
   },
   "outputs": [
    {
     "data": {
      "text/plain": [
       "<matplotlib.axes._subplots.AxesSubplot at 0x285a3ccb898>"
      ]
     },
     "execution_count": 16,
     "metadata": {},
     "output_type": "execute_result"
    },
    {
     "data": {
      "image/png": "[encoded data removed]",
      "text/plain": [
       "<Figure size 288x504 with 1 Axes>"
      ]
     },
     "metadata": {
      "needs_background": "light"
     },
     "output_type": "display_data"
    }
   ],
   "source": [
    "unknown.targsubtype1_txt.value_counts().sort_values().plot(kind='barh', figsize=(4,7))"
   ]
  },
  {
   "cell_type": "code",
   "execution_count": 17,
   "metadata": {
    "scrolled": true
   },
   "outputs": [
    {
     "name": "stderr",
     "output_type": "stream",
     "text": [
      "C:\\Users\\sawye\\AppData\\Local\\Programs\\Python\\Python37\\lib\\site-packages\\ipykernel_launcher.py:1: SettingWithCopyWarning: \n",
      "A value is trying to be set on a copy of a slice from a DataFrame.\n",
      "Try using .loc[row_indexer,col_indexer] = value instead\n",
      "\n",
      "See the caveats in the documentation: http://pandas.pydata.org/pandas-docs/stable/indexing.html#indexing-view-versus-copy\n",
      "  \"\"\"Entry point for launching an IPython kernel.\n",
      "C:\\Users\\sawye\\AppData\\Local\\Programs\\Python\\Python37\\lib\\site-packages\\ipykernel_launcher.py:2: SettingWithCopyWarning: \n",
      "A value is trying to be set on a copy of a slice from a DataFrame.\n",
      "Try using .loc[row_indexer,col_indexer] = value instead\n",
      "\n",
      "See the caveats in the documentation: http://pandas.pydata.org/pandas-docs/stable/indexing.html#indexing-view-versus-copy\n",
      "  \n",
      "C:\\Users\\sawye\\AppData\\Local\\Programs\\Python\\Python37\\lib\\site-packages\\ipykernel_launcher.py:3: SettingWithCopyWarning: \n",
      "A value is trying to be set on a copy of a slice from a DataFrame.\n",
      "Try using .loc[row_indexer,col_indexer] = value instead\n",
      "\n",
      "See the caveats in the documentation: http://pandas.pydata.org/pandas-docs/stable/indexing.html#indexing-view-versus-copy\n",
      "  This is separate from the ipykernel package so we can avoid doing imports until\n",
      "C:\\Users\\sawye\\AppData\\Local\\Programs\\Python\\Python37\\lib\\site-packages\\ipykernel_launcher.py:8: SettingWithCopyWarning: \n",
      "A value is trying to be set on a copy of a slice from a DataFrame.\n",
      "Try using .loc[row_indexer,col_indexer] = value instead\n",
      "\n",
      "See the caveats in the documentation: http://pandas.pydata.org/pandas-docs/stable/indexing.html#indexing-view-versus-copy\n",
      "  \n",
      "C:\\Users\\sawye\\AppData\\Local\\Programs\\Python\\Python37\\lib\\site-packages\\ipykernel_launcher.py:9: SettingWithCopyWarning: \n",
      "A value is trying to be set on a copy of a slice from a DataFrame.\n",
      "Try using .loc[row_indexer,col_indexer] = value instead\n",
      "\n",
      "See the caveats in the documentation: http://pandas.pydata.org/pandas-docs/stable/indexing.html#indexing-view-versus-copy\n",
      "  if __name__ == '__main__':\n"
     ]
    }
   ],
   "source": [
    "unknown['iyear'] = unknown['iyear'].astype(str)\n",
    "unknown['imonth'] = unknown['imonth'].astype(str)\n",
    "unknown['iday'] = unknown['iday'].astype(str)\n",
    "\n",
    "def get_date(x):\n",
    "    return x.iyear + \"/\" + x.imonth + \"/\" + x.iday\n",
    "\n",
    "unknown['date'] = unknown.apply(get_date, axis=1)\n",
    "unknown['date'] = pd.to_datetime(unknown.date)"
   ]
  },
  {
   "cell_type": "code",
   "execution_count": 18,
   "metadata": {},
   "outputs": [
    {
     "data": {
      "text/plain": [
       "<matplotlib.axes._subplots.AxesSubplot at 0x285b11777f0>"
      ]
     },
     "execution_count": 18,
     "metadata": {},
     "output_type": "execute_result"
    },
    {
     "data": {
      "image/png": "[encoded data removed]",
      "text/plain": [
       "<Figure size 432x288 with 1 Axes>"
      ]
     },
     "metadata": {
      "needs_background": "light"
     },
     "output_type": "display_data"
    }
   ],
   "source": [
    "unknown.plot(kind='line', x='date', y='nkill')"
   ]
  },
  {
   "cell_type": "code",
   "execution_count": null,
   "metadata": {},
   "outputs": [],
   "source": []
  },
  {
   "cell_type": "code",
   "execution_count": null,
   "metadata": {},
   "outputs": [],
   "source": []
  },
  {
   "cell_type": "code",
   "execution_count": null,
   "metadata": {},
   "outputs": [],
   "source": []
  },
  {
   "cell_type": "markdown",
   "metadata": {},
   "source": [
    "## Muslim vs white extremist attacks"
   ]
  },
  {
   "cell_type": "code",
   "execution_count": 19,
   "metadata": {
    "scrolled": false
   },
   "outputs": [
    {
     "data": {
      "text/plain": [
       "<matplotlib.axes._subplots.AxesSubplot at 0x285f5596a90>"
      ]
     },
     "execution_count": 19,
     "metadata": {},
     "output_type": "execute_result"
    },
    {
     "data": {
      "image/png": "[encoded data removed]",
      "text/plain": [
       "<Figure size 216x216 with 1 Axes>"
      ]
     },
     "metadata": {
      "needs_background": "light"
     },
     "output_type": "display_data"
    }
   ],
   "source": [
    "ax = df[df.gname == 'Muslim extremists'].groupby('provstate').gname.value_counts().sort_values().plot(kind='barh', figsize=(3,3), xlim=[0,4])\n",
    "\n",
    "df[df.gname == 'White extremists'].groupby('provstate').gname.value_counts().sort_values().plot(kind='barh', figsize=(3,3), color='red')"
   ]
  },
  {
   "cell_type": "code",
   "execution_count": 20,
   "metadata": {},
   "outputs": [],
   "source": [
    "df.nkill = df.nkill.astype(str)"
   ]
  },
  {
   "cell_type": "code",
   "execution_count": 21,
   "metadata": {},
   "outputs": [],
   "source": [
    "## Export for qgis\n",
    "df.to_csv(\"data/terrorism_us.csv\", index=False)"
   ]
  },
  {
   "cell_type": "markdown",
   "metadata": {},
   "source": [
    "## Mapbox?"
   ]
  },
  {
   "cell_type": "code",
   "execution_count": 22,
   "metadata": {
    "scrolled": true
   },
   "outputs": [],
   "source": [
    "def get_coords(x):\n",
    "#     geometry = {}\n",
    "    try:\n",
    "        try:\n",
    "            x['place'] = x.city+\", \"+x.provstate\n",
    "        except:\n",
    "            x['place'] = x.city\n",
    "        x['geometry.type'] = 'Point'\n",
    "        coords = []\n",
    "        coords.append(x.longitude)\n",
    "        coords.append(x.latitude)\n",
    "        x['geometry.coordinates'] = coords\n",
    "        return x\n",
    "    except: \n",
    "        return nan"
   ]
  },
  {
   "cell_type": "code",
   "execution_count": 23,
   "metadata": {
    "scrolled": false
   },
   "outputs": [],
   "source": [
    "df = df.apply(get_coords, axis=1)"
   ]
  },
  {
   "cell_type": "code",
   "execution_count": 24,
   "metadata": {},
   "outputs": [],
   "source": [
    "def prop_ids(x):\n",
    "    if x['attacktype1_txt'] == \"Facility/Infrastructure Attack\":\n",
    "        x['properties.name'] = x['attacktype1_txt']\n",
    "        x['properties.color'] = \"#20365E\"\n",
    "        x['properties_color'] = x['properties.color']\n",
    "        x['properties.group_name'] = x['properties.name']\n",
    "        x['properties.group_id'] = 1\n",
    "        x['properties.radius'] = x.nkill\n",
    "        return x\n",
    "    elif x['attacktype1_txt'] == \"Armed Assault\":\n",
    "        x['properties.name'] = x['attacktype1_txt']\n",
    "        x['properties.color'] = \"#E84C3D\"\n",
    "        x['properties_color'] = x['properties.color']\n",
    "        x['properties.group_name'] = x['properties.name']\n",
    "        x['properties.group_id'] = 2\n",
    "        x['properties.radius'] = x.nkill\n",
    "        return x\n",
    "    elif x['attacktype1_txt'] == \"Bombing/Explosion\":\n",
    "        x['properties.name'] = x['attacktype1_txt']\n",
    "        x['properties.color'] = \"#D25302\"\n",
    "        x['properties_color'] = x['properties.color']\n",
    "        x['properties.group_name'] = x['properties.name']\n",
    "        x['properties.group_id'] = 3\n",
    "        x['properties.radius'] = x.nkill\n",
    "        return x\n",
    "    elif x['attacktype1_txt'] == \"Unarmed Assault\":\n",
    "        x['properties.name'] = x['attacktype1_txt']\n",
    "        x['properties.color'] = \"#FDDBB0\"\n",
    "        x['properties_color'] = x['properties.color']\n",
    "        x['properties.group_name'] = x['properties.name']\n",
    "        x['properties.group_id'] = 4\n",
    "        x['properties.radius'] = x.nkill\n",
    "        return x\n",
    "    elif x['attacktype1_txt'] == \"Hostage Taking (Barricade Incident)\":\n",
    "        x['properties.name'] = x['attacktype1_txt']\n",
    "        x['properties.color'] = \"#354A5F\"\n",
    "        x['properties_color'] = x['properties.color']\n",
    "        x['properties.group_name'] = x['properties.name']\n",
    "        x['properties.group_id'] = 5\n",
    "        x['properties.radius'] = x.nkill\n",
    "        return x\n",
    "    elif x['attacktype1_txt'] == \"Assassination\":\n",
    "        x['properties.name'] = x['attacktype1_txt']\n",
    "        x['properties.color'] = \"#9A59B5\"\n",
    "        x['properties_color'] = x['properties.color']\n",
    "        x['properties.group_name'] = x['properties.name']\n",
    "        x['properties.group_id'] = 6\n",
    "        x['properties.radius'] = x.nkill\n",
    "        return x\n",
    "    elif x['attacktype1_txt'] == \"Hostage Taking (Kidnapping)\":\n",
    "        x['properties.name'] = x['attacktype1_txt']\n",
    "        x['properties.color'] = \"#3598DB\"\n",
    "        x['properties_color'] = x['properties.color']\n",
    "        x['properties.group_name'] = x['properties.name']\n",
    "        x['properties.group_id'] = 7\n",
    "        x['properties.radius'] = x.nkill\n",
    "        return x\n",
    "    elif x['attacktype1_txt'] == \"Hijacking\":\n",
    "        x['properties.name'] = x['attacktype1_txt']\n",
    "        x['properties.color'] = \"#1CBB9B\"\n",
    "        x['properties_color'] = x['properties.color']\n",
    "        x['properties.group_name'] = x['properties.name']\n",
    "        x['properties.group_id'] = 8\n",
    "        x['properties.radius'] = x.nkill\n",
    "        return x\n",
    "    else:\n",
    "        x['properties.name'] = x['attacktype1_txt']\n",
    "        x['properties.color'] = \"#1CBB9B\"\n",
    "        x['properties_color'] = x['properties.color']\n",
    "        x['properties.group_name'] = x['properties.name']\n",
    "        x['properties.group_id'] = 9\n",
    "        x['properties.radius'] = x.nkill\n",
    "        return x"
   ]
  },
  {
   "cell_type": "code",
   "execution_count": 25,
   "metadata": {},
   "outputs": [],
   "source": [
    "df = df.apply(prop_ids, axis=1)"
   ]
  },
  {
   "cell_type": "code",
   "execution_count": 26,
   "metadata": {},
   "outputs": [],
   "source": [
    "def prop_headline(x):\n",
    "    return x"
   ]
  },
  {
   "cell_type": "code",
   "execution_count": 27,
   "metadata": {},
   "outputs": [],
   "source": [
    "df['properties.headline'] = df.gname.apply(lambda x: prop_headline(x))"
   ]
  },
  {
   "cell_type": "code",
   "execution_count": 28,
   "metadata": {
    "scrolled": true
   },
   "outputs": [
    {
     "data": {
      "text/plain": [
       "(129, 47)"
      ]
     },
     "execution_count": 28,
     "metadata": {},
     "output_type": "execute_result"
    }
   ],
   "source": [
    "df.shape"
   ]
  },
  {
   "cell_type": "code",
   "execution_count": 29,
   "metadata": {},
   "outputs": [],
   "source": [
    "def prop_article(row):\n",
    "    return f\"\\\n",
    "    <div id='article_container'>\\\n",
    "    <h2>{row.gname}</h1>\\\n",
    "    <div id='headline'><h4 style='border-bottom: 3px solid {row.properties_color}'>{row.attacktype1_txt}</h2></div>\\\n",
    "    <p >{row.summary}</p>\\\n",
    "    <p><b>People killed:</b> {row.nkill} people</p>\\\n",
    "    <p><b>People Wounded:</b> {row.nwound}.</p>\\\n",
    "    <p><b>Target:</b> {row.targtype1_txt}\\\n",
    "    </div>\" \n"
   ]
  },
  {
   "cell_type": "code",
   "execution_count": 30,
   "metadata": {},
   "outputs": [],
   "source": [
    "df['properties.article'] = df.apply(prop_article, axis=1)"
   ]
  },
  {
   "cell_type": "code",
   "execution_count": 31,
   "metadata": {},
   "outputs": [],
   "source": [
    "df.to_csv(\"terrorism_us_map.csv\", index=False)"
   ]
  },
  {
   "cell_type": "code",
   "execution_count": 32,
   "metadata": {},
   "outputs": [],
   "source": [
    "map_df = pd.read_csv(\"terrorism_us_map.csv\", thousands=\",\", usecols=['geometry.coordinates', 'geometry.type', 'properties.name', 'properties.headline', 'properties.article', 'properties.color', 'properties.group_id', 'properties.group_name', 'properties.radius'])"
   ]
  },
  {
   "cell_type": "code",
   "execution_count": 33,
   "metadata": {},
   "outputs": [],
   "source": [
    "map_df['geometry.coordinates'] = map_df['geometry.coordinates'].apply(json.loads)"
   ]
  },
  {
   "cell_type": "code",
   "execution_count": 34,
   "metadata": {},
   "outputs": [],
   "source": [
    "ok_json = json.loads(map_df.to_json(orient='records'))"
   ]
  },
  {
   "cell_type": "code",
   "execution_count": 35,
   "metadata": {},
   "outputs": [],
   "source": [
    "def process_to_geojson(file):\n",
    "    geo_data = {\"type\": \"FeatureCollection\", \"features\":[]}\n",
    "    for row in file:\n",
    "        this_dict = {\"type\": \"Feature\", \"properties\":{}, \"geometry\": {}}\n",
    "        for key, value in row.items():\n",
    "            key_names = key.split('.')\n",
    "            if key_names[0] == 'geometry':\n",
    "                this_dict['geometry'][key_names[1]] = value\n",
    "            if str(key_names[0]) == 'properties':\n",
    "                this_dict['properties'][key_names[1]] = value\n",
    "        geo_data['features'].append(this_dict)\n",
    "    return geo_data"
   ]
  },
  {
   "cell_type": "code",
   "execution_count": 36,
   "metadata": {},
   "outputs": [],
   "source": [
    "geo_format = process_to_geojson(ok_json)"
   ]
  },
  {
   "cell_type": "code",
   "execution_count": 37,
   "metadata": {},
   "outputs": [],
   "source": [
    "with open('geo-data.js', 'w') as outfile:\n",
    "    outfile.write(\"var infoData = \" + json.dumps(geo_format))"
   ]
  },
  {
   "cell_type": "code",
   "execution_count": null,
   "metadata": {},
   "outputs": [],
   "source": []
  },
  {
   "cell_type": "markdown",
   "metadata": {},
   "source": [
    "## Zooming out to look at each state"
   ]
  },
  {
   "cell_type": "code",
   "execution_count": 38,
   "metadata": {},
   "outputs": [],
   "source": [
    "state_counts = pd.DataFrame(df['provstate'].value_counts()).reset_index()"
   ]
  },
  {
   "cell_type": "code",
   "execution_count": 39,
   "metadata": {},
   "outputs": [
    {
     "data": {
      "text/html": [
       "<div>\n",
       "<style scoped>\n",
       "    .dataframe tbody tr th:only-of-type {\n",
       "        vertical-align: middle;\n",
       "    }\n",
       "\n",
       "    .dataframe tbody tr th {\n",
       "        vertical-align: top;\n",
       "    }\n",
       "\n",
       "    .dataframe thead th {\n",
       "        text-align: right;\n",
       "    }\n",
       "</style>\n",
       "<table border=\"1\" class=\"dataframe\">\n",
       "  <thead>\n",
       "    <tr style=\"text-align: right;\">\n",
       "      <th></th>\n",
       "      <th>index</th>\n",
       "      <th>provstate</th>\n",
       "    </tr>\n",
       "  </thead>\n",
       "  <tbody>\n",
       "    <tr>\n",
       "      <th>0</th>\n",
       "      <td>New York</td>\n",
       "      <td>18</td>\n",
       "    </tr>\n",
       "    <tr>\n",
       "      <th>1</th>\n",
       "      <td>Florida</td>\n",
       "      <td>13</td>\n",
       "    </tr>\n",
       "    <tr>\n",
       "      <th>2</th>\n",
       "      <td>California</td>\n",
       "      <td>9</td>\n",
       "    </tr>\n",
       "    <tr>\n",
       "      <th>3</th>\n",
       "      <td>Texas</td>\n",
       "      <td>8</td>\n",
       "    </tr>\n",
       "    <tr>\n",
       "      <th>4</th>\n",
       "      <td>Pennsylvania</td>\n",
       "      <td>6</td>\n",
       "    </tr>\n",
       "  </tbody>\n",
       "</table>\n",
       "</div>"
      ],
      "text/plain": [
       "          index  provstate\n",
       "0  New York      18       \n",
       "1  Florida       13       \n",
       "2  California    9        \n",
       "3  Texas         8        \n",
       "4  Pennsylvania  6        "
      ]
     },
     "execution_count": 39,
     "metadata": {},
     "output_type": "execute_result"
    }
   ],
   "source": [
    "state_counts.head()"
   ]
  },
  {
   "cell_type": "code",
   "execution_count": 40,
   "metadata": {
    "scrolled": true
   },
   "outputs": [],
   "source": [
    "state_counts = state_counts.merge(pops, left_on='index', right_on='NAME')"
   ]
  },
  {
   "cell_type": "code",
   "execution_count": 41,
   "metadata": {
    "scrolled": true
   },
   "outputs": [
    {
     "data": {
      "text/html": [
       "<div>\n",
       "<style scoped>\n",
       "    .dataframe tbody tr th:only-of-type {\n",
       "        vertical-align: middle;\n",
       "    }\n",
       "\n",
       "    .dataframe tbody tr th {\n",
       "        vertical-align: top;\n",
       "    }\n",
       "\n",
       "    .dataframe thead th {\n",
       "        text-align: right;\n",
       "    }\n",
       "</style>\n",
       "<table border=\"1\" class=\"dataframe\">\n",
       "  <thead>\n",
       "    <tr style=\"text-align: right;\">\n",
       "      <th></th>\n",
       "      <th>index</th>\n",
       "      <th>provstate</th>\n",
       "      <th>SUMLEV</th>\n",
       "      <th>REGION</th>\n",
       "      <th>DIVISION</th>\n",
       "      <th>STATE</th>\n",
       "      <th>NAME</th>\n",
       "      <th>POPESTIMATE2018</th>\n",
       "      <th>POPEST18PLUS2018</th>\n",
       "      <th>PCNT_POPEST18PLUS</th>\n",
       "      <th>per_capita</th>\n",
       "    </tr>\n",
       "  </thead>\n",
       "  <tbody>\n",
       "    <tr>\n",
       "      <th>0</th>\n",
       "      <td>New York</td>\n",
       "      <td>18</td>\n",
       "      <td>40</td>\n",
       "      <td>1</td>\n",
       "      <td>2</td>\n",
       "      <td>36</td>\n",
       "      <td>New York</td>\n",
       "      <td>19542209</td>\n",
       "      <td>15474107</td>\n",
       "      <td>79.2</td>\n",
       "      <td>9.210832</td>\n",
       "    </tr>\n",
       "    <tr>\n",
       "      <th>1</th>\n",
       "      <td>Florida</td>\n",
       "      <td>13</td>\n",
       "      <td>40</td>\n",
       "      <td>3</td>\n",
       "      <td>5</td>\n",
       "      <td>12</td>\n",
       "      <td>Florida</td>\n",
       "      <td>21299325</td>\n",
       "      <td>17070244</td>\n",
       "      <td>80.1</td>\n",
       "      <td>6.103480</td>\n",
       "    </tr>\n",
       "    <tr>\n",
       "      <th>2</th>\n",
       "      <td>California</td>\n",
       "      <td>9</td>\n",
       "      <td>40</td>\n",
       "      <td>4</td>\n",
       "      <td>9</td>\n",
       "      <td>6</td>\n",
       "      <td>California</td>\n",
       "      <td>39557045</td>\n",
       "      <td>30567090</td>\n",
       "      <td>77.3</td>\n",
       "      <td>2.275195</td>\n",
       "    </tr>\n",
       "    <tr>\n",
       "      <th>3</th>\n",
       "      <td>Texas</td>\n",
       "      <td>8</td>\n",
       "      <td>40</td>\n",
       "      <td>3</td>\n",
       "      <td>7</td>\n",
       "      <td>48</td>\n",
       "      <td>Texas</td>\n",
       "      <td>28701845</td>\n",
       "      <td>21303746</td>\n",
       "      <td>74.2</td>\n",
       "      <td>2.787277</td>\n",
       "    </tr>\n",
       "    <tr>\n",
       "      <th>4</th>\n",
       "      <td>Pennsylvania</td>\n",
       "      <td>6</td>\n",
       "      <td>40</td>\n",
       "      <td>1</td>\n",
       "      <td>2</td>\n",
       "      <td>42</td>\n",
       "      <td>Pennsylvania</td>\n",
       "      <td>12807060</td>\n",
       "      <td>10158149</td>\n",
       "      <td>79.3</td>\n",
       "      <td>4.684916</td>\n",
       "    </tr>\n",
       "    <tr>\n",
       "      <th>5</th>\n",
       "      <td>Washington</td>\n",
       "      <td>6</td>\n",
       "      <td>40</td>\n",
       "      <td>4</td>\n",
       "      <td>9</td>\n",
       "      <td>53</td>\n",
       "      <td>Washington</td>\n",
       "      <td>7535591</td>\n",
       "      <td>5872306</td>\n",
       "      <td>77.9</td>\n",
       "      <td>7.962216</td>\n",
       "    </tr>\n",
       "    <tr>\n",
       "      <th>6</th>\n",
       "      <td>Missouri</td>\n",
       "      <td>6</td>\n",
       "      <td>40</td>\n",
       "      <td>2</td>\n",
       "      <td>4</td>\n",
       "      <td>29</td>\n",
       "      <td>Missouri</td>\n",
       "      <td>6126452</td>\n",
       "      <td>4749622</td>\n",
       "      <td>77.5</td>\n",
       "      <td>9.793597</td>\n",
       "    </tr>\n",
       "    <tr>\n",
       "      <th>7</th>\n",
       "      <td>Louisiana</td>\n",
       "      <td>5</td>\n",
       "      <td>40</td>\n",
       "      <td>3</td>\n",
       "      <td>7</td>\n",
       "      <td>22</td>\n",
       "      <td>Louisiana</td>\n",
       "      <td>4659978</td>\n",
       "      <td>3564062</td>\n",
       "      <td>76.5</td>\n",
       "      <td>10.729664</td>\n",
       "    </tr>\n",
       "    <tr>\n",
       "      <th>8</th>\n",
       "      <td>Iowa</td>\n",
       "      <td>5</td>\n",
       "      <td>40</td>\n",
       "      <td>2</td>\n",
       "      <td>4</td>\n",
       "      <td>19</td>\n",
       "      <td>Iowa</td>\n",
       "      <td>3156145</td>\n",
       "      <td>2425378</td>\n",
       "      <td>76.8</td>\n",
       "      <td>15.842111</td>\n",
       "    </tr>\n",
       "    <tr>\n",
       "      <th>9</th>\n",
       "      <td>Nevada</td>\n",
       "      <td>5</td>\n",
       "      <td>40</td>\n",
       "      <td>4</td>\n",
       "      <td>8</td>\n",
       "      <td>32</td>\n",
       "      <td>Nevada</td>\n",
       "      <td>3034392</td>\n",
       "      <td>2345395</td>\n",
       "      <td>77.3</td>\n",
       "      <td>16.477766</td>\n",
       "    </tr>\n",
       "    <tr>\n",
       "      <th>10</th>\n",
       "      <td>Virginia</td>\n",
       "      <td>4</td>\n",
       "      <td>40</td>\n",
       "      <td>3</td>\n",
       "      <td>5</td>\n",
       "      <td>51</td>\n",
       "      <td>Virginia</td>\n",
       "      <td>8517685</td>\n",
       "      <td>6647893</td>\n",
       "      <td>78.0</td>\n",
       "      <td>4.696112</td>\n",
       "    </tr>\n",
       "    <tr>\n",
       "      <th>11</th>\n",
       "      <td>Indiana</td>\n",
       "      <td>4</td>\n",
       "      <td>40</td>\n",
       "      <td>2</td>\n",
       "      <td>3</td>\n",
       "      <td>18</td>\n",
       "      <td>Indiana</td>\n",
       "      <td>6691878</td>\n",
       "      <td>5123748</td>\n",
       "      <td>76.6</td>\n",
       "      <td>5.977395</td>\n",
       "    </tr>\n",
       "    <tr>\n",
       "      <th>12</th>\n",
       "      <td>North Carolina</td>\n",
       "      <td>4</td>\n",
       "      <td>40</td>\n",
       "      <td>3</td>\n",
       "      <td>5</td>\n",
       "      <td>37</td>\n",
       "      <td>North Carolina</td>\n",
       "      <td>10383620</td>\n",
       "      <td>8082975</td>\n",
       "      <td>77.8</td>\n",
       "      <td>3.852221</td>\n",
       "    </tr>\n",
       "    <tr>\n",
       "      <th>13</th>\n",
       "      <td>Nebraska</td>\n",
       "      <td>3</td>\n",
       "      <td>40</td>\n",
       "      <td>2</td>\n",
       "      <td>4</td>\n",
       "      <td>31</td>\n",
       "      <td>Nebraska</td>\n",
       "      <td>1929268</td>\n",
       "      <td>1452427</td>\n",
       "      <td>75.3</td>\n",
       "      <td>15.549939</td>\n",
       "    </tr>\n",
       "    <tr>\n",
       "      <th>14</th>\n",
       "      <td>Massachusetts</td>\n",
       "      <td>3</td>\n",
       "      <td>40</td>\n",
       "      <td>1</td>\n",
       "      <td>1</td>\n",
       "      <td>25</td>\n",
       "      <td>Massachusetts</td>\n",
       "      <td>6902149</td>\n",
       "      <td>5535291</td>\n",
       "      <td>80.2</td>\n",
       "      <td>4.346472</td>\n",
       "    </tr>\n",
       "    <tr>\n",
       "      <th>15</th>\n",
       "      <td>Minnesota</td>\n",
       "      <td>2</td>\n",
       "      <td>40</td>\n",
       "      <td>2</td>\n",
       "      <td>4</td>\n",
       "      <td>27</td>\n",
       "      <td>Minnesota</td>\n",
       "      <td>5611179</td>\n",
       "      <td>4308564</td>\n",
       "      <td>76.8</td>\n",
       "      <td>3.564313</td>\n",
       "    </tr>\n",
       "    <tr>\n",
       "      <th>16</th>\n",
       "      <td>Tennessee</td>\n",
       "      <td>2</td>\n",
       "      <td>40</td>\n",
       "      <td>3</td>\n",
       "      <td>6</td>\n",
       "      <td>47</td>\n",
       "      <td>Tennessee</td>\n",
       "      <td>6770010</td>\n",
       "      <td>5263790</td>\n",
       "      <td>77.8</td>\n",
       "      <td>2.954205</td>\n",
       "    </tr>\n",
       "    <tr>\n",
       "      <th>17</th>\n",
       "      <td>Ohio</td>\n",
       "      <td>2</td>\n",
       "      <td>40</td>\n",
       "      <td>2</td>\n",
       "      <td>3</td>\n",
       "      <td>39</td>\n",
       "      <td>Ohio</td>\n",
       "      <td>11689442</td>\n",
       "      <td>9096117</td>\n",
       "      <td>77.8</td>\n",
       "      <td>1.710946</td>\n",
       "    </tr>\n",
       "    <tr>\n",
       "      <th>18</th>\n",
       "      <td>New Mexico</td>\n",
       "      <td>2</td>\n",
       "      <td>40</td>\n",
       "      <td>4</td>\n",
       "      <td>8</td>\n",
       "      <td>35</td>\n",
       "      <td>New Mexico</td>\n",
       "      <td>2095428</td>\n",
       "      <td>1613275</td>\n",
       "      <td>77.0</td>\n",
       "      <td>9.544589</td>\n",
       "    </tr>\n",
       "    <tr>\n",
       "      <th>19</th>\n",
       "      <td>Illinois</td>\n",
       "      <td>2</td>\n",
       "      <td>40</td>\n",
       "      <td>2</td>\n",
       "      <td>3</td>\n",
       "      <td>17</td>\n",
       "      <td>Illinois</td>\n",
       "      <td>12741080</td>\n",
       "      <td>9883814</td>\n",
       "      <td>77.6</td>\n",
       "      <td>1.569726</td>\n",
       "    </tr>\n",
       "    <tr>\n",
       "      <th>20</th>\n",
       "      <td>Oregon</td>\n",
       "      <td>2</td>\n",
       "      <td>40</td>\n",
       "      <td>4</td>\n",
       "      <td>9</td>\n",
       "      <td>41</td>\n",
       "      <td>Oregon</td>\n",
       "      <td>4190713</td>\n",
       "      <td>3317146</td>\n",
       "      <td>79.2</td>\n",
       "      <td>4.772458</td>\n",
       "    </tr>\n",
       "    <tr>\n",
       "      <th>21</th>\n",
       "      <td>New Jersey</td>\n",
       "      <td>2</td>\n",
       "      <td>40</td>\n",
       "      <td>1</td>\n",
       "      <td>2</td>\n",
       "      <td>34</td>\n",
       "      <td>New Jersey</td>\n",
       "      <td>8908520</td>\n",
       "      <td>6954877</td>\n",
       "      <td>78.1</td>\n",
       "      <td>2.245042</td>\n",
       "    </tr>\n",
       "    <tr>\n",
       "      <th>22</th>\n",
       "      <td>Kentucky</td>\n",
       "      <td>2</td>\n",
       "      <td>40</td>\n",
       "      <td>3</td>\n",
       "      <td>6</td>\n",
       "      <td>21</td>\n",
       "      <td>Kentucky</td>\n",
       "      <td>4468402</td>\n",
       "      <td>3459573</td>\n",
       "      <td>77.4</td>\n",
       "      <td>4.475873</td>\n",
       "    </tr>\n",
       "    <tr>\n",
       "      <th>23</th>\n",
       "      <td>Kansas</td>\n",
       "      <td>1</td>\n",
       "      <td>40</td>\n",
       "      <td>2</td>\n",
       "      <td>4</td>\n",
       "      <td>20</td>\n",
       "      <td>Kansas</td>\n",
       "      <td>2911505</td>\n",
       "      <td>2205544</td>\n",
       "      <td>75.8</td>\n",
       "      <td>3.434650</td>\n",
       "    </tr>\n",
       "    <tr>\n",
       "      <th>24</th>\n",
       "      <td>Colorado</td>\n",
       "      <td>1</td>\n",
       "      <td>40</td>\n",
       "      <td>4</td>\n",
       "      <td>8</td>\n",
       "      <td>8</td>\n",
       "      <td>Colorado</td>\n",
       "      <td>5695564</td>\n",
       "      <td>4430329</td>\n",
       "      <td>77.8</td>\n",
       "      <td>1.755752</td>\n",
       "    </tr>\n",
       "    <tr>\n",
       "      <th>25</th>\n",
       "      <td>Mississippi</td>\n",
       "      <td>1</td>\n",
       "      <td>40</td>\n",
       "      <td>3</td>\n",
       "      <td>6</td>\n",
       "      <td>28</td>\n",
       "      <td>Mississippi</td>\n",
       "      <td>2986530</td>\n",
       "      <td>2280389</td>\n",
       "      <td>76.4</td>\n",
       "      <td>3.348368</td>\n",
       "    </tr>\n",
       "    <tr>\n",
       "      <th>26</th>\n",
       "      <td>North Dakota</td>\n",
       "      <td>1</td>\n",
       "      <td>40</td>\n",
       "      <td>2</td>\n",
       "      <td>4</td>\n",
       "      <td>38</td>\n",
       "      <td>North Dakota</td>\n",
       "      <td>760077</td>\n",
       "      <td>581379</td>\n",
       "      <td>76.5</td>\n",
       "      <td>13.156562</td>\n",
       "    </tr>\n",
       "    <tr>\n",
       "      <th>27</th>\n",
       "      <td>District of Columbia</td>\n",
       "      <td>1</td>\n",
       "      <td>40</td>\n",
       "      <td>3</td>\n",
       "      <td>5</td>\n",
       "      <td>11</td>\n",
       "      <td>District of Columbia</td>\n",
       "      <td>702455</td>\n",
       "      <td>574961</td>\n",
       "      <td>81.9</td>\n",
       "      <td>14.235787</td>\n",
       "    </tr>\n",
       "    <tr>\n",
       "      <th>28</th>\n",
       "      <td>Maryland</td>\n",
       "      <td>1</td>\n",
       "      <td>40</td>\n",
       "      <td>3</td>\n",
       "      <td>5</td>\n",
       "      <td>24</td>\n",
       "      <td>Maryland</td>\n",
       "      <td>6042718</td>\n",
       "      <td>4702570</td>\n",
       "      <td>77.8</td>\n",
       "      <td>1.654884</td>\n",
       "    </tr>\n",
       "    <tr>\n",
       "      <th>29</th>\n",
       "      <td>Idaho</td>\n",
       "      <td>1</td>\n",
       "      <td>40</td>\n",
       "      <td>4</td>\n",
       "      <td>8</td>\n",
       "      <td>16</td>\n",
       "      <td>Idaho</td>\n",
       "      <td>1754208</td>\n",
       "      <td>1307236</td>\n",
       "      <td>74.5</td>\n",
       "      <td>5.700578</td>\n",
       "    </tr>\n",
       "    <tr>\n",
       "      <th>30</th>\n",
       "      <td>Michigan</td>\n",
       "      <td>1</td>\n",
       "      <td>40</td>\n",
       "      <td>2</td>\n",
       "      <td>3</td>\n",
       "      <td>26</td>\n",
       "      <td>Michigan</td>\n",
       "      <td>9995915</td>\n",
       "      <td>7831247</td>\n",
       "      <td>78.3</td>\n",
       "      <td>1.000409</td>\n",
       "    </tr>\n",
       "  </tbody>\n",
       "</table>\n",
       "</div>"
      ],
      "text/plain": [
       "                   index  provstate  SUMLEV REGION DIVISION  STATE  \\\n",
       "0   New York              18         40      1      2        36      \n",
       "1   Florida               13         40      3      5        12      \n",
       "2   California            9          40      4      9        6       \n",
       "3   Texas                 8          40      3      7        48      \n",
       "4   Pennsylvania          6          40      1      2        42      \n",
       "5   Washington            6          40      4      9        53      \n",
       "6   Missouri              6          40      2      4        29      \n",
       "7   Louisiana             5          40      3      7        22      \n",
       "8   Iowa                  5          40      2      4        19      \n",
       "9   Nevada                5          40      4      8        32      \n",
       "10  Virginia              4          40      3      5        51      \n",
       "11  Indiana               4          40      2      3        18      \n",
       "12  North Carolina        4          40      3      5        37      \n",
       "13  Nebraska              3          40      2      4        31      \n",
       "14  Massachusetts         3          40      1      1        25      \n",
       "15  Minnesota             2          40      2      4        27      \n",
       "16  Tennessee             2          40      3      6        47      \n",
       "17  Ohio                  2          40      2      3        39      \n",
       "18  New Mexico            2          40      4      8        35      \n",
       "19  Illinois              2          40      2      3        17      \n",
       "20  Oregon                2          40      4      9        41      \n",
       "21  New Jersey            2          40      1      2        34      \n",
       "22  Kentucky              2          40      3      6        21      \n",
       "23  Kansas                1          40      2      4        20      \n",
       "24  Colorado              1          40      4      8        8       \n",
       "25  Mississippi           1          40      3      6        28      \n",
       "26  North Dakota          1          40      2      4        38      \n",
       "27  District of Columbia  1          40      3      5        11      \n",
       "28  Maryland              1          40      3      5        24      \n",
       "29  Idaho                 1          40      4      8        16      \n",
       "30  Michigan              1          40      2      3        26      \n",
       "\n",
       "                    NAME  POPESTIMATE2018  POPEST18PLUS2018  \\\n",
       "0   New York              19542209         15474107           \n",
       "1   Florida               21299325         17070244           \n",
       "2   California            39557045         30567090           \n",
       "3   Texas                 28701845         21303746           \n",
       "4   Pennsylvania          12807060         10158149           \n",
       "5   Washington            7535591          5872306            \n",
       "6   Missouri              6126452          4749622            \n",
       "7   Louisiana             4659978          3564062            \n",
       "8   Iowa                  3156145          2425378            \n",
       "9   Nevada                3034392          2345395            \n",
       "10  Virginia              8517685          6647893            \n",
       "11  Indiana               6691878          5123748            \n",
       "12  North Carolina        10383620         8082975            \n",
       "13  Nebraska              1929268          1452427            \n",
       "14  Massachusetts         6902149          5535291            \n",
       "15  Minnesota             5611179          4308564            \n",
       "16  Tennessee             6770010          5263790            \n",
       "17  Ohio                  11689442         9096117            \n",
       "18  New Mexico            2095428          1613275            \n",
       "19  Illinois              12741080         9883814            \n",
       "20  Oregon                4190713          3317146            \n",
       "21  New Jersey            8908520          6954877            \n",
       "22  Kentucky              4468402          3459573            \n",
       "23  Kansas                2911505          2205544            \n",
       "24  Colorado              5695564          4430329            \n",
       "25  Mississippi           2986530          2280389            \n",
       "26  North Dakota          760077           581379             \n",
       "27  District of Columbia  702455           574961             \n",
       "28  Maryland              6042718          4702570            \n",
       "29  Idaho                 1754208          1307236            \n",
       "30  Michigan              9995915          7831247            \n",
       "\n",
       "    PCNT_POPEST18PLUS  per_capita  \n",
       "0   79.2               9.210832    \n",
       "1   80.1               6.103480    \n",
       "2   77.3               2.275195    \n",
       "3   74.2               2.787277    \n",
       "4   79.3               4.684916    \n",
       "5   77.9               7.962216    \n",
       "6   77.5               9.793597    \n",
       "7   76.5               10.729664   \n",
       "8   76.8               15.842111   \n",
       "9   77.3               16.477766   \n",
       "10  78.0               4.696112    \n",
       "11  76.6               5.977395    \n",
       "12  77.8               3.852221    \n",
       "13  75.3               15.549939   \n",
       "14  80.2               4.346472    \n",
       "15  76.8               3.564313    \n",
       "16  77.8               2.954205    \n",
       "17  77.8               1.710946    \n",
       "18  77.0               9.544589    \n",
       "19  77.6               1.569726    \n",
       "20  79.2               4.772458    \n",
       "21  78.1               2.245042    \n",
       "22  77.4               4.475873    \n",
       "23  75.8               3.434650    \n",
       "24  77.8               1.755752    \n",
       "25  76.4               3.348368    \n",
       "26  76.5               13.156562   \n",
       "27  81.9               14.235787   \n",
       "28  77.8               1.654884    \n",
       "29  74.5               5.700578    \n",
       "30  78.3               1.000409    "
      ]
     },
     "execution_count": 41,
     "metadata": {},
     "output_type": "execute_result"
    }
   ],
   "source": [
    "state_counts['per_capita'] = (state_counts['provstate'] / state_counts['POPESTIMATE2018']) * 10000000\n",
    "state_counts"
   ]
  },
  {
   "cell_type": "code",
   "execution_count": 42,
   "metadata": {
    "scrolled": false
   },
   "outputs": [
    {
     "data": {
      "text/plain": [
       "<matplotlib.axes._subplots.AxesSubplot at 0x285f601beb8>"
      ]
     },
     "execution_count": 42,
     "metadata": {},
     "output_type": "execute_result"
    },
    {
     "data": {
      "image/png": "[encoded data removed]",
      "text/plain": [
       "<Figure size 504x1080 with 1 Axes>"
      ]
     },
     "metadata": {
      "needs_background": "light"
     },
     "output_type": "display_data"
    }
   ],
   "source": [
    "state_counts.sort_values(by='per_capita').plot(kind=\"barh\", x='index', y='per_capita', figsize=(7,15), legend=False, width=.5)"
   ]
  },
  {
   "cell_type": "code",
   "execution_count": 43,
   "metadata": {},
   "outputs": [],
   "source": [
    "latlong = pd.read_csv('C:/Users/sawye/Documents/Random__data/geographic/states/us-state-capitals.csv')"
   ]
  },
  {
   "cell_type": "code",
   "execution_count": 44,
   "metadata": {},
   "outputs": [],
   "source": [
    "state_counts = state_counts.merge(latlong, right_on='state', left_on='index')"
   ]
  },
  {
   "cell_type": "code",
   "execution_count": 45,
   "metadata": {},
   "outputs": [
    {
     "data": {
      "text/html": [
       "<div>\n",
       "<style scoped>\n",
       "    .dataframe tbody tr th:only-of-type {\n",
       "        vertical-align: middle;\n",
       "    }\n",
       "\n",
       "    .dataframe tbody tr th {\n",
       "        vertical-align: top;\n",
       "    }\n",
       "\n",
       "    .dataframe thead th {\n",
       "        text-align: right;\n",
       "    }\n",
       "</style>\n",
       "<table border=\"1\" class=\"dataframe\">\n",
       "  <thead>\n",
       "    <tr style=\"text-align: right;\">\n",
       "      <th></th>\n",
       "      <th>index</th>\n",
       "      <th>provstate</th>\n",
       "      <th>SUMLEV</th>\n",
       "      <th>REGION</th>\n",
       "      <th>DIVISION</th>\n",
       "      <th>STATE</th>\n",
       "      <th>NAME</th>\n",
       "      <th>POPESTIMATE2018</th>\n",
       "      <th>POPEST18PLUS2018</th>\n",
       "      <th>PCNT_POPEST18PLUS</th>\n",
       "      <th>per_capita</th>\n",
       "      <th>state</th>\n",
       "      <th>description</th>\n",
       "      <th>Latitude</th>\n",
       "      <th>Longitude</th>\n",
       "    </tr>\n",
       "  </thead>\n",
       "  <tbody>\n",
       "    <tr>\n",
       "      <th>0</th>\n",
       "      <td>New York</td>\n",
       "      <td>18</td>\n",
       "      <td>40</td>\n",
       "      <td>1</td>\n",
       "      <td>2</td>\n",
       "      <td>36</td>\n",
       "      <td>New York</td>\n",
       "      <td>19542209</td>\n",
       "      <td>15474107</td>\n",
       "      <td>79.2</td>\n",
       "      <td>9.210832</td>\n",
       "      <td>New York</td>\n",
       "      <td>Albany</td>\n",
       "      <td>42.652843</td>\n",
       "      <td>-73.757874</td>\n",
       "    </tr>\n",
       "    <tr>\n",
       "      <th>1</th>\n",
       "      <td>Florida</td>\n",
       "      <td>13</td>\n",
       "      <td>40</td>\n",
       "      <td>3</td>\n",
       "      <td>5</td>\n",
       "      <td>12</td>\n",
       "      <td>Florida</td>\n",
       "      <td>21299325</td>\n",
       "      <td>17070244</td>\n",
       "      <td>80.1</td>\n",
       "      <td>6.103480</td>\n",
       "      <td>Florida</td>\n",
       "      <td>Tallahassee</td>\n",
       "      <td>30.438118</td>\n",
       "      <td>-84.281296</td>\n",
       "    </tr>\n",
       "    <tr>\n",
       "      <th>2</th>\n",
       "      <td>California</td>\n",
       "      <td>9</td>\n",
       "      <td>40</td>\n",
       "      <td>4</td>\n",
       "      <td>9</td>\n",
       "      <td>6</td>\n",
       "      <td>California</td>\n",
       "      <td>39557045</td>\n",
       "      <td>30567090</td>\n",
       "      <td>77.3</td>\n",
       "      <td>2.275195</td>\n",
       "      <td>California</td>\n",
       "      <td>Sacramento</td>\n",
       "      <td>38.576668</td>\n",
       "      <td>-121.493629</td>\n",
       "    </tr>\n",
       "    <tr>\n",
       "      <th>3</th>\n",
       "      <td>Texas</td>\n",
       "      <td>8</td>\n",
       "      <td>40</td>\n",
       "      <td>3</td>\n",
       "      <td>7</td>\n",
       "      <td>48</td>\n",
       "      <td>Texas</td>\n",
       "      <td>28701845</td>\n",
       "      <td>21303746</td>\n",
       "      <td>74.2</td>\n",
       "      <td>2.787277</td>\n",
       "      <td>Texas</td>\n",
       "      <td>Austin</td>\n",
       "      <td>30.274670</td>\n",
       "      <td>-97.740349</td>\n",
       "    </tr>\n",
       "    <tr>\n",
       "      <th>4</th>\n",
       "      <td>Pennsylvania</td>\n",
       "      <td>6</td>\n",
       "      <td>40</td>\n",
       "      <td>1</td>\n",
       "      <td>2</td>\n",
       "      <td>42</td>\n",
       "      <td>Pennsylvania</td>\n",
       "      <td>12807060</td>\n",
       "      <td>10158149</td>\n",
       "      <td>79.3</td>\n",
       "      <td>4.684916</td>\n",
       "      <td>Pennsylvania</td>\n",
       "      <td>Harrisburg</td>\n",
       "      <td>40.264378</td>\n",
       "      <td>-76.883598</td>\n",
       "    </tr>\n",
       "  </tbody>\n",
       "</table>\n",
       "</div>"
      ],
      "text/plain": [
       "          index  provstate  SUMLEV REGION DIVISION  STATE          NAME  \\\n",
       "0  New York      18         40      1      2        36     New York       \n",
       "1  Florida       13         40      3      5        12     Florida        \n",
       "2  California    9          40      4      9        6      California     \n",
       "3  Texas         8          40      3      7        48     Texas          \n",
       "4  Pennsylvania  6          40      1      2        42     Pennsylvania   \n",
       "\n",
       "   POPESTIMATE2018  POPEST18PLUS2018  PCNT_POPEST18PLUS  per_capita  \\\n",
       "0  19542209         15474107          79.2               9.210832     \n",
       "1  21299325         17070244          80.1               6.103480     \n",
       "2  39557045         30567090          77.3               2.275195     \n",
       "3  28701845         21303746          74.2               2.787277     \n",
       "4  12807060         10158149          79.3               4.684916     \n",
       "\n",
       "          state  description   Latitude   Longitude  \n",
       "0  New York      Albany       42.652843 -73.757874   \n",
       "1  Florida       Tallahassee  30.438118 -84.281296   \n",
       "2  California    Sacramento   38.576668 -121.493629  \n",
       "3  Texas         Austin       30.274670 -97.740349   \n",
       "4  Pennsylvania  Harrisburg   40.264378 -76.883598   "
      ]
     },
     "execution_count": 45,
     "metadata": {},
     "output_type": "execute_result"
    }
   ],
   "source": [
    "state_counts.head()"
   ]
  },
  {
   "cell_type": "code",
   "execution_count": 46,
   "metadata": {},
   "outputs": [],
   "source": [
    "state_counts.to_csv('data/terrorism_by_state_since_2016.csv', index=False)"
   ]
  },
  {
   "cell_type": "code",
   "execution_count": null,
   "metadata": {},
   "outputs": [],
   "source": []
  }
 ],
 "metadata": {
  "kernelspec": {
   "display_name": "Python 3",
   "language": "python",
   "name": "python3"
  },
  "language_info": {
   "codemirror_mode": {
    "name": "ipython",
    "version": 3
   },
   "file_extension": ".py",
   "mimetype": "text/x-python",
   "name": "python",
   "nbconvert_exporter": "python",
   "pygments_lexer": "ipython3",
   "version": "3.7.3"
  }
 },
 "nbformat": 4,
 "nbformat_minor": 2
}
