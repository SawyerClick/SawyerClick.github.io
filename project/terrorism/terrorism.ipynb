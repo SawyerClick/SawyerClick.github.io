{
 "cells": [
  {
   "cell_type": "code",
   "execution_count": 1,
   "metadata": {},
   "outputs": [],
   "source": [
    "import pandas as pd\n",
    "pd.set_option('display.max_columns', None)\n",
    "pd.set_option('display.max_colwidth', -1)\n",
    "\n",
    "import json\n",
    "\n",
    "import numpy as np\n",
    "\n",
    "import matplotlib\n",
    "import matplotlib.pyplot as plt\n",
    "from matplotlib.colors import ListedColormap\n",
    "matplotlib.rcParams['pdf.fonttype'] = 42\n",
    "%matplotlib inline\n",
    "plt.style.use('fivethirtyeight')\n",
    "\n",
    "import seaborn as sns\n"
   ]
  },
  {
   "cell_type": "markdown",
   "metadata": {},
   "source": [
    "## Fixing the million columns"
   ]
  },
  {
   "cell_type": "code",
   "execution_count": 2,
   "metadata": {},
   "outputs": [],
   "source": [
    "dtypes = {\n",
    "    'eventid': 'int',\n",
    "    'iyear': 'int',\n",
    "    'imonth': 'str',\n",
    "    'iday': 'str',\n",
    "    'country_txt': 'category',\n",
    "    'region_txt': 'category',\n",
    "    'provstate': 'category',\n",
    "    'city': 'str',\n",
    "    'latitude': 'float',\n",
    "    'longitude': 'float',\n",
    "    'summary': 'str',\n",
    "    'crit1': 'int',\n",
    "    'crit2': 'int',\n",
    "    'crit3': 'int',\n",
    "    'doubtterr': 'float',\n",
    "    'success': 'float',\n",
    "    'suicide': 'float',\n",
    "    'attacktype1_txt': 'str',\n",
    "    'attacktype2_txt': 'str',\n",
    "    'attacktype3_txt': 'str',\n",
    "    'targtype1_txt': 'str',\n",
    "    'targsubtype1_txt': 'str',\n",
    "    'natlty1_txt': 'str',\n",
    "    'gname': 'category',\n",
    "    'motive': 'str',\n",
    "    'nperps': 'float',\n",
    "    'nperpcap': 'float',\n",
    "    'claimed': 'float',\n",
    "    'weaptype1_txt': 'category',\n",
    "    'weaptype2_txt': 'category',\n",
    "    'nkill': 'float',\n",
    "    'nkillter': 'float',\n",
    "    'nwound': 'float',\n",
    "    'propextent_txt': 'str',\n",
    "    'nhostkid': 'float'\n",
    "}"
   ]
  },
  {
   "cell_type": "code",
   "execution_count": null,
   "metadata": {
    "scrolled": true
   },
   "outputs": [],
   "source": [
    "df = pd.read_excel('data/globalterrorismdb_0718dist.xlsx', na_values=['nan'], dtype=dtypes, usecols=['eventid', 'iyear', 'imonth', 'iday', 'country','country_txt', 'region_txt','provstate','city','latitude','longitude','summary','crit1','crit2','crit3','doubtterr','success','suicide','attacktype1_txt','attacktype2_txt','attacktype3_txt','targtype1_txt','targsubtype1_txt','natlty1_txt','gname','motive','nperps','nperpcap','claimed','weaptype1_txt','weaptype2_txt','weapdetail','nkill','nkillter','nwound','propextent_txt','nhostkid'])\n",
    "df"
   ]
  },
  {
   "cell_type": "code",
   "execution_count": null,
   "metadata": {},
   "outputs": [],
   "source": []
  },
  {
   "cell_type": "markdown",
   "metadata": {},
   "source": [
    "## Reading in Census Bureau populations\n",
    "Using 2018 population estimations"
   ]
  },
  {
   "cell_type": "code",
   "execution_count": null,
   "metadata": {},
   "outputs": [],
   "source": [
    "pops = pd.read_csv(\"data/scprc-est2018-18+pop-res.csv\")"
   ]
  },
  {
   "cell_type": "code",
   "execution_count": null,
   "metadata": {
    "scrolled": true
   },
   "outputs": [],
   "source": [
    "pops.head()"
   ]
  },
  {
   "cell_type": "markdown",
   "metadata": {},
   "source": [
    "## I only want to look at U.S. events"
   ]
  },
  {
   "cell_type": "code",
   "execution_count": null,
   "metadata": {
    "scrolled": false
   },
   "outputs": [],
   "source": [
    "df = df[(df['country_txt'] == 'United States') & (df.iyear > 2001)]"
   ]
  },
  {
   "cell_type": "code",
   "execution_count": null,
   "metadata": {},
   "outputs": [],
   "source": [
    "df.gname.shape"
   ]
  },
  {
   "cell_type": "code",
   "execution_count": null,
   "metadata": {
    "scrolled": false
   },
   "outputs": [],
   "source": [
    "df[df.gname != \"Unknown\"].gname.value_counts().head(25).sort_values().plot(kind='barh', figsize=(5,12))"
   ]
  },
  {
   "cell_type": "code",
   "execution_count": null,
   "metadata": {},
   "outputs": [],
   "source": [
    "df.nkill = df.nkill.astype(str)"
   ]
  },
  {
   "cell_type": "code",
   "execution_count": null,
   "metadata": {},
   "outputs": [],
   "source": [
    "## Export for qgis\n",
    "df.to_csv(\"data/terrorism_us.csv\", index=False)"
   ]
  },
  {
   "cell_type": "markdown",
   "metadata": {},
   "source": [
    "## Mapbox?"
   ]
  },
  {
   "cell_type": "code",
   "execution_count": null,
   "metadata": {
    "scrolled": true
   },
   "outputs": [],
   "source": [
    "def get_coords(x):\n",
    "#     geometry = {}\n",
    "    try:\n",
    "        try:\n",
    "            x['place'] = x.city+\", \"+x.provstate\n",
    "        except:\n",
    "            x['place'] = x.city\n",
    "        x['geometry.type'] = 'Point'\n",
    "        coords = []\n",
    "        coords.append(x.longitude)\n",
    "        coords.append(x.latitude)\n",
    "        x['geometry.coordinates'] = coords\n",
    "        return x\n",
    "    except: \n",
    "        return nan"
   ]
  },
  {
   "cell_type": "code",
   "execution_count": null,
   "metadata": {
    "scrolled": false
   },
   "outputs": [],
   "source": [
    "df = df.apply(get_coords, axis=1)"
   ]
  },
  {
   "cell_type": "code",
   "execution_count": null,
   "metadata": {},
   "outputs": [],
   "source": [
    "def prop_ids(x):\n",
    "    if x['attacktype1_txt'] == \"Facility/Infrastructure Attack\":\n",
    "        x['properties.name'] = x['attacktype1_txt']\n",
    "        x['properties.color'] = \"#20365E\"\n",
    "        x['properties_color'] = x['properties.color']\n",
    "        x['properties.group_name'] = x['properties.name']\n",
    "        x['properties.group_id'] = 1\n",
    "        x['properties.radius'] = x.nkill\n",
    "        return x\n",
    "    elif x['attacktype1_txt'] == \"Armed Assault\":\n",
    "        x['properties.name'] = x['attacktype1_txt']\n",
    "        x['properties.color'] = \"#E84C3D\"\n",
    "        x['properties_color'] = x['properties.color']\n",
    "        x['properties.group_name'] = x['properties.name']\n",
    "        x['properties.group_id'] = 2\n",
    "        x['properties.radius'] = x.nkill\n",
    "        return x\n",
    "    elif x['attacktype1_txt'] == \"Bombing/Explosion\":\n",
    "        x['properties.name'] = x['attacktype1_txt']\n",
    "        x['properties.color'] = \"#D25302\"\n",
    "        x['properties_color'] = x['properties.color']\n",
    "        x['properties.group_name'] = x['properties.name']\n",
    "        x['properties.group_id'] = 3\n",
    "        x['properties.radius'] = x.nkill\n",
    "        return x\n",
    "    elif x['attacktype1_txt'] == \"Unarmed Assault\":\n",
    "        x['properties.name'] = x['attacktype1_txt']\n",
    "        x['properties.color'] = \"#FDDBB0\"\n",
    "        x['properties_color'] = x['properties.color']\n",
    "        x['properties.group_name'] = x['properties.name']\n",
    "        x['properties.group_id'] = 4\n",
    "        x['properties.radius'] = x.nkill\n",
    "        return x\n",
    "    elif x['attacktype1_txt'] == \"Hostage Taking (Barricade Incident)\":\n",
    "        x['properties.name'] = x['attacktype1_txt']\n",
    "        x['properties.color'] = \"#354A5F\"\n",
    "        x['properties_color'] = x['properties.color']\n",
    "        x['properties.group_name'] = x['properties.name']\n",
    "        x['properties.group_id'] = 5\n",
    "        x['properties.radius'] = x.nkill\n",
    "        return x\n",
    "    elif x['attacktype1_txt'] == \"Assassination\":\n",
    "        x['properties.name'] = x['attacktype1_txt']\n",
    "        x['properties.color'] = \"#9A59B5\"\n",
    "        x['properties_color'] = x['properties.color']\n",
    "        x['properties.group_name'] = x['properties.name']\n",
    "        x['properties.group_id'] = 6\n",
    "        x['properties.radius'] = x.nkill\n",
    "        return x\n",
    "    elif x['attacktype1_txt'] == \"Hostage Taking (Kidnapping)\":\n",
    "        x['properties.name'] = x['attacktype1_txt']\n",
    "        x['properties.color'] = \"#3598DB\"\n",
    "        x['properties_color'] = x['properties.color']\n",
    "        x['properties.group_name'] = x['properties.name']\n",
    "        x['properties.group_id'] = 7\n",
    "        x['properties.radius'] = x.nkill\n",
    "        return x\n",
    "    elif x['attacktype1_txt'] == \"Hijacking\":\n",
    "        x['properties.name'] = x['attacktype1_txt']\n",
    "        x['properties.color'] = \"#1CBB9B\"\n",
    "        x['properties_color'] = x['properties.color']\n",
    "        x['properties.group_name'] = x['properties.name']\n",
    "        x['properties.group_id'] = 8\n",
    "        x['properties.radius'] = x.nkill\n",
    "        return x\n",
    "    else:\n",
    "        x['properties.name'] = x['attacktype1_txt']\n",
    "        x['properties.color'] = \"#1CBB9B\"\n",
    "        x['properties_color'] = x['properties.color']\n",
    "        x['properties.group_name'] = x['properties.name']\n",
    "        x['properties.group_id'] = 9\n",
    "        x['properties.radius'] = x.nkill\n",
    "        return x"
   ]
  },
  {
   "cell_type": "code",
   "execution_count": null,
   "metadata": {},
   "outputs": [],
   "source": [
    "df = df.apply(prop_ids, axis=1)"
   ]
  },
  {
   "cell_type": "code",
   "execution_count": null,
   "metadata": {},
   "outputs": [],
   "source": [
    "def prop_headline(x):\n",
    "    return x"
   ]
  },
  {
   "cell_type": "code",
   "execution_count": null,
   "metadata": {},
   "outputs": [],
   "source": [
    "df['properties.headline'] = df.gname.apply(lambda x: prop_headline(x))"
   ]
  },
  {
   "cell_type": "code",
   "execution_count": null,
   "metadata": {
    "scrolled": true
   },
   "outputs": [],
   "source": [
    "df.head()"
   ]
  },
  {
   "cell_type": "code",
   "execution_count": null,
   "metadata": {},
   "outputs": [],
   "source": [
    "def prop_article(row):\n",
    "    return f\"\\\n",
    "    <div id='article_container'>\\\n",
    "    <h2>{row.gname}</h1>\\\n",
    "    <div id='headline'><h4 style='border-bottom: 5px solid {row.properties_color}'>{row.attacktype1_txt}</h2></div>\\\n",
    "    <p >{row.summary}</p>\\\n",
    "    <p><b>People killed:</b> {row.nkill} people</p>\\\n",
    "    <p><b>People Wounded:</b> {row.nwound}.</p>\\\n",
    "    <p><b>Target:</b> {row.targtype1_txt}\\\n",
    "    </div>\" \n"
   ]
  },
  {
   "cell_type": "code",
   "execution_count": null,
   "metadata": {},
   "outputs": [],
   "source": [
    "df['properties.article'] = df.apply(prop_article, axis=1)"
   ]
  },
  {
   "cell_type": "code",
   "execution_count": null,
   "metadata": {},
   "outputs": [],
   "source": [
    "df.to_csv(\"terrorism_us_map.csv\", index=False)"
   ]
  },
  {
   "cell_type": "code",
   "execution_count": null,
   "metadata": {},
   "outputs": [],
   "source": [
    "map_df = pd.read_csv(\"terrorism_us_map.csv\", thousands=\",\", usecols=['geometry.coordinates', 'geometry.type', 'properties.name', 'properties.headline', 'properties.article', 'properties.color', 'properties.group_id', 'properties.group_name', 'properties.radius'])"
   ]
  },
  {
   "cell_type": "code",
   "execution_count": null,
   "metadata": {},
   "outputs": [],
   "source": [
    "map_df['geometry.coordinates'] = map_df['geometry.coordinates'].apply(json.loads)"
   ]
  },
  {
   "cell_type": "code",
   "execution_count": null,
   "metadata": {},
   "outputs": [],
   "source": [
    "ok_json = json.loads(map_df.to_json(orient='records'))"
   ]
  },
  {
   "cell_type": "code",
   "execution_count": null,
   "metadata": {},
   "outputs": [],
   "source": [
    "def process_to_geojson(file):\n",
    "    geo_data = {\"type\": \"FeatureCollection\", \"features\":[]}\n",
    "    for row in file:\n",
    "        this_dict = {\"type\": \"Feature\", \"properties\":{}, \"geometry\": {}}\n",
    "        for key, value in row.items():\n",
    "            key_names = key.split('.')\n",
    "            if key_names[0] == 'geometry':\n",
    "                this_dict['geometry'][key_names[1]] = value\n",
    "            if str(key_names[0]) == 'properties':\n",
    "                this_dict['properties'][key_names[1]] = value\n",
    "        geo_data['features'].append(this_dict)\n",
    "    return geo_data"
   ]
  },
  {
   "cell_type": "code",
   "execution_count": null,
   "metadata": {},
   "outputs": [],
   "source": [
    "geo_format = process_to_geojson(ok_json)"
   ]
  },
  {
   "cell_type": "code",
   "execution_count": null,
   "metadata": {},
   "outputs": [],
   "source": [
    "with open('geo-data.js', 'w') as outfile:\n",
    "    outfile.write(\"var infoData = \" + json.dumps(geo_format))"
   ]
  },
  {
   "cell_type": "code",
   "execution_count": null,
   "metadata": {},
   "outputs": [],
   "source": []
  },
  {
   "cell_type": "markdown",
   "metadata": {},
   "source": [
    "## Zooming out to look at each state"
   ]
  },
  {
   "cell_type": "code",
   "execution_count": null,
   "metadata": {},
   "outputs": [],
   "source": [
    "state_counts = pd.DataFrame(df['provstate'].value_counts()).reset_index()"
   ]
  },
  {
   "cell_type": "code",
   "execution_count": null,
   "metadata": {},
   "outputs": [],
   "source": [
    "state_counts.head()"
   ]
  },
  {
   "cell_type": "code",
   "execution_count": null,
   "metadata": {
    "scrolled": true
   },
   "outputs": [],
   "source": [
    "state_counts = state_counts.merge(pops, left_on='index', right_on='NAME')"
   ]
  },
  {
   "cell_type": "code",
   "execution_count": null,
   "metadata": {
    "scrolled": true
   },
   "outputs": [],
   "source": [
    "state_counts['per_capita'] = (state_counts['provstate'] / state_counts['POPESTIMATE2018']) * 10000000\n",
    "state_counts"
   ]
  },
  {
   "cell_type": "code",
   "execution_count": null,
   "metadata": {},
   "outputs": [],
   "source": [
    "df.groupby(by='provstate').targsubtype1_txt.value_counts()"
   ]
  },
  {
   "cell_type": "code",
   "execution_count": null,
   "metadata": {},
   "outputs": [],
   "source": [
    "df.motive"
   ]
  },
  {
   "cell_type": "code",
   "execution_count": null,
   "metadata": {
    "scrolled": true
   },
   "outputs": [],
   "source": [
    "df.groupby(by='provstate').gname.value_counts().unstack('targsubtype1_txt').plot(kind='barh', stacked=True, figsize=(10,15), legend=True, colormap=ListedColormap(sns.color_palette(\"deep\", 50)))"
   ]
  },
  {
   "cell_type": "code",
   "execution_count": null,
   "metadata": {
    "scrolled": true
   },
   "outputs": [],
   "source": [
    "state_counts.sort_values(by='per_capita').plot(kind=\"barh\", x='index', y='per_capita', figsize=(7,15), legend=False)"
   ]
  },
  {
   "cell_type": "code",
   "execution_count": null,
   "metadata": {},
   "outputs": [],
   "source": [
    "state_counts.sort_values(by='provstate').plot(kind=\"barh\", x='index', y='provstate', figsize=(7,15), legend=False)"
   ]
  },
  {
   "cell_type": "code",
   "execution_count": null,
   "metadata": {},
   "outputs": [],
   "source": []
  }
 ],
 "metadata": {
  "kernelspec": {
   "display_name": "Python 3",
   "language": "python",
   "name": "python3"
  },
  "language_info": {
   "codemirror_mode": {
    "name": "ipython",
    "version": 3
   },
   "file_extension": ".py",
   "mimetype": "text/x-python",
   "name": "python",
   "nbconvert_exporter": "python",
   "pygments_lexer": "ipython3",
   "version": "3.7.3"
  }
 },
 "nbformat": 4,
 "nbformat_minor": 2
}
