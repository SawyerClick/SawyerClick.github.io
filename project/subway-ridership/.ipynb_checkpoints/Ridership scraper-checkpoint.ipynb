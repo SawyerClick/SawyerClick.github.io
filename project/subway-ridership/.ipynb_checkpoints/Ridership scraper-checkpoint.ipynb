{
 "cells": [
  {
   "cell_type": "code",
   "execution_count": 1,
   "metadata": {},
   "outputs": [],
   "source": [
    "from bs4 import BeautifulSoup\n",
    "import pandas as pd\n",
    "pd.set_option('display.max_colwidth', -1)\n",
    "\n",
    "import re\n",
    "import requests\n",
    "\n",
    "import matplotlib\n",
    "import matplotlib.pyplot as plt\n",
    "import matplotlib.patches as mpatches\n",
    "\n",
    "%matplotlib inline\n",
    "plt.style.use('fivethirtyeight')"
   ]
  },
  {
   "cell_type": "markdown",
   "metadata": {},
   "source": [
    "# Annual ridership\n",
    "`http://web.mta.info/nyct/facts/ridership/ridership_sub_annual.htm`"
   ]
  },
  {
   "cell_type": "code",
   "execution_count": 14,
   "metadata": {},
   "outputs": [],
   "source": [
    "response = requests.get(\"http://web.mta.info/nyct/facts/ridership/ridership_sub_annual.htm\")\n",
    "doc = BeautifulSoup(response.text)"
   ]
  },
  {
   "cell_type": "code",
   "execution_count": 15,
   "metadata": {},
   "outputs": [],
   "source": [
    "stations = []\n",
    "lines = \"\"\n",
    "for row in doc.find_all(\"tr\")[4:]:\n",
    "    station = {}\n",
    "    total = \"\"\n",
    "    try:\n",
    "        \n",
    "        station['Station'] = row.find_all(\"td\")[0].text.strip()        \n",
    "        try: \n",
    "            for pic in row.find(\"td\").find(\"div\").find_all(\"img\"):\n",
    "                one = pic['alt'].split(\" \")[0]\n",
    "                total = one + total\n",
    "                station['lines'] = total\n",
    "        except:\n",
    "            pass\n",
    "\n",
    "        station['2013'] = row.find_all(\"td\")[1].text\n",
    "        station['2014'] = row.find_all(\"td\")[2].text\n",
    "        station['2015'] = row.find_all(\"td\")[3].text\n",
    "        station['2016'] = row.find_all(\"td\")[4].text\n",
    "        station['2017'] = row.find_all(\"td\")[5].text\n",
    "        station['2018'] = row.find_all(\"td\")[6].text.strip()\n",
    "        station['Rank'] = row.find_all(\"td\")[9].text\n",
    "        station['Borough'] = row.find_previous(\"td\", colspan=\"10\").text\n",
    "        stations.append(station)\n",
    "    except: pass"
   ]
  },
  {
   "cell_type": "code",
   "execution_count": 16,
   "metadata": {},
   "outputs": [],
   "source": [
    "df = pd.DataFrame(stations, columns=['Station','lines','Borough','Rank','2013','2014','2015','2016','2017','2018'])\n",
    "df = df.dropna()"
   ]
  },
  {
   "cell_type": "code",
   "execution_count": 17,
   "metadata": {},
   "outputs": [],
   "source": [
    "## Changing the numbers to actual numbers\n",
    "\n",
    "cols = ['2013', '2014','2015','2016','2017','2018']\n",
    "df[cols] = df[cols].apply(lambda x: pd.to_numeric(x.astype(str).str.replace(',',''), errors='coerce'))\n",
    "df.Rank = df.Rank.astype(int)"
   ]
  },
  {
   "cell_type": "code",
   "execution_count": 18,
   "metadata": {},
   "outputs": [
    {
     "data": {
      "text/plain": [
       "52361989.0"
      ]
     },
     "execution_count": 18,
     "metadata": {},
     "output_type": "execute_result"
    }
   ],
   "source": [
    "df[(df['Borough'] == \"Brooklyn\") & (df.lines.str.contains(\"F\") == True)]['2013'].sum()"
   ]
  },
  {
   "cell_type": "code",
   "execution_count": 21,
   "metadata": {},
   "outputs": [
    {
     "data": {
      "text/html": [
       "<div>\n",
       "<style scoped>\n",
       "    .dataframe tbody tr th:only-of-type {\n",
       "        vertical-align: middle;\n",
       "    }\n",
       "\n",
       "    .dataframe tbody tr th {\n",
       "        vertical-align: top;\n",
       "    }\n",
       "\n",
       "    .dataframe thead th {\n",
       "        text-align: right;\n",
       "    }\n",
       "</style>\n",
       "<table border=\"1\" class=\"dataframe\">\n",
       "  <thead>\n",
       "    <tr style=\"text-align: right;\">\n",
       "      <th></th>\n",
       "      <th>Station</th>\n",
       "      <th>lines</th>\n",
       "      <th>Borough</th>\n",
       "      <th>Rank</th>\n",
       "      <th>2013</th>\n",
       "      <th>2014</th>\n",
       "      <th>2015</th>\n",
       "      <th>2016</th>\n",
       "      <th>2017</th>\n",
       "      <th>2018</th>\n",
       "    </tr>\n",
       "  </thead>\n",
       "  <tbody>\n",
       "    <tr>\n",
       "      <th>0</th>\n",
       "      <td>138 St-Grand Concourse</td>\n",
       "      <td>54</td>\n",
       "      <td>The Bronx</td>\n",
       "      <td>365</td>\n",
       "      <td>957984.0</td>\n",
       "      <td>1033559.0</td>\n",
       "      <td>1056380.0</td>\n",
       "      <td>1070024.0</td>\n",
       "      <td>1036746.0</td>\n",
       "      <td>944598</td>\n",
       "    </tr>\n",
       "    <tr>\n",
       "      <th>1</th>\n",
       "      <td>149 St-Grand    Concourse</td>\n",
       "      <td>542</td>\n",
       "      <td>The Bronx</td>\n",
       "      <td>121</td>\n",
       "      <td>4427399.0</td>\n",
       "      <td>4536888.0</td>\n",
       "      <td>4424754.0</td>\n",
       "      <td>4381900.0</td>\n",
       "      <td>4255015.0</td>\n",
       "      <td>3972763</td>\n",
       "    </tr>\n",
       "    <tr>\n",
       "      <th>2</th>\n",
       "      <td>161 St-Yankee    Stadium</td>\n",
       "      <td>4DB</td>\n",
       "      <td>The Bronx</td>\n",
       "      <td>38</td>\n",
       "      <td>8766012.0</td>\n",
       "      <td>8961029.0</td>\n",
       "      <td>8922188.0</td>\n",
       "      <td>8784407.0</td>\n",
       "      <td>8596506.0</td>\n",
       "      <td>8392290</td>\n",
       "    </tr>\n",
       "    <tr>\n",
       "      <th>3</th>\n",
       "      <td>167 St</td>\n",
       "      <td>4</td>\n",
       "      <td>The Bronx</td>\n",
       "      <td>165</td>\n",
       "      <td>3081534.0</td>\n",
       "      <td>3067345.0</td>\n",
       "      <td>3180274.0</td>\n",
       "      <td>3179087.0</td>\n",
       "      <td>2954228.0</td>\n",
       "      <td>2933140</td>\n",
       "    </tr>\n",
       "    <tr>\n",
       "      <th>4</th>\n",
       "      <td>167 St</td>\n",
       "      <td>DB</td>\n",
       "      <td>The Bronx</td>\n",
       "      <td>231</td>\n",
       "      <td>3091289.0</td>\n",
       "      <td>3245977.0</td>\n",
       "      <td>3295032.0</td>\n",
       "      <td>3365748.0</td>\n",
       "      <td>3293451.0</td>\n",
       "      <td>2022919</td>\n",
       "    </tr>\n",
       "  </tbody>\n",
       "</table>\n",
       "</div>"
      ],
      "text/plain": [
       "                     Station lines    Borough  Rank       2013       2014  \\\n",
       "0  138 St-Grand Concourse     54    The Bronx  365   957984.0   1033559.0   \n",
       "1  149 St-Grand    Concourse  542   The Bronx  121   4427399.0  4536888.0   \n",
       "2  161 St-Yankee    Stadium   4DB   The Bronx  38    8766012.0  8961029.0   \n",
       "3  167 St                     4     The Bronx  165   3081534.0  3067345.0   \n",
       "4  167 St                     DB    The Bronx  231   3091289.0  3245977.0   \n",
       "\n",
       "        2015       2016       2017     2018  \n",
       "0  1056380.0  1070024.0  1036746.0  944598   \n",
       "1  4424754.0  4381900.0  4255015.0  3972763  \n",
       "2  8922188.0  8784407.0  8596506.0  8392290  \n",
       "3  3180274.0  3179087.0  2954228.0  2933140  \n",
       "4  3295032.0  3365748.0  3293451.0  2022919  "
      ]
     },
     "execution_count": 21,
     "metadata": {},
     "output_type": "execute_result"
    }
   ],
   "source": [
    "df.head()"
   ]
  },
  {
   "cell_type": "code",
   "execution_count": 24,
   "metadata": {},
   "outputs": [],
   "source": [
    "def recent_change(x):\n",
    "    return x['2018'] - x['2017']"
   ]
  },
  {
   "cell_type": "code",
   "execution_count": 26,
   "metadata": {},
   "outputs": [
    {
     "data": {
      "text/html": [
       "<div>\n",
       "<style scoped>\n",
       "    .dataframe tbody tr th:only-of-type {\n",
       "        vertical-align: middle;\n",
       "    }\n",
       "\n",
       "    .dataframe tbody tr th {\n",
       "        vertical-align: top;\n",
       "    }\n",
       "\n",
       "    .dataframe thead th {\n",
       "        text-align: right;\n",
       "    }\n",
       "</style>\n",
       "<table border=\"1\" class=\"dataframe\">\n",
       "  <thead>\n",
       "    <tr style=\"text-align: right;\">\n",
       "      <th></th>\n",
       "      <th>Station</th>\n",
       "      <th>lines</th>\n",
       "      <th>Borough</th>\n",
       "      <th>Rank</th>\n",
       "      <th>2013</th>\n",
       "      <th>2014</th>\n",
       "      <th>2015</th>\n",
       "      <th>2016</th>\n",
       "      <th>2017</th>\n",
       "      <th>2018</th>\n",
       "      <th>17-18 change</th>\n",
       "    </tr>\n",
       "  </thead>\n",
       "  <tbody>\n",
       "    <tr>\n",
       "      <th>0</th>\n",
       "      <td>138 St-Grand Concourse</td>\n",
       "      <td>54</td>\n",
       "      <td>The Bronx</td>\n",
       "      <td>365</td>\n",
       "      <td>957984.0</td>\n",
       "      <td>1033559.0</td>\n",
       "      <td>1056380.0</td>\n",
       "      <td>1070024.0</td>\n",
       "      <td>1036746.0</td>\n",
       "      <td>944598</td>\n",
       "      <td>-92148.0</td>\n",
       "    </tr>\n",
       "    <tr>\n",
       "      <th>1</th>\n",
       "      <td>149 St-Grand    Concourse</td>\n",
       "      <td>542</td>\n",
       "      <td>The Bronx</td>\n",
       "      <td>121</td>\n",
       "      <td>4427399.0</td>\n",
       "      <td>4536888.0</td>\n",
       "      <td>4424754.0</td>\n",
       "      <td>4381900.0</td>\n",
       "      <td>4255015.0</td>\n",
       "      <td>3972763</td>\n",
       "      <td>-282252.0</td>\n",
       "    </tr>\n",
       "    <tr>\n",
       "      <th>2</th>\n",
       "      <td>161 St-Yankee    Stadium</td>\n",
       "      <td>4DB</td>\n",
       "      <td>The Bronx</td>\n",
       "      <td>38</td>\n",
       "      <td>8766012.0</td>\n",
       "      <td>8961029.0</td>\n",
       "      <td>8922188.0</td>\n",
       "      <td>8784407.0</td>\n",
       "      <td>8596506.0</td>\n",
       "      <td>8392290</td>\n",
       "      <td>-204216.0</td>\n",
       "    </tr>\n",
       "    <tr>\n",
       "      <th>3</th>\n",
       "      <td>167 St</td>\n",
       "      <td>4</td>\n",
       "      <td>The Bronx</td>\n",
       "      <td>165</td>\n",
       "      <td>3081534.0</td>\n",
       "      <td>3067345.0</td>\n",
       "      <td>3180274.0</td>\n",
       "      <td>3179087.0</td>\n",
       "      <td>2954228.0</td>\n",
       "      <td>2933140</td>\n",
       "      <td>-21088.0</td>\n",
       "    </tr>\n",
       "    <tr>\n",
       "      <th>4</th>\n",
       "      <td>167 St</td>\n",
       "      <td>DB</td>\n",
       "      <td>The Bronx</td>\n",
       "      <td>231</td>\n",
       "      <td>3091289.0</td>\n",
       "      <td>3245977.0</td>\n",
       "      <td>3295032.0</td>\n",
       "      <td>3365748.0</td>\n",
       "      <td>3293451.0</td>\n",
       "      <td>2022919</td>\n",
       "      <td>-1270532.0</td>\n",
       "    </tr>\n",
       "  </tbody>\n",
       "</table>\n",
       "</div>"
      ],
      "text/plain": [
       "                     Station lines    Borough  Rank       2013       2014  \\\n",
       "0  138 St-Grand Concourse     54    The Bronx  365   957984.0   1033559.0   \n",
       "1  149 St-Grand    Concourse  542   The Bronx  121   4427399.0  4536888.0   \n",
       "2  161 St-Yankee    Stadium   4DB   The Bronx  38    8766012.0  8961029.0   \n",
       "3  167 St                     4     The Bronx  165   3081534.0  3067345.0   \n",
       "4  167 St                     DB    The Bronx  231   3091289.0  3245977.0   \n",
       "\n",
       "        2015       2016       2017     2018  17-18 change  \n",
       "0  1056380.0  1070024.0  1036746.0  944598  -92148.0       \n",
       "1  4424754.0  4381900.0  4255015.0  3972763 -282252.0      \n",
       "2  8922188.0  8784407.0  8596506.0  8392290 -204216.0      \n",
       "3  3180274.0  3179087.0  2954228.0  2933140 -21088.0       \n",
       "4  3295032.0  3365748.0  3293451.0  2022919 -1270532.0     "
      ]
     },
     "execution_count": 26,
     "metadata": {},
     "output_type": "execute_result"
    }
   ],
   "source": [
    "df['17-18 change'] = df.apply(recent_change, axis=1)\n",
    "df.head()"
   ]
  },
  {
   "cell_type": "code",
   "execution_count": 43,
   "metadata": {},
   "outputs": [
    {
     "data": {
      "text/plain": [
       "<matplotlib.axes._subplots.AxesSubplot at 0x2c28a53d710>"
      ]
     },
     "execution_count": 43,
     "metadata": {},
     "output_type": "execute_result"
    },
    {
     "data": {
      "image/png": "[encoded data removed]",
      "text/plain": [
       "<Figure size 432x288 with 1 Axes>"
      ]
     },
     "metadata": {
      "needs_background": "light"
     },
     "output_type": "display_data"
    }
   ],
   "source": [
    "df.groupby('Borough')['17-18 change'].sum().plot(kind='barh')"
   ]
  },
  {
   "cell_type": "code",
   "execution_count": 45,
   "metadata": {
    "scrolled": false
   },
   "outputs": [
    {
     "data": {
      "image/png": "[encoded data removed]",
      "text/plain": [
       "<Figure size 720x360 with 1 Axes>"
      ]
     },
     "metadata": {
      "needs_background": "light"
     },
     "output_type": "display_data"
    }
   ],
   "source": [
    "fig, ax = plt.subplots(figsize=(10,5))\n",
    "ax.hlines(xmin=0, xmax=df.groupby('Borough')['17-18 change'].sum().sort_values().iloc[::-1], y=df.groupby('Borough')['17-18 change'].sum().index, color='#d36157')\n",
    "ax.xaxis.tick_top()\n",
    "# ax.set_yticks(df.Borough)"
   ]
  },
  {
   "cell_type": "code",
   "execution_count": 19,
   "metadata": {
    "scrolled": true
   },
   "outputs": [
    {
     "data": {
      "text/plain": [
       "<matplotlib.axes._subplots.AxesSubplot at 0x2c28ab51cc0>"
      ]
     },
     "execution_count": 19,
     "metadata": {},
     "output_type": "execute_result"
    },
    {
     "data": {
      "image/png": "[encoded data removed]",
      "text/plain": [
       "<Figure size 504x360 with 1 Axes>"
      ]
     },
     "metadata": {
      "needs_background": "light"
     },
     "output_type": "display_data"
    }
   ],
   "source": [
    "ax = df.groupby(by='Borough')['2017'].sum().plot(kind='barh', alpha=.5, color='red', title='Ridership change from 2018 to 2017', figsize=(7,5))\n",
    "df.groupby(by='Borough')['2018'].sum().plot(kind='barh', ax=ax, color='gray')"
   ]
  },
  {
   "cell_type": "code",
   "execution_count": 20,
   "metadata": {},
   "outputs": [
    {
     "data": {
      "text/plain": [
       "<matplotlib.axes._subplots.AxesSubplot at 0x2c28ab58a90>"
      ]
     },
     "execution_count": 20,
     "metadata": {},
     "output_type": "execute_result"
    },
    {
     "data": {
      "image/png": "[encoded data removed]",
      "text/plain": [
       "<Figure size 504x360 with 1 Axes>"
      ]
     },
     "metadata": {
      "needs_background": "light"
     },
     "output_type": "display_data"
    }
   ],
   "source": [
    "df.groupby('Borough').sum().plot(kind='bar', y=['2013','2014','2015','2016','2017','2018'], color=['gray','gray','gray','gray','gray','#D36157'], figsize=(7, 5))"
   ]
  },
  {
   "cell_type": "code",
   "execution_count": 9,
   "metadata": {},
   "outputs": [],
   "source": [
    "df.to_csv(\"station_annual_ridership.csv\", index=False)"
   ]
  },
  {
   "cell_type": "markdown",
   "metadata": {},
   "source": [
    "## Average weekday ridership\n",
    "`http://web.mta.info/nyct/facts/ridership/ridership_sub.htm`"
   ]
  },
  {
   "cell_type": "code",
   "execution_count": 10,
   "metadata": {},
   "outputs": [],
   "source": [
    "response = requests.get(\"http://web.mta.info/nyct/facts/ridership/ridership_sub.htm\")\n",
    "doc = BeautifulSoup(response.text)"
   ]
  },
  {
   "cell_type": "code",
   "execution_count": 11,
   "metadata": {},
   "outputs": [],
   "source": [
    "stations = []\n",
    "lines = \"\"\n",
    "for row in doc.find_all(\"tr\")[5:]:\n",
    "    station = {}\n",
    "    total = \"\"\n",
    "    try:\n",
    "        \n",
    "        station['Station'] = row.find_all(\"td\")[0].text.strip()        \n",
    "        try: \n",
    "            for pic in row.find(\"td\").find(\"div\").find_all(\"img\"):\n",
    "                one = pic['alt'].split(\" \")[0]\n",
    "                total = one + total\n",
    "                station['lines'] = total\n",
    "        except:\n",
    "            pass\n",
    "\n",
    "        station['2013'] = row.find_all(\"td\")[1].text\n",
    "        station['2014'] = row.find_all(\"td\")[2].text\n",
    "        station['2015'] = row.find_all(\"td\")[3].text\n",
    "        station['2016'] = row.find_all(\"td\")[4].text\n",
    "        station['2017'] = row.find_all(\"td\")[5].text\n",
    "        station['2018'] = row.find_all(\"td\")[6].text.strip()\n",
    "        station['Rank'] = row.find_all(\"td\")[9].text\n",
    "        station['Borough'] = row.find_previous(\"td\", colspan=\"10\").text\n",
    "        stations.append(station)\n",
    "    except: pass"
   ]
  },
  {
   "cell_type": "code",
   "execution_count": 12,
   "metadata": {},
   "outputs": [],
   "source": [
    "df = pd.DataFrame(stations, columns=['Station','lines','Borough','Rank','2013','2014','2015','2016','2017','2018'])\n",
    "df = df.dropna()\n",
    "\n",
    "## Changing the numbers to actual numbers\n",
    "cols = ['2013', '2014','2015','2016','2017','2018']\n",
    "df[cols] = df[cols].apply(lambda x: pd.to_numeric(x.astype(str).str.replace(',',''), errors='coerce'))\n",
    "df.Rank = df.Rank.astype(int)"
   ]
  },
  {
   "cell_type": "code",
   "execution_count": 13,
   "metadata": {},
   "outputs": [
    {
     "data": {
      "text/html": [
       "<div>\n",
       "<style scoped>\n",
       "    .dataframe tbody tr th:only-of-type {\n",
       "        vertical-align: middle;\n",
       "    }\n",
       "\n",
       "    .dataframe tbody tr th {\n",
       "        vertical-align: top;\n",
       "    }\n",
       "\n",
       "    .dataframe thead th {\n",
       "        text-align: right;\n",
       "    }\n",
       "</style>\n",
       "<table border=\"1\" class=\"dataframe\">\n",
       "  <thead>\n",
       "    <tr style=\"text-align: right;\">\n",
       "      <th></th>\n",
       "      <th>Station</th>\n",
       "      <th>lines</th>\n",
       "      <th>Borough</th>\n",
       "      <th>Rank</th>\n",
       "      <th>2013</th>\n",
       "      <th>2014</th>\n",
       "      <th>2015</th>\n",
       "      <th>2016</th>\n",
       "      <th>2017</th>\n",
       "      <th>2018</th>\n",
       "    </tr>\n",
       "  </thead>\n",
       "  <tbody>\n",
       "    <tr>\n",
       "      <th>417</th>\n",
       "      <td>Sutphin    Blvd-Archer Av-JFK Airport</td>\n",
       "      <td>ZJE</td>\n",
       "      <td>Queens</td>\n",
       "      <td>54</td>\n",
       "      <td>23012.0</td>\n",
       "      <td>23747.0</td>\n",
       "      <td>24349.0</td>\n",
       "      <td>24796.0</td>\n",
       "      <td>23843</td>\n",
       "      <td>23388</td>\n",
       "    </tr>\n",
       "    <tr>\n",
       "      <th>418</th>\n",
       "      <td>Vernon    Blvd-Jackson Av</td>\n",
       "      <td>7</td>\n",
       "      <td>Queens</td>\n",
       "      <td>96</td>\n",
       "      <td>12610.0</td>\n",
       "      <td>14123.0</td>\n",
       "      <td>14819.0</td>\n",
       "      <td>15910.0</td>\n",
       "      <td>15781</td>\n",
       "      <td>15093</td>\n",
       "    </tr>\n",
       "    <tr>\n",
       "      <th>419</th>\n",
       "      <td>Woodhaven    Blvd</td>\n",
       "      <td>ZJ</td>\n",
       "      <td>Queens</td>\n",
       "      <td>294</td>\n",
       "      <td>4576.0</td>\n",
       "      <td>4796.0</td>\n",
       "      <td>4940.0</td>\n",
       "      <td>4838.0</td>\n",
       "      <td>5104</td>\n",
       "      <td>4771</td>\n",
       "    </tr>\n",
       "    <tr>\n",
       "      <th>420</th>\n",
       "      <td>Woodhaven    Blvd</td>\n",
       "      <td>RM</td>\n",
       "      <td>Queens</td>\n",
       "      <td>66</td>\n",
       "      <td>22276.0</td>\n",
       "      <td>22156.0</td>\n",
       "      <td>22220.0</td>\n",
       "      <td>22483.0</td>\n",
       "      <td>21879</td>\n",
       "      <td>20704</td>\n",
       "    </tr>\n",
       "    <tr>\n",
       "      <th>421</th>\n",
       "      <td>Woodside-61 St</td>\n",
       "      <td>7</td>\n",
       "      <td>Queens</td>\n",
       "      <td>83</td>\n",
       "      <td>16559.0</td>\n",
       "      <td>16807.0</td>\n",
       "      <td>17007.0</td>\n",
       "      <td>17236.0</td>\n",
       "      <td>16945</td>\n",
       "      <td>16501</td>\n",
       "    </tr>\n",
       "  </tbody>\n",
       "</table>\n",
       "</div>"
      ],
      "text/plain": [
       "                                   Station lines Borough  Rank     2013  \\\n",
       "417  Sutphin    Blvd-Archer Av-JFK Airport  ZJE   Queens  54    23012.0   \n",
       "418  Vernon    Blvd-Jackson Av              7     Queens  96    12610.0   \n",
       "419  Woodhaven    Blvd                      ZJ    Queens  294   4576.0    \n",
       "420  Woodhaven    Blvd                      RM    Queens  66    22276.0   \n",
       "421  Woodside-61 St                         7     Queens  83    16559.0   \n",
       "\n",
       "        2014     2015     2016   2017   2018  \n",
       "417  23747.0  24349.0  24796.0  23843  23388  \n",
       "418  14123.0  14819.0  15910.0  15781  15093  \n",
       "419  4796.0   4940.0   4838.0   5104   4771   \n",
       "420  22156.0  22220.0  22483.0  21879  20704  \n",
       "421  16807.0  17007.0  17236.0  16945  16501  "
      ]
     },
     "execution_count": 13,
     "metadata": {},
     "output_type": "execute_result"
    }
   ],
   "source": [
    "df.tail()"
   ]
  },
  {
   "cell_type": "code",
   "execution_count": 13,
   "metadata": {},
   "outputs": [
    {
     "data": {
      "text/plain": [
       "<matplotlib.axes._subplots.AxesSubplot at 0x2c28ceb2da0>"
      ]
     },
     "execution_count": 13,
     "metadata": {},
     "output_type": "execute_result"
    },
    {
     "data": {
      "image/png": "[encoded data removed]",
      "text/plain": [
       "<Figure size 504x360 with 1 Axes>"
      ]
     },
     "metadata": {
      "needs_background": "light"
     },
     "output_type": "display_data"
    }
   ],
   "source": [
    "df.groupby('Borough').sum().plot(kind='bar', y=['2013','2014','2015','2016','2017','2018'], color=['gray','gray','gray','gray','gray','#D36157'], figsize=(7, 5))"
   ]
  },
  {
   "cell_type": "code",
   "execution_count": 12,
   "metadata": {
    "scrolled": false
   },
   "outputs": [
    {
     "data": {
      "text/plain": [
       "<matplotlib.axes._subplots.AxesSubplot at 0x2c28ce23320>"
      ]
     },
     "execution_count": 12,
     "metadata": {},
     "output_type": "execute_result"
    },
    {
     "data": {
      "image/png": "[encoded data removed]",
      "text/plain": [
       "<Figure size 504x360 with 1 Axes>"
      ]
     },
     "metadata": {
      "needs_background": "light"
     },
     "output_type": "display_data"
    }
   ],
   "source": [
    "ax = df.groupby(by='Borough')['2017'].sum().plot(kind='barh', alpha=.5, color='red', title='Ridership change from 2018 to 2017', figsize=(7,5))\n",
    "df.groupby(by='Borough')['2018'].sum().plot(kind='barh', ax=ax, color='gray')"
   ]
  },
  {
   "cell_type": "code",
   "execution_count": 18,
   "metadata": {},
   "outputs": [],
   "source": [
    "df['change'] = df['2018'] - df['2017']"
   ]
  },
  {
   "cell_type": "code",
   "execution_count": 19,
   "metadata": {},
   "outputs": [],
   "source": [
    "brooklyn = df[df.Borough == 'Brooklyn']"
   ]
  },
  {
   "cell_type": "code",
   "execution_count": 20,
   "metadata": {},
   "outputs": [],
   "source": [
    "f = df[(df.lines.str.contains(\"F\")) & (df.Borough == \"Brooklyn\")]"
   ]
  },
  {
   "cell_type": "code",
   "execution_count": 21,
   "metadata": {
    "scrolled": false
   },
   "outputs": [
    {
     "data": {
      "image/png": "[encoded data removed]",
      "text/plain": [
       "<Figure size 432x288 with 1 Axes>"
      ]
     },
     "metadata": {
      "needs_background": "light"
     },
     "output_type": "display_data"
    }
   ],
   "source": [
    "ax = f[cols].mean().plot(title=\"Average Subway Ridership in Brooklyn\", color='red')\n",
    "brooklyn[cols].mean().plot()\n",
    "\n",
    "green_color = mpatches.Patch(color='#FF0000', label='F line avg.')\n",
    "gold_color = mpatches.Patch(color='#008FD5', label='All lines avg.')\n",
    "ax.set_ylim(7500,8550)\n",
    "\n",
    "\n",
    "ax.legend(handles=[green_color, gold_color], bbox_to_anchor=(.99, .95))\n",
    "plt.savefig(\"C:/Users/sawye/Desktop/reporting/story1/media/ridership.png\", bbox_inches='tight')"
   ]
  },
  {
   "cell_type": "code",
   "execution_count": 22,
   "metadata": {},
   "outputs": [],
   "source": [
    "df.to_csv(\"station_weekday_ridership.csv\", index=False)"
   ]
  },
  {
   "cell_type": "markdown",
   "metadata": {},
   "source": [
    "## Average Weekend Ridership\n",
    "`http://web.mta.info/nyct/facts/ridership/ridership_sub_weekend.htm`"
   ]
  },
  {
   "cell_type": "code",
   "execution_count": 23,
   "metadata": {},
   "outputs": [],
   "source": [
    "response = requests.get(\"http://web.mta.info/nyct/facts/ridership/ridership_sub_weekend.htm\")\n",
    "doc = BeautifulSoup(response.text)"
   ]
  },
  {
   "cell_type": "code",
   "execution_count": 24,
   "metadata": {},
   "outputs": [],
   "source": [
    "stations = []\n",
    "lines = \"\"\n",
    "for row in doc.find_all(\"tr\")[5:]:\n",
    "    station = {}\n",
    "    total = \"\"\n",
    "    try:\n",
    "        \n",
    "        station['Station'] = row.find_all(\"td\")[0].text.strip()        \n",
    "        try: \n",
    "            for pic in row.find(\"td\").find(\"div\").find_all(\"img\"):\n",
    "                one = pic['alt'].split(\" \")[0]\n",
    "                total = one + total\n",
    "                station['lines'] = total\n",
    "        except:\n",
    "            pass\n",
    "\n",
    "        station['2013'] = row.find_all(\"td\")[1].text\n",
    "        station['2014'] = row.find_all(\"td\")[2].text\n",
    "        station['2015'] = row.find_all(\"td\")[3].text\n",
    "        station['2016'] = row.find_all(\"td\")[4].text\n",
    "        station['2017'] = row.find_all(\"td\")[5].text\n",
    "        station['2018'] = row.find_all(\"td\")[6].text.strip()\n",
    "        station['Rank'] = row.find_all(\"td\")[9].text\n",
    "        station['Borough'] = row.find_previous(\"td\", colspan=\"10\").text\n",
    "        stations.append(station)\n",
    "    except: pass"
   ]
  },
  {
   "cell_type": "code",
   "execution_count": 25,
   "metadata": {},
   "outputs": [],
   "source": [
    "df = pd.DataFrame(stations, columns=['Station','lines','Borough','Rank','2013','2014','2015','2016','2017','2018'])\n",
    "df = df.dropna()\n",
    "\n",
    "## Changing the numbers to actual numbers\n",
    "cols = ['2013', '2014','2015','2016','2017','2018']\n",
    "df[cols] = df[cols].apply(lambda x: pd.to_numeric(x.astype(str).str.replace(',',''), errors='coerce'))\n",
    "df.Rank = df.Rank.astype(int)"
   ]
  },
  {
   "cell_type": "code",
   "execution_count": 26,
   "metadata": {},
   "outputs": [
    {
     "data": {
      "text/html": [
       "<div>\n",
       "<style scoped>\n",
       "    .dataframe tbody tr th:only-of-type {\n",
       "        vertical-align: middle;\n",
       "    }\n",
       "\n",
       "    .dataframe tbody tr th {\n",
       "        vertical-align: top;\n",
       "    }\n",
       "\n",
       "    .dataframe thead th {\n",
       "        text-align: right;\n",
       "    }\n",
       "</style>\n",
       "<table border=\"1\" class=\"dataframe\">\n",
       "  <thead>\n",
       "    <tr style=\"text-align: right;\">\n",
       "      <th></th>\n",
       "      <th>Station</th>\n",
       "      <th>lines</th>\n",
       "      <th>Borough</th>\n",
       "      <th>Rank</th>\n",
       "      <th>2013</th>\n",
       "      <th>2014</th>\n",
       "      <th>2015</th>\n",
       "      <th>2016</th>\n",
       "      <th>2017</th>\n",
       "      <th>2018</th>\n",
       "    </tr>\n",
       "  </thead>\n",
       "  <tbody>\n",
       "    <tr>\n",
       "      <th>417</th>\n",
       "      <td>Sutphin    Blvd-Archer Av-JFK Airport</td>\n",
       "      <td>ZJE</td>\n",
       "      <td>Queens</td>\n",
       "      <td>52</td>\n",
       "      <td>26184.0</td>\n",
       "      <td>28862.0</td>\n",
       "      <td>28383.0</td>\n",
       "      <td>28587.0</td>\n",
       "      <td>25234</td>\n",
       "      <td>24020</td>\n",
       "    </tr>\n",
       "    <tr>\n",
       "      <th>418</th>\n",
       "      <td>Vernon    Blvd-Jackson Av</td>\n",
       "      <td>7</td>\n",
       "      <td>Queens</td>\n",
       "      <td>135</td>\n",
       "      <td>9491.0</td>\n",
       "      <td>10347.0</td>\n",
       "      <td>12582.0</td>\n",
       "      <td>14981.0</td>\n",
       "      <td>14901</td>\n",
       "      <td>11858</td>\n",
       "    </tr>\n",
       "    <tr>\n",
       "      <th>419</th>\n",
       "      <td>Woodhaven    Blvd</td>\n",
       "      <td>ZJ</td>\n",
       "      <td>Queens</td>\n",
       "      <td>354</td>\n",
       "      <td>4255.0</td>\n",
       "      <td>5226.0</td>\n",
       "      <td>5388.0</td>\n",
       "      <td>5099.0</td>\n",
       "      <td>3884</td>\n",
       "      <td>2820</td>\n",
       "    </tr>\n",
       "    <tr>\n",
       "      <th>420</th>\n",
       "      <td>Woodhaven    Blvd</td>\n",
       "      <td>RM</td>\n",
       "      <td>Queens</td>\n",
       "      <td>54</td>\n",
       "      <td>27194.0</td>\n",
       "      <td>27105.0</td>\n",
       "      <td>26745.0</td>\n",
       "      <td>25550.0</td>\n",
       "      <td>23929</td>\n",
       "      <td>22672</td>\n",
       "    </tr>\n",
       "    <tr>\n",
       "      <th>421</th>\n",
       "      <td>Woodside-61 St</td>\n",
       "      <td>7</td>\n",
       "      <td>Queens</td>\n",
       "      <td>73</td>\n",
       "      <td>20432.0</td>\n",
       "      <td>19669.0</td>\n",
       "      <td>20127.0</td>\n",
       "      <td>20360.0</td>\n",
       "      <td>21067</td>\n",
       "      <td>19796</td>\n",
       "    </tr>\n",
       "  </tbody>\n",
       "</table>\n",
       "</div>"
      ],
      "text/plain": [
       "                                   Station lines Borough  Rank     2013  \\\n",
       "417  Sutphin    Blvd-Archer Av-JFK Airport  ZJE   Queens  52    26184.0   \n",
       "418  Vernon    Blvd-Jackson Av              7     Queens  135   9491.0    \n",
       "419  Woodhaven    Blvd                      ZJ    Queens  354   4255.0    \n",
       "420  Woodhaven    Blvd                      RM    Queens  54    27194.0   \n",
       "421  Woodside-61 St                         7     Queens  73    20432.0   \n",
       "\n",
       "        2014     2015     2016   2017   2018  \n",
       "417  28862.0  28383.0  28587.0  25234  24020  \n",
       "418  10347.0  12582.0  14981.0  14901  11858  \n",
       "419  5226.0   5388.0   5099.0   3884   2820   \n",
       "420  27105.0  26745.0  25550.0  23929  22672  \n",
       "421  19669.0  20127.0  20360.0  21067  19796  "
      ]
     },
     "execution_count": 26,
     "metadata": {},
     "output_type": "execute_result"
    }
   ],
   "source": [
    "df.tail()"
   ]
  },
  {
   "cell_type": "code",
   "execution_count": 27,
   "metadata": {},
   "outputs": [
    {
     "data": {
      "text/plain": [
       "<matplotlib.axes._subplots.AxesSubplot at 0x1b1bf7ad0b8>"
      ]
     },
     "execution_count": 27,
     "metadata": {},
     "output_type": "execute_result"
    },
    {
     "data": {
      "image/png": "[encoded data removed]",
      "text/plain": [
       "<Figure size 504x360 with 1 Axes>"
      ]
     },
     "metadata": {
      "needs_background": "light"
     },
     "output_type": "display_data"
    }
   ],
   "source": [
    "ax = df.groupby(by='Borough')['2017'].sum().plot(kind='barh', alpha=.5, color='red', title='Ridership change from 2018 to 2017', figsize=(7,5))\n",
    "df.groupby(by='Borough')['2018'].sum().plot(kind='barh', ax=ax, color='gray')"
   ]
  },
  {
   "cell_type": "code",
   "execution_count": 20,
   "metadata": {},
   "outputs": [],
   "source": [
    "df.to_csv(\"station_weekend_ridership.csv\", index=False)"
   ]
  }
 ],
 "metadata": {
  "kernelspec": {
   "display_name": "Python 3",
   "language": "python",
   "name": "python3"
  },
  "language_info": {
   "codemirror_mode": {
    "name": "ipython",
    "version": 3
   },
   "file_extension": ".py",
   "mimetype": "text/x-python",
   "name": "python",
   "nbconvert_exporter": "python",
   "pygments_lexer": "ipython3",
   "version": "3.7.3"
  }
 },
 "nbformat": 4,
 "nbformat_minor": 2
}
