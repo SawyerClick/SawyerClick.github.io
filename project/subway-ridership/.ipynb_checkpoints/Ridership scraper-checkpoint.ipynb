{
 "cells": [
  {
   "cell_type": "code",
   "execution_count": 72,
   "metadata": {},
   "outputs": [
    {
     "data": {
      "text/html": [
       "        <script type=\"text/javascript\">\n",
       "        window.PlotlyConfig = {MathJaxConfig: 'local'};\n",
       "        if (window.MathJax) {MathJax.Hub.Config({SVG: {font: \"STIX-Web\"}});}\n",
       "        if (typeof require !== 'undefined') {\n",
       "        require.undef(\"plotly\");\n",
       "        requirejs.config({\n",
       "            paths: {\n",
       "                'plotly': ['https://cdn.plot.ly/plotly-latest.min']\n",
       "            }\n",
       "        });\n",
       "        require(['plotly'], function(Plotly) {\n",
       "            window._Plotly = Plotly;\n",
       "        });\n",
       "        }\n",
       "        </script>\n",
       "        "
      ]
     },
     "metadata": {},
     "output_type": "display_data"
    }
   ],
   "source": [
    "from bs4 import BeautifulSoup\n",
    "import pandas as pd\n",
    "pd.set_option('display.max_colwidth', -1)\n",
    "\n",
    "import re\n",
    "import requests\n",
    "\n",
    "import matplotlib\n",
    "import matplotlib.pyplot as plt\n",
    "import matplotlib.patches as mpatches\n",
    "matplotlib.rcParams['pdf.fonttype'] = 42\n",
    "\n",
    "%matplotlib inline\n",
    "plt.style.use('ggplot')\n",
    "\n",
    "import plotly.graph_objs as go\n",
    "from plotly.offline import download_plotlyjs, init_notebook_mode, plot, iplot\n",
    "import cufflinks as cf\n",
    "cf.go_offline()"
   ]
  },
  {
   "cell_type": "markdown",
   "metadata": {},
   "source": [
    "# Annual ridership\n",
    "`http://web.mta.info/nyct/facts/ridership/ridership_sub_annual.htm`"
   ]
  },
  {
   "cell_type": "code",
   "execution_count": 216,
   "metadata": {},
   "outputs": [],
   "source": [
    "response = requests.get(\"http://web.mta.info/nyct/facts/ridership/ridership_sub_annual.htm\")\n",
    "doc = BeautifulSoup(response.text)"
   ]
  },
  {
   "cell_type": "code",
   "execution_count": 217,
   "metadata": {},
   "outputs": [],
   "source": [
    "stations = []\n",
    "lines = \"\"\n",
    "for row in doc.find_all(\"tr\")[4:]:\n",
    "    station = {}\n",
    "    total = \"\"\n",
    "    try:\n",
    "        \n",
    "        station['Station'] = row.find_all(\"td\")[0].text.strip()        \n",
    "        try: \n",
    "            for pic in row.find(\"td\").find(\"div\").find_all(\"img\"):\n",
    "                one = pic['alt'].split(\" \")[0]\n",
    "                total = one + total\n",
    "                station['lines'] = total\n",
    "        except:\n",
    "            pass\n",
    "\n",
    "        station['2013'] = row.find_all(\"td\")[1].text\n",
    "        station['2014'] = row.find_all(\"td\")[2].text\n",
    "        station['2015'] = row.find_all(\"td\")[3].text\n",
    "        station['2016'] = row.find_all(\"td\")[4].text\n",
    "        station['2017'] = row.find_all(\"td\")[5].text\n",
    "        station['2018'] = row.find_all(\"td\")[6].text.strip()\n",
    "        station['Rank'] = row.find_all(\"td\")[9].text\n",
    "        station['Borough'] = row.find_previous(\"td\", colspan=\"10\").text\n",
    "        stations.append(station)\n",
    "    except: pass"
   ]
  },
  {
   "cell_type": "code",
   "execution_count": 218,
   "metadata": {},
   "outputs": [],
   "source": [
    "df = pd.DataFrame(stations, columns=['Station','lines','Borough','Rank','2013','2014','2015','2016','2017','2018'])\n",
    "df = df.dropna()"
   ]
  },
  {
   "cell_type": "code",
   "execution_count": 219,
   "metadata": {},
   "outputs": [],
   "source": [
    "## Changing the numbers to actual numbers\n",
    "\n",
    "cols = ['2013', '2014','2015','2016','2017','2018']\n",
    "df[cols] = df[cols].apply(lambda x: pd.to_numeric(x.astype(str).str.replace(',',''), errors='coerce'))\n",
    "df.Rank = df.Rank.astype(int)"
   ]
  },
  {
   "cell_type": "markdown",
   "metadata": {},
   "source": [
    "## Large analysis"
   ]
  },
  {
   "cell_type": "code",
   "execution_count": 220,
   "metadata": {},
   "outputs": [
    {
     "data": {
      "text/plain": [
       "array([157, 121,  78,  68], dtype=int64)"
      ]
     },
     "execution_count": 220,
     "metadata": {},
     "output_type": "execute_result"
    }
   ],
   "source": [
    "df.groupby('Borough').Station.count().values"
   ]
  },
  {
   "cell_type": "code",
   "execution_count": 221,
   "metadata": {},
   "outputs": [],
   "source": [
    "def get_change(x):\n",
    "    return x['2018'] - x['2017']\n",
    "\n",
    "df['17-18 change'] = df.apply(get_change, axis=1)"
   ]
  },
  {
   "cell_type": "markdown",
   "metadata": {},
   "source": [
    "## Total loss by year, boroughs condensed"
   ]
  },
  {
   "cell_type": "code",
   "execution_count": 222,
   "metadata": {
    "scrolled": false
   },
   "outputs": [
    {
     "data": {
      "image/png": "[encoded data removed]",
      "text/plain": [
       "<Figure size 720x360 with 1 Axes>"
      ]
     },
     "metadata": {},
     "output_type": "display_data"
    }
   ],
   "source": [
    "\n",
    "\n",
    "total={}\n",
    "total['index'] = [0]\n",
    "total['13-14'] = (df['2014'].sum() - df['2013'].sum())\n",
    "total['14-15'] = (df['2015'].sum() - df['2014'].sum()) \n",
    "total['15-16'] = (df['2016'].sum() - df['2015'].sum())\n",
    "total['16-17'] = (df['2017'].sum() - df['2016'].sum())\n",
    "total['17-18'] = (df['2018'].sum() - df['2017'].sum())\n",
    "total = pd.DataFrame(total)\n",
    "total = total.transpose()\n",
    "ax=total.tail(5).plot(legend=False, figsize=(10,5))\n",
    "ax.set_yticklabels(['','','-40m','-20m','0','20m','40m'])\n",
    "ax.set_xticklabels('')\n",
    "\n",
    "plt.savefig(\"images/header_image.pdf\")"
   ]
  },
  {
   "cell_type": "markdown",
   "metadata": {},
   "source": [
    "##  Total ridership by borough"
   ]
  },
  {
   "cell_type": "code",
   "execution_count": 223,
   "metadata": {},
   "outputs": [
    {
     "data": {
      "text/plain": [
       "<matplotlib.axes._subplots.AxesSubplot at 0x21524335fd0>"
      ]
     },
     "execution_count": 223,
     "metadata": {},
     "output_type": "execute_result"
    },
    {
     "data": {
      "image/png": "[encoded data removed]",
      "text/plain": [
       "<Figure size 504x360 with 1 Axes>"
      ]
     },
     "metadata": {},
     "output_type": "display_data"
    }
   ],
   "source": [
    "df.groupby('Borough').sum().plot(kind='bar', y=['2013','2014','2015','2016','2017','2018'], color=['gray','gray','gray','gray','gray','#D36157'], figsize=(7, 5))"
   ]
  },
  {
   "cell_type": "markdown",
   "metadata": {},
   "source": [
    "## Average loss per station in borough\n"
   ]
  },
  {
   "cell_type": "code",
   "execution_count": 224,
   "metadata": {},
   "outputs": [
    {
     "data": {
      "text/html": [
       "<div>\n",
       "<style scoped>\n",
       "    .dataframe tbody tr th:only-of-type {\n",
       "        vertical-align: middle;\n",
       "    }\n",
       "\n",
       "    .dataframe tbody tr th {\n",
       "        vertical-align: top;\n",
       "    }\n",
       "\n",
       "    .dataframe thead th {\n",
       "        text-align: right;\n",
       "    }\n",
       "</style>\n",
       "<table border=\"1\" class=\"dataframe\">\n",
       "  <thead>\n",
       "    <tr style=\"text-align: right;\">\n",
       "      <th></th>\n",
       "      <th>borough</th>\n",
       "      <th>13-14</th>\n",
       "      <th>14-15</th>\n",
       "      <th>15-16</th>\n",
       "      <th>16-17</th>\n",
       "      <th>17-18</th>\n",
       "    </tr>\n",
       "  </thead>\n",
       "  <tbody>\n",
       "    <tr>\n",
       "      <th>0</th>\n",
       "      <td>Brooklyn</td>\n",
       "      <td>10332661.0</td>\n",
       "      <td>4823755.0</td>\n",
       "      <td>-3008378.0</td>\n",
       "      <td>-5167670.0</td>\n",
       "      <td>-9141248.0</td>\n",
       "    </tr>\n",
       "    <tr>\n",
       "      <th>1</th>\n",
       "      <td>Manhattan</td>\n",
       "      <td>24960142.0</td>\n",
       "      <td>5029404.0</td>\n",
       "      <td>-3937801.0</td>\n",
       "      <td>-10821930.0</td>\n",
       "      <td>-19055757.0</td>\n",
       "    </tr>\n",
       "    <tr>\n",
       "      <th>2</th>\n",
       "      <td>Queens</td>\n",
       "      <td>4990699.0</td>\n",
       "      <td>1644794.0</td>\n",
       "      <td>452828.0</td>\n",
       "      <td>-9667468.0</td>\n",
       "      <td>-9027716.0</td>\n",
       "    </tr>\n",
       "    <tr>\n",
       "      <th>3</th>\n",
       "      <td>The Bronx</td>\n",
       "      <td>3398860.0</td>\n",
       "      <td>-192694.0</td>\n",
       "      <td>761151.0</td>\n",
       "      <td>-3858174.0</td>\n",
       "      <td>-9981906.0</td>\n",
       "    </tr>\n",
       "  </tbody>\n",
       "</table>\n",
       "</div>"
      ],
      "text/plain": [
       "     borough       13-14      14-15      15-16       16-17       17-18\n",
       "0  Brooklyn   10332661.0  4823755.0 -3008378.0 -5167670.0  -9141248.0 \n",
       "1  Manhattan  24960142.0  5029404.0 -3937801.0 -10821930.0 -19055757.0\n",
       "2  Queens     4990699.0   1644794.0  452828.0  -9667468.0  -9027716.0 \n",
       "3  The Bronx  3398860.0  -192694.0   761151.0  -3858174.0  -9981906.0 "
      ]
     },
     "execution_count": 224,
     "metadata": {},
     "output_type": "execute_result"
    }
   ],
   "source": [
    "avg={}\n",
    "avg['borough'] = ['Brooklyn','Manhattan','Queens','The Bronx']\n",
    "avg['13-14'] = (df.groupby('Borough')['2014'].sum().values - df.groupby('Borough')['2013'].sum().values) / df.groupby('Borough').Station.count().values\n",
    "avg['14-15'] = (df.groupby('Borough')['2015'].sum().values - df.groupby('Borough')['2014'].sum().values) / df.groupby('Borough').Station.count().values\n",
    "avg['15-16'] = (df.groupby('Borough')['2016'].sum().values - df.groupby('Borough')['2015'].sum().values) / df.groupby('Borough').Station.count().values\n",
    "avg['16-17'] = (df.groupby('Borough')['2017'].sum().values - df.groupby('Borough')['2016'].sum().values) / df.groupby('Borough').Station.count().values\n",
    "avg['17-18'] = (df.groupby('Borough')['2018'].sum().values - df.groupby('Borough')['2017'].sum().values) / df.groupby('Borough').Station.count().values\n",
    "avg = pd.DataFrame(df2)\n",
    "avg.head()\n",
    "# df.groupby('Borough').Station.count().values"
   ]
  },
  {
   "cell_type": "code",
   "execution_count": 225,
   "metadata": {},
   "outputs": [
    {
     "data": {
      "image/png": "[encoded data removed]",
      "text/plain": [
       "<Figure size 720x360 with 1 Axes>"
      ]
     },
     "metadata": {},
     "output_type": "display_data"
    }
   ],
   "source": [
    "fig, ax = plt.subplots(figsize=(10,5))\n",
    "ax.set_ylim([-1,7])\n",
    "ax.set_xlim([-22000000, 27000000])\n",
    "ax.xaxis.tick_top()\n",
    "ax.set_yticklabels(['','Brooklyn','','Manhattan','','Queens','','The Bronx',''])\n",
    "ax.set_xticklabels(['','-20m','-10m','0','10m','20m'])\n",
    "# ax.set_title('Change in annual subway ridership from year to year')\n",
    "\n",
    "ax.hlines(xmin=0, xmax=avg['13-14'], y=[(0+.4), (2+.4), (4+.4), (6+.4)], color='#5E8066')\n",
    "legend = [ax.scatter(x=avg['13-14'], y=[(0+.4), (2+.4), (4+.4), (6+.4)], s=75, color='#5E8066')]\n",
    "\n",
    "ax.hlines(xmin=0, xmax=avg['14-15'], y=[(0+.2), (2+.2), (4+.2), (6+.2)], color='#8EBF99')\n",
    "legend = [ax.scatter(x=avg['14-15'], y=[(0+.2), (2+.2), (4+.2), (6+.2)], s=75, color='#8EBF99')]\n",
    "\n",
    "ax.hlines(xmin=0, xmax=avg['15-16'], y=[(0), (2), (4), (6)], color='#7bccc4')\n",
    "legend = [ax.scatter(x=avg['15-16'], y=[(0), (2), (4), (6)], s=75, color='#7bccc4')]\n",
    "\n",
    "ax.hlines(xmin=avg['16-17'], xmax=0, y=[(0-.2), (2-.2), (4-.2), (6-.2)], color='#43a2ca')\n",
    "legend = [ax.scatter(x=avg['16-17'], y=[(0-.2), (2-.2), (4-.2), (6-.2)], s=75, color='#43a2ca')]\n",
    "\n",
    "ax.hlines(xmin=avg['17-18'], xmax=0, y=[(0-.4), (2-.4), (4-.4), (6-.4)], color='#2c7bb6')\n",
    "legend = [ax.scatter(x=avg['17-18'], y=[(0-.4), (2-.4), (4-.4), (6-.4)], s=75, color='#2c7bb6')]\n",
    "\n",
    "three_four = mpatches.Patch(color='#5E8066', label='2013-14')\n",
    "four_five = mpatches.Patch(color='#8EBF99', label='2014-15')\n",
    "five_six = mpatches.Patch(color='#7bccc4', label='2015-16')\n",
    "six_seven = mpatches.Patch(color='#43a2ca', label='2016-17')\n",
    "seven_eight = mpatches.Patch(color='#2c7bb6', label=\"2017-18\")\n",
    "\n",
    "ax.legend(handles=[three_four, four_five,five_six,six_seven,seven_eight], bbox_to_anchor=(.9, .95))\n",
    "ax.tick_params(axis=u'both', which=u'both',length=0)\n",
    "\n",
    "plt.savefig(\"images/annual_ridership_by_borough.svg\", bbox_inches='tight', transparent=True)"
   ]
  },
  {
   "cell_type": "markdown",
   "metadata": {},
   "source": [
    "## Total loss per borough per year"
   ]
  },
  {
   "cell_type": "code",
   "execution_count": 226,
   "metadata": {},
   "outputs": [
    {
     "data": {
      "text/html": [
       "<div>\n",
       "<style scoped>\n",
       "    .dataframe tbody tr th:only-of-type {\n",
       "        vertical-align: middle;\n",
       "    }\n",
       "\n",
       "    .dataframe tbody tr th {\n",
       "        vertical-align: top;\n",
       "    }\n",
       "\n",
       "    .dataframe thead th {\n",
       "        text-align: right;\n",
       "    }\n",
       "</style>\n",
       "<table border=\"1\" class=\"dataframe\">\n",
       "  <thead>\n",
       "    <tr style=\"text-align: right;\">\n",
       "      <th></th>\n",
       "      <th>borough</th>\n",
       "      <th>13-14</th>\n",
       "      <th>14-15</th>\n",
       "      <th>15-16</th>\n",
       "      <th>16-17</th>\n",
       "      <th>17-18</th>\n",
       "    </tr>\n",
       "  </thead>\n",
       "  <tbody>\n",
       "    <tr>\n",
       "      <th>0</th>\n",
       "      <td>Brooklyn</td>\n",
       "      <td>10332661.0</td>\n",
       "      <td>4823755.0</td>\n",
       "      <td>-3008378.0</td>\n",
       "      <td>-5167670.0</td>\n",
       "      <td>-9141248.0</td>\n",
       "    </tr>\n",
       "    <tr>\n",
       "      <th>1</th>\n",
       "      <td>Manhattan</td>\n",
       "      <td>24960142.0</td>\n",
       "      <td>5029404.0</td>\n",
       "      <td>-3937801.0</td>\n",
       "      <td>-10821930.0</td>\n",
       "      <td>-19055757.0</td>\n",
       "    </tr>\n",
       "    <tr>\n",
       "      <th>2</th>\n",
       "      <td>Queens</td>\n",
       "      <td>4990699.0</td>\n",
       "      <td>1644794.0</td>\n",
       "      <td>452828.0</td>\n",
       "      <td>-9667468.0</td>\n",
       "      <td>-9027716.0</td>\n",
       "    </tr>\n",
       "    <tr>\n",
       "      <th>3</th>\n",
       "      <td>The Bronx</td>\n",
       "      <td>3398860.0</td>\n",
       "      <td>-192694.0</td>\n",
       "      <td>761151.0</td>\n",
       "      <td>-3858174.0</td>\n",
       "      <td>-9981906.0</td>\n",
       "    </tr>\n",
       "  </tbody>\n",
       "</table>\n",
       "</div>"
      ],
      "text/plain": [
       "     borough       13-14      14-15      15-16       16-17       17-18\n",
       "0  Brooklyn   10332661.0  4823755.0 -3008378.0 -5167670.0  -9141248.0 \n",
       "1  Manhattan  24960142.0  5029404.0 -3937801.0 -10821930.0 -19055757.0\n",
       "2  Queens     4990699.0   1644794.0  452828.0  -9667468.0  -9027716.0 \n",
       "3  The Bronx  3398860.0  -192694.0   761151.0  -3858174.0  -9981906.0 "
      ]
     },
     "execution_count": 226,
     "metadata": {},
     "output_type": "execute_result"
    }
   ],
   "source": [
    "df2={}\n",
    "df2['borough'] = ['Brooklyn','Manhattan','Queens','The Bronx']\n",
    "df2['13-14'] = (df.groupby('Borough')['2014'].sum().values - df.groupby('Borough')['2013'].sum().values)\n",
    "df2['14-15'] = (df.groupby('Borough')['2015'].sum().values - df.groupby('Borough')['2014'].sum().values)\n",
    "df2['15-16'] = (df.groupby('Borough')['2016'].sum().values - df.groupby('Borough')['2015'].sum().values)\n",
    "df2['16-17'] = (df.groupby('Borough')['2017'].sum().values - df.groupby('Borough')['2016'].sum().values)\n",
    "df2['17-18'] = (df.groupby('Borough')['2018'].sum().values - df.groupby('Borough')['2017'].sum().values)\n",
    "df2 = pd.DataFrame(df2)\n",
    "df2.head()\n",
    "# df.groupby('Borough').Station.count().values"
   ]
  },
  {
   "cell_type": "code",
   "execution_count": 227,
   "metadata": {},
   "outputs": [
    {
     "data": {
      "image/png": "[encoded data removed]",
      "text/plain": [
       "<Figure size 720x360 with 1 Axes>"
      ]
     },
     "metadata": {},
     "output_type": "display_data"
    }
   ],
   "source": [
    "ax = df2.plot(kind='barh', x='borough', y=['13-14','14-15','15-16','16-17','17-18'], figsize=(10,5))\n",
    "ax.set_ylabel('')\n",
    "ax.set_xticklabels(['','-20m','-10m','0','10m','20m'])\n",
    "\n",
    "plt.savefig(\"images/annual_ridership_by_borough_2.svg\", bbox_inches='tight')"
   ]
  },
  {
   "cell_type": "code",
   "execution_count": 228,
   "metadata": {},
   "outputs": [
    {
     "data": {
      "image/png": "[encoded data removed]",
      "text/plain": [
       "<Figure size 720x360 with 1 Axes>"
      ]
     },
     "metadata": {},
     "output_type": "display_data"
    }
   ],
   "source": [
    "fig, ax = plt.subplots(figsize=(10,5))\n",
    "ax.set_ylim([-1,7])\n",
    "ax.set_xlim([-22000000, 27000000])\n",
    "ax.xaxis.tick_top()\n",
    "ax.set_yticklabels(['','Brooklyn','','Manhattan','','Queens','','The Bronx',''])\n",
    "ax.set_xticklabels(['','-20m','-10m','0','10m','20m'])\n",
    "# ax.set_title('Change in annual subway ridership from year to year')\n",
    "\n",
    "ax.hlines(xmin=0, xmax=df2['13-14'], y=[(0+.4), (2+.4), (4+.4), (6+.4)], color='#5E8066')\n",
    "legend = [ax.scatter(x=df2['13-14'], y=[(0+.4), (2+.4), (4+.4), (6+.4)], s=75, color='#5E8066')]\n",
    "\n",
    "ax.hlines(xmin=0, xmax=df2['14-15'], y=[(0+.2), (2+.2), (4+.2), (6+.2)], color='#8EBF99')\n",
    "legend = [ax.scatter(x=df2['14-15'], y=[(0+.2), (2+.2), (4+.2), (6+.2)], s=75, color='#8EBF99')]\n",
    "\n",
    "ax.hlines(xmin=0, xmax=df2['15-16'], y=[(0), (2), (4), (6)], color='#7bccc4')\n",
    "legend = [ax.scatter(x=df2['15-16'], y=[(0), (2), (4), (6)], s=75, color='#7bccc4')]\n",
    "\n",
    "ax.hlines(xmin=df2['16-17'], xmax=0, y=[(0-.2), (2-.2), (4-.2), (6-.2)], color='#43a2ca')\n",
    "legend = [ax.scatter(x=df2['16-17'], y=[(0-.2), (2-.2), (4-.2), (6-.2)], s=75, color='#43a2ca')]\n",
    "\n",
    "ax.hlines(xmin=df2['17-18'], xmax=0, y=[(0-.4), (2-.4), (4-.4), (6-.4)], color='#2c7bb6')\n",
    "legend = [ax.scatter(x=df2['17-18'], y=[(0-.4), (2-.4), (4-.4), (6-.4)], s=75, color='#2c7bb6')]\n",
    "\n",
    "three_four = mpatches.Patch(color='#5E8066', label='2013-14')\n",
    "four_five = mpatches.Patch(color='#8EBF99', label='2014-15')\n",
    "five_six = mpatches.Patch(color='#7bccc4', label='2015-16')\n",
    "six_seven = mpatches.Patch(color='#43a2ca', label='2016-17')\n",
    "seven_eight = mpatches.Patch(color='#2c7bb6', label=\"2017-18\")\n",
    "\n",
    "ax.legend(handles=[three_four, four_five,five_six,six_seven,seven_eight], bbox_to_anchor=(.9, .95))\n",
    "ax.tick_params(axis=u'both', which=u'both',length=0)\n",
    "\n",
    "plt.savefig(\"images/annual_ridership_by_borough_1.svg\", bbox_inches='tight', transparent=True)"
   ]
  },
  {
   "cell_type": "code",
   "execution_count": 229,
   "metadata": {},
   "outputs": [
    {
     "data": {
      "image/png": "[encoded data removed]",
      "text/plain": [
       "<Figure size 720x504 with 1 Axes>"
      ]
     },
     "metadata": {},
     "output_type": "display_data"
    }
   ],
   "source": [
    "fig, ax = plt.subplots(figsize=(10,7))\n",
    "ax.set_xlim([-1,7])\n",
    "ax.set_ylim([-22000000, 27000000])\n",
    "# ax.xaxis.tick_top()\n",
    "ax.set_xticklabels(['','Brooklyn','','Manhattan','','Queens','','The Bronx',''])\n",
    "ax.set_yticklabels(['','-20m','-10m','0','10m','20m'])\n",
    "# # ax.set_title('Change in annual subway ridership from year to year')\n",
    "\n",
    "ax.vlines(ymin=0, ymax=df2['13-14'], x=[(0+.4), (2+.4), (4+.4), (6+.4)], color='#5E8066')\n",
    "legend = [ax.scatter(y=df2['13-14'], x=[(0+.4), (2+.4), (4+.4), (6+.4)], s=75, color='#5E8066')]\n",
    "\n",
    "ax.vlines(ymin=0, ymax=df2['14-15'], x=[(0+.2), (2+.2), (4+.2), (6+.2)], color='#8EBF99')\n",
    "legend = [ax.scatter(y=df2['14-15'], x=[(0+.2), (2+.2), (4+.2), (6+.2)], s=75, color='#8EBF99')]\n",
    "\n",
    "ax.vlines(ymin=0, ymax=df2['15-16'], x=[(0), (2), (4), (6)], color='#7bccc4')\n",
    "legend = [ax.scatter(y=df2['15-16'], x=[(0), (2), (4), (6)], s=75, color='#7bccc4')]\n",
    "\n",
    "ax.vlines(ymin=df2['16-17'], ymax=0, x=[(0-.2), (2-.2), (4-.2), (6-.2)], color='#43a2ca')\n",
    "legend = [ax.scatter(y=df2['16-17'], x=[(0-.2), (2-.2), (4-.2), (6-.2)], s=75, color='#43a2ca')]\n",
    "\n",
    "ax.vlines(ymin=df2['17-18'], ymax=0, x=[(0-.4), (2-.4), (4-.4), (6-.4)], color='#2c7bb6')\n",
    "legend = [ax.scatter(y=df2['17-18'], x=[(0-.4), (2-.4), (4-.4), (6-.4)], s=75, color='#2c7bb6')]\n",
    "\n",
    "three_four = mpatches.Patch(color='#5E8066', label='2013-14')\n",
    "four_five = mpatches.Patch(color='#8EBF99', label='2014-15')\n",
    "five_six = mpatches.Patch(color='#7bccc4', label='2015-16')\n",
    "six_seven = mpatches.Patch(color='#43a2ca', label='2016-17')\n",
    "seven_eight = mpatches.Patch(color='#2c7bb6', label=\"2017-18\")\n",
    "\n",
    "ax.legend(handles=[three_four, four_five,five_six,six_seven,seven_eight], bbox_to_anchor=(.9, .95))\n",
    "ax.tick_params(axis=u'both', which=u'both',length=0)\n",
    "\n",
    "plt.savefig(\"images/annual_ridership_by_borough_3.svg\", bbox_inches='tight', transparent=True)"
   ]
  },
  {
   "cell_type": "markdown",
   "metadata": {},
   "source": [
    "## Change in ridership from 2017-18"
   ]
  },
  {
   "cell_type": "code",
   "execution_count": 230,
   "metadata": {
    "scrolled": true
   },
   "outputs": [
    {
     "data": {
      "image/png": "[encoded data removed]",
      "text/plain": [
       "<Figure size 720x360 with 1 Axes>"
      ]
     },
     "metadata": {},
     "output_type": "display_data"
    }
   ],
   "source": [
    "fig, ax = plt.subplots(figsize=(10,5))\n",
    "ax.vlines(ymin=[0], ymax=df.groupby('Borough')['17-18 change'].sum().sort_values().iloc[::-1], x=df.groupby('Borough')['2018'].sum().index, color='#d36157')\n",
    "# ax.yaxis.tick_top()\n",
    "ax.set_xticklabels(['Queens','Brooklyn','The Bronx','Manhattan'])\n",
    "ax.set_title('Change in ridership from 2017 to 2018')\n",
    "legend = [ax.scatter(y=df.groupby('Borough')['17-18 change'].sum().sort_values().iloc[::-1], x=df.groupby('Borough')['17-18 change'].sum().index, s=100, color='#d36157')]"
   ]
  },
  {
   "cell_type": "code",
   "execution_count": 249,
   "metadata": {},
   "outputs": [
    {
     "ename": "SyntaxError",
     "evalue": "unexpected EOF while parsing (<ipython-input-249-9d09de67acb2>, line 2)",
     "output_type": "error",
     "traceback": [
      "\u001b[1;36m  File \u001b[1;32m\"<ipython-input-249-9d09de67acb2>\"\u001b[1;36m, line \u001b[1;32m2\u001b[0m\n\u001b[1;33m    # print(df[df['17-18 change'] < 0].shape[0])\u001b[0m\n\u001b[1;37m                                                ^\u001b[0m\n\u001b[1;31mSyntaxError\u001b[0m\u001b[1;31m:\u001b[0m unexpected EOF while parsing\n"
     ]
    }
   ],
   "source": [
    "print(df[df['17-18 change'] > 0].value_counts()\n",
    "# print(df[df['17-18 change'] < 0].shape[0])"
   ]
  },
  {
   "cell_type": "code",
   "execution_count": null,
   "metadata": {},
   "outputs": [],
   "source": []
  },
  {
   "cell_type": "code",
   "execution_count": null,
   "metadata": {},
   "outputs": [],
   "source": [
    "df.to_csv(\"station_annual_ridership.csv\", index=False)"
   ]
  },
  {
   "cell_type": "code",
   "execution_count": null,
   "metadata": {},
   "outputs": [],
   "source": []
  },
  {
   "cell_type": "markdown",
   "metadata": {},
   "source": [
    "\n",
    "<hr>\n",
    "<hr>\n",
    "<hr>\n",
    "\n",
    "## Average weekday ridership\n",
    "`http://web.mta.info/nyct/facts/ridership/ridership_sub.htm`"
   ]
  },
  {
   "cell_type": "code",
   "execution_count": 160,
   "metadata": {},
   "outputs": [],
   "source": [
    "response = requests.get(\"http://web.mta.info/nyct/facts/ridership/ridership_sub.htm\")\n",
    "doc = BeautifulSoup(response.text)"
   ]
  },
  {
   "cell_type": "code",
   "execution_count": 161,
   "metadata": {},
   "outputs": [],
   "source": [
    "stations = []\n",
    "lines = \"\"\n",
    "for row in doc.find_all(\"tr\")[5:]:\n",
    "    station = {}\n",
    "    total = \"\"\n",
    "    try:\n",
    "        \n",
    "        station['Station'] = row.find_all(\"td\")[0].text.strip()        \n",
    "        try: \n",
    "            for pic in row.find(\"td\").find(\"div\").find_all(\"img\"):\n",
    "                one = pic['alt'].split(\" \")[0]\n",
    "                total = one + total\n",
    "                station['lines'] = total\n",
    "        except:\n",
    "            pass\n",
    "\n",
    "        station['2013'] = row.find_all(\"td\")[1].text\n",
    "        station['2014'] = row.find_all(\"td\")[2].text\n",
    "        station['2015'] = row.find_all(\"td\")[3].text\n",
    "        station['2016'] = row.find_all(\"td\")[4].text\n",
    "        station['2017'] = row.find_all(\"td\")[5].text\n",
    "        station['2018'] = row.find_all(\"td\")[6].text.strip()\n",
    "        station['Rank'] = row.find_all(\"td\")[9].text\n",
    "        station['Borough'] = row.find_previous(\"td\", colspan=\"10\").text\n",
    "        stations.append(station)\n",
    "    except: pass"
   ]
  },
  {
   "cell_type": "code",
   "execution_count": 162,
   "metadata": {},
   "outputs": [],
   "source": [
    "weekday = pd.DataFrame(stations, columns=['Station','lines','Borough','Rank','2013','2014','2015','2016','2017','2018'])\n",
    "weekday = weekday.dropna()\n",
    "\n",
    "## Changing the numbers to actual numbers\n",
    "cols = ['2013', '2014','2015','2016','2017','2018']\n",
    "weekday[cols] = df[cols].apply(lambda x: pd.to_numeric(x.astype(str).str.replace(',',''), errors='coerce'))\n",
    "weekday.Rank = weekday.Rank.astype(int)\n",
    "weekday['change'] = weekday['2018'] - weekday['2017']"
   ]
  },
  {
   "cell_type": "code",
   "execution_count": 168,
   "metadata": {},
   "outputs": [
    {
     "data": {
      "text/plain": [
       "<matplotlib.axes._subplots.AxesSubplot at 0x21517327ac8>"
      ]
     },
     "execution_count": 168,
     "metadata": {},
     "output_type": "execute_result"
    },
    {
     "data": {
      "image/png": "[encoded data removed]",
      "text/plain": [
       "<Figure size 432x288 with 1 Axes>"
      ]
     },
     "metadata": {},
     "output_type": "display_data"
    }
   ],
   "source": [
    "weekday.groupby('Borough').max().plot(kind='barh', y='2018')"
   ]
  },
  {
   "cell_type": "code",
   "execution_count": 214,
   "metadata": {
    "scrolled": false
   },
   "outputs": [
    {
     "data": {
      "text/plain": [
       "Borough\n",
       "Brooklyn     188225\n",
       "Manhattan    548092\n",
       "Queens       82248 \n",
       "The Bronx    301240\n",
       "Name: 2018, dtype: int64"
      ]
     },
     "execution_count": 214,
     "metadata": {},
     "output_type": "execute_result"
    }
   ],
   "source": [
    "weekday.groupby('Borough')['2018'].min()"
   ]
  },
  {
   "cell_type": "code",
   "execution_count": 59,
   "metadata": {},
   "outputs": [],
   "source": [
    "df['change'] = df['2018'] - df['2017']"
   ]
  },
  {
   "cell_type": "code",
   "execution_count": 63,
   "metadata": {},
   "outputs": [],
   "source": [
    "df.to_csv(\"station_weekday_ridership.csv\", index=False)"
   ]
  },
  {
   "cell_type": "code",
   "execution_count": null,
   "metadata": {},
   "outputs": [],
   "source": []
  },
  {
   "cell_type": "code",
   "execution_count": null,
   "metadata": {},
   "outputs": [],
   "source": []
  },
  {
   "cell_type": "code",
   "execution_count": null,
   "metadata": {},
   "outputs": [],
   "source": []
  },
  {
   "cell_type": "code",
   "execution_count": null,
   "metadata": {},
   "outputs": [],
   "source": []
  },
  {
   "cell_type": "code",
   "execution_count": null,
   "metadata": {},
   "outputs": [],
   "source": []
  },
  {
   "cell_type": "markdown",
   "metadata": {},
   "source": [
    "## Average Weekend Ridership\n",
    "`http://web.mta.info/nyct/facts/ridership/ridership_sub_weekend.htm`"
   ]
  },
  {
   "cell_type": "code",
   "execution_count": 64,
   "metadata": {},
   "outputs": [],
   "source": [
    "response = requests.get(\"http://web.mta.info/nyct/facts/ridership/ridership_sub_weekend.htm\")\n",
    "doc = BeautifulSoup(response.text)"
   ]
  },
  {
   "cell_type": "code",
   "execution_count": 65,
   "metadata": {},
   "outputs": [],
   "source": [
    "stations = []\n",
    "lines = \"\"\n",
    "for row in doc.find_all(\"tr\")[5:]:\n",
    "    station = {}\n",
    "    total = \"\"\n",
    "    try:\n",
    "        \n",
    "        station['Station'] = row.find_all(\"td\")[0].text.strip()        \n",
    "        try: \n",
    "            for pic in row.find(\"td\").find(\"div\").find_all(\"img\"):\n",
    "                one = pic['alt'].split(\" \")[0]\n",
    "                total = one + total\n",
    "                station['lines'] = total\n",
    "        except:\n",
    "            pass\n",
    "\n",
    "        station['2013'] = row.find_all(\"td\")[1].text\n",
    "        station['2014'] = row.find_all(\"td\")[2].text\n",
    "        station['2015'] = row.find_all(\"td\")[3].text\n",
    "        station['2016'] = row.find_all(\"td\")[4].text\n",
    "        station['2017'] = row.find_all(\"td\")[5].text\n",
    "        station['2018'] = row.find_all(\"td\")[6].text.strip()\n",
    "        station['Rank'] = row.find_all(\"td\")[9].text\n",
    "        station['Borough'] = row.find_previous(\"td\", colspan=\"10\").text\n",
    "        stations.append(station)\n",
    "    except: pass"
   ]
  },
  {
   "cell_type": "code",
   "execution_count": 66,
   "metadata": {},
   "outputs": [],
   "source": [
    "df = pd.DataFrame(stations, columns=['Station','lines','Borough','Rank','2013','2014','2015','2016','2017','2018'])\n",
    "df = df.dropna()\n",
    "\n",
    "## Changing the numbers to actual numbers\n",
    "cols = ['2013', '2014','2015','2016','2017','2018']\n",
    "df[cols] = df[cols].apply(lambda x: pd.to_numeric(x.astype(str).str.replace(',',''), errors='coerce'))\n",
    "df.Rank = df.Rank.astype(int)"
   ]
  },
  {
   "cell_type": "code",
   "execution_count": 67,
   "metadata": {},
   "outputs": [
    {
     "data": {
      "text/html": [
       "<div>\n",
       "<style scoped>\n",
       "    .dataframe tbody tr th:only-of-type {\n",
       "        vertical-align: middle;\n",
       "    }\n",
       "\n",
       "    .dataframe tbody tr th {\n",
       "        vertical-align: top;\n",
       "    }\n",
       "\n",
       "    .dataframe thead th {\n",
       "        text-align: right;\n",
       "    }\n",
       "</style>\n",
       "<table border=\"1\" class=\"dataframe\">\n",
       "  <thead>\n",
       "    <tr style=\"text-align: right;\">\n",
       "      <th></th>\n",
       "      <th>Station</th>\n",
       "      <th>lines</th>\n",
       "      <th>Borough</th>\n",
       "      <th>Rank</th>\n",
       "      <th>2013</th>\n",
       "      <th>2014</th>\n",
       "      <th>2015</th>\n",
       "      <th>2016</th>\n",
       "      <th>2017</th>\n",
       "      <th>2018</th>\n",
       "    </tr>\n",
       "  </thead>\n",
       "  <tbody>\n",
       "    <tr>\n",
       "      <th>417</th>\n",
       "      <td>Sutphin    Blvd-Archer Av-JFK Airport</td>\n",
       "      <td>ZJE</td>\n",
       "      <td>Queens</td>\n",
       "      <td>52</td>\n",
       "      <td>26184.0</td>\n",
       "      <td>28862.0</td>\n",
       "      <td>28383.0</td>\n",
       "      <td>28587.0</td>\n",
       "      <td>25234</td>\n",
       "      <td>24020</td>\n",
       "    </tr>\n",
       "    <tr>\n",
       "      <th>418</th>\n",
       "      <td>Vernon    Blvd-Jackson Av</td>\n",
       "      <td>7</td>\n",
       "      <td>Queens</td>\n",
       "      <td>135</td>\n",
       "      <td>9491.0</td>\n",
       "      <td>10347.0</td>\n",
       "      <td>12582.0</td>\n",
       "      <td>14981.0</td>\n",
       "      <td>14901</td>\n",
       "      <td>11858</td>\n",
       "    </tr>\n",
       "    <tr>\n",
       "      <th>419</th>\n",
       "      <td>Woodhaven    Blvd</td>\n",
       "      <td>ZJ</td>\n",
       "      <td>Queens</td>\n",
       "      <td>354</td>\n",
       "      <td>4255.0</td>\n",
       "      <td>5226.0</td>\n",
       "      <td>5388.0</td>\n",
       "      <td>5099.0</td>\n",
       "      <td>3884</td>\n",
       "      <td>2820</td>\n",
       "    </tr>\n",
       "    <tr>\n",
       "      <th>420</th>\n",
       "      <td>Woodhaven    Blvd</td>\n",
       "      <td>RM</td>\n",
       "      <td>Queens</td>\n",
       "      <td>54</td>\n",
       "      <td>27194.0</td>\n",
       "      <td>27105.0</td>\n",
       "      <td>26745.0</td>\n",
       "      <td>25550.0</td>\n",
       "      <td>23929</td>\n",
       "      <td>22672</td>\n",
       "    </tr>\n",
       "    <tr>\n",
       "      <th>421</th>\n",
       "      <td>Woodside-61 St</td>\n",
       "      <td>7</td>\n",
       "      <td>Queens</td>\n",
       "      <td>73</td>\n",
       "      <td>20432.0</td>\n",
       "      <td>19669.0</td>\n",
       "      <td>20127.0</td>\n",
       "      <td>20360.0</td>\n",
       "      <td>21067</td>\n",
       "      <td>19796</td>\n",
       "    </tr>\n",
       "  </tbody>\n",
       "</table>\n",
       "</div>"
      ],
      "text/plain": [
       "                                   Station lines Borough  Rank     2013  \\\n",
       "417  Sutphin    Blvd-Archer Av-JFK Airport  ZJE   Queens  52    26184.0   \n",
       "418  Vernon    Blvd-Jackson Av              7     Queens  135   9491.0    \n",
       "419  Woodhaven    Blvd                      ZJ    Queens  354   4255.0    \n",
       "420  Woodhaven    Blvd                      RM    Queens  54    27194.0   \n",
       "421  Woodside-61 St                         7     Queens  73    20432.0   \n",
       "\n",
       "        2014     2015     2016   2017   2018  \n",
       "417  28862.0  28383.0  28587.0  25234  24020  \n",
       "418  10347.0  12582.0  14981.0  14901  11858  \n",
       "419  5226.0   5388.0   5099.0   3884   2820   \n",
       "420  27105.0  26745.0  25550.0  23929  22672  \n",
       "421  19669.0  20127.0  20360.0  21067  19796  "
      ]
     },
     "execution_count": 67,
     "metadata": {},
     "output_type": "execute_result"
    }
   ],
   "source": [
    "df.tail()"
   ]
  },
  {
   "cell_type": "code",
   "execution_count": 68,
   "metadata": {},
   "outputs": [
    {
     "data": {
      "text/plain": [
       "<matplotlib.axes._subplots.AxesSubplot at 0x21518670cf8>"
      ]
     },
     "execution_count": 68,
     "metadata": {},
     "output_type": "execute_result"
    },
    {
     "data": {
      "image/png": "[encoded data removed]",
      "text/plain": [
       "<Figure size 504x360 with 1 Axes>"
      ]
     },
     "metadata": {},
     "output_type": "display_data"
    }
   ],
   "source": [
    "ax = df.groupby(by='Borough')['2017'].sum().plot(kind='barh', alpha=.5, color='red', title='Ridership change from 2018 to 2017', figsize=(7,5))\n",
    "df.groupby(by='Borough')['2018'].sum().plot(kind='barh', ax=ax, color='gray')"
   ]
  },
  {
   "cell_type": "code",
   "execution_count": 69,
   "metadata": {},
   "outputs": [],
   "source": [
    "df.to_csv(\"station_weekend_ridership.csv\", index=False)"
   ]
  }
 ],
 "metadata": {
  "kernelspec": {
   "display_name": "Python 3",
   "language": "python",
   "name": "python3"
  },
  "language_info": {
   "codemirror_mode": {
    "name": "ipython",
    "version": 3
   },
   "file_extension": ".py",
   "mimetype": "text/x-python",
   "name": "python",
   "nbconvert_exporter": "python",
   "pygments_lexer": "ipython3",
   "version": "3.7.3"
  }
 },
 "nbformat": 4,
 "nbformat_minor": 2
}
