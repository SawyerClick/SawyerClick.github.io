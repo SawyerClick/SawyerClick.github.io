{
 "cells": [
  {
   "cell_type": "markdown",
   "metadata": {},
   "source": [
    "# Scraping Facebook for the candidates"
   ]
  },
  {
   "cell_type": "code",
   "execution_count": 1,
   "metadata": {},
   "outputs": [],
   "source": [
    "import requests\n",
    "import pandas as pd\n",
    "from bs4 import BeautifulSoup\n",
    "import re\n",
    "from selenium import webdriver\n",
    "import datetime as dt  \n",
    "import numpy as np\n",
    "from dotenv import load_dotenv\n",
    "load_dotenv()\n",
    "import os\n",
    "import json\n",
    "pd.set_option('display.max_colwidth', -1)\n",
    "\n",
    "api_key = os.getenv(\"GMAP_API\")\n",
    "import pandas as pd\n",
    "import matplotlib\n",
    "import matplotlib.pyplot as plt\n",
    "matplotlib.rcParams['pdf.fonttype'] = 42\n",
    "import seaborn as sns\n",
    "\n",
    "%matplotlib inline\n",
    "plt.style.use('fivethirtyeight')"
   ]
  },
  {
   "cell_type": "markdown",
   "metadata": {},
   "source": [
    "# Michael Bennet"
   ]
  },
  {
   "cell_type": "code",
   "execution_count": 2,
   "metadata": {},
   "outputs": [
    {
     "data": {
      "text/plain": [
       "[['MAY',\n",
       "  '31',\n",
       "  'Meet & Greet with Sen. Michael Bennet',\n",
       "  'Fri 6:00 PM EDT ',\n",
       "  ' 7 guests',\n",
       "  '836 Kilbourne Rd, Columbia, SC 29205-2050, United States'],\n",
       " ['MAY',\n",
       "  '5',\n",
       "  'House Party with Sen. Michael Bennet',\n",
       "  'Sun 5:30 PM CDT ',\n",
       "  ' 9 guests',\n",
       "  '2510 NE 12th Ct, Ankeny, IA 50021-7441, United States'],\n",
       " ['APR',\n",
       "  '7',\n",
       "  'Meet Sen. Michael Bennet in Dover',\n",
       "  'Sun 5:00 PM EDT ',\n",
       "  ' 12 guests',\n",
       "  '7 Fieldstone Drive, Dover']]"
      ]
     },
     "execution_count": 2,
     "metadata": {},
     "output_type": "execute_result"
    }
   ],
   "source": [
    "driver = webdriver.Chrome()\n",
    "driver.get(\"https://www.facebook.com/pg/michaelbennet/events/?ref=page_internal\")\n",
    "\n",
    "while driver.find_element_by_tag_name(\"div\"):\n",
    "    driver.execute_script(\"window.scrollTo(0, document.body.scrollHeight);\")\n",
    "    divs=driver.find_element_by_xpath('//*[@id=\"content_container\"]/div').text\n",
    "    if 'APR' in divs:\n",
    "        break\n",
    "    else:\n",
    "        continue\n",
    "driver.quit()\n",
    "\n",
    "divs = re.sub(r\"\\n([A-Z]{3}\\n\\d?)\", r\"\\n///\\1\", divs)\n",
    "divs = divs.split(\"\\n///\")\n",
    "del divs[0]\n",
    "divs = [tix.replace('\\nGet Tickets', \"\") for tix in divs]\n",
    "divs = [tix.replace('\\nPast Events', \"\") for tix in divs]\n",
    "divs = [tix.replace('\\nEnglish (US)\\nEspañol\\nFrançais (France)\\n中文(简体)\\nالعربية\\nPortuguês (Brasil)\\nItaliano\\n한국어\\nDeutsch\\nहिन्दी\\n日本語\\nSign UpLog InMessengerFacebook Lite Watch PeopleProfilesPagesPage CategoriesEventsPlacesGamesLocationsMarketplaceGroupsInstagramLocalFundraisersServicesAboutCreate AdCreate PageDevelopersCareersPrivacyCookiesAd Choices\\nTermsAccount SecurityLogin HelpHelp\\nSettings\\nActivity Log\\nFacebook © 2019', \"\") for tix in divs]\n",
    "\n",
    "for line in range(0, len(divs)):\n",
    "    divs[line] = re.split(\"[\\n·]\",divs[line])\n",
    "divs"
   ]
  },
  {
   "cell_type": "code",
   "execution_count": 3,
   "metadata": {
    "scrolled": true
   },
   "outputs": [],
   "source": [
    "divs_list = []\n",
    "for div in divs:\n",
    "    if len(div) > 5 :\n",
    "        divs_list.append(div)"
   ]
  },
  {
   "cell_type": "code",
   "execution_count": 4,
   "metadata": {
    "scrolled": true
   },
   "outputs": [],
   "source": [
    "event_dict = []\n",
    "for chunk in divs_list:\n",
    "    event = {}\n",
    "    event['Event_Date'] = chunk[0] + \" \" + chunk[1]\n",
    "    event['Event_Title'] = chunk[2]\n",
    "    event['Event_Crowd'] = chunk[4]\n",
    "    try: event['Event_Address']=chunk[5]+\", \"+chunk[6]\n",
    "    except: event['Event_Address'] = chunk[5]\n",
    "    event['properties.name'] = \"Michael Bennet\"\n",
    "    event_dict.append(event)"
   ]
  },
  {
   "cell_type": "code",
   "execution_count": 5,
   "metadata": {
    "scrolled": true
   },
   "outputs": [],
   "source": [
    "bennet_df = pd.DataFrame(event_dict)\n",
    "bennet_df.Event_Date = pd.to_datetime(bennet_df.Event_Date, format=\"%b %d\", errors='coerce')\n",
    "bennet_df.Event_Date = bennet_df.Event_Date.dt.strftime(\"%m/%d/2019\")\n",
    "bennet_df.Event_Crowd = bennet_df.Event_Crowd.str.extract(\"^(.*)\\sguests\")"
   ]
  },
  {
   "cell_type": "code",
   "execution_count": 6,
   "metadata": {},
   "outputs": [
    {
     "data": {
      "text/html": [
       "<div>\n",
       "<style scoped>\n",
       "    .dataframe tbody tr th:only-of-type {\n",
       "        vertical-align: middle;\n",
       "    }\n",
       "\n",
       "    .dataframe tbody tr th {\n",
       "        vertical-align: top;\n",
       "    }\n",
       "\n",
       "    .dataframe thead th {\n",
       "        text-align: right;\n",
       "    }\n",
       "</style>\n",
       "<table border=\"1\" class=\"dataframe\">\n",
       "  <thead>\n",
       "    <tr style=\"text-align: right;\">\n",
       "      <th></th>\n",
       "      <th>Event_Address</th>\n",
       "      <th>Event_Crowd</th>\n",
       "      <th>Event_Date</th>\n",
       "      <th>Event_Title</th>\n",
       "      <th>properties.name</th>\n",
       "    </tr>\n",
       "  </thead>\n",
       "  <tbody>\n",
       "    <tr>\n",
       "      <th>0</th>\n",
       "      <td>836 Kilbourne Rd, Columbia, SC 29205-2050, United States</td>\n",
       "      <td>7</td>\n",
       "      <td>05/31/2019</td>\n",
       "      <td>Meet &amp; Greet with Sen. Michael Bennet</td>\n",
       "      <td>Michael Bennet</td>\n",
       "    </tr>\n",
       "    <tr>\n",
       "      <th>1</th>\n",
       "      <td>2510 NE 12th Ct, Ankeny, IA 50021-7441, United States</td>\n",
       "      <td>9</td>\n",
       "      <td>05/05/2019</td>\n",
       "      <td>House Party with Sen. Michael Bennet</td>\n",
       "      <td>Michael Bennet</td>\n",
       "    </tr>\n",
       "    <tr>\n",
       "      <th>2</th>\n",
       "      <td>7 Fieldstone Drive, Dover</td>\n",
       "      <td>12</td>\n",
       "      <td>04/07/2019</td>\n",
       "      <td>Meet Sen. Michael Bennet in Dover</td>\n",
       "      <td>Michael Bennet</td>\n",
       "    </tr>\n",
       "  </tbody>\n",
       "</table>\n",
       "</div>"
      ],
      "text/plain": [
       "                                              Event_Address Event_Crowd  \\\n",
       "0  836 Kilbourne Rd, Columbia, SC 29205-2050, United States   7           \n",
       "1  2510 NE 12th Ct, Ankeny, IA 50021-7441, United States      9           \n",
       "2  7 Fieldstone Drive, Dover                                  12          \n",
       "\n",
       "   Event_Date                            Event_Title properties.name  \n",
       "0  05/31/2019  Meet & Greet with Sen. Michael Bennet  Michael Bennet  \n",
       "1  05/05/2019  House Party with Sen. Michael Bennet   Michael Bennet  \n",
       "2  04/07/2019  Meet Sen. Michael Bennet in Dover      Michael Bennet  "
      ]
     },
     "execution_count": 6,
     "metadata": {},
     "output_type": "execute_result"
    }
   ],
   "source": [
    "bennet_df"
   ]
  },
  {
   "cell_type": "code",
   "execution_count": 7,
   "metadata": {},
   "outputs": [],
   "source": [
    "## Dropping everything before the announcement date\n",
    "bennet_df.drop(bennet_df.tail(1).index,inplace=True)"
   ]
  },
  {
   "cell_type": "code",
   "execution_count": 8,
   "metadata": {
    "scrolled": true
   },
   "outputs": [
    {
     "data": {
      "text/plain": [
       "(2, 5)"
      ]
     },
     "execution_count": 8,
     "metadata": {},
     "output_type": "execute_result"
    }
   ],
   "source": [
    "bennet_df.shape"
   ]
  },
  {
   "cell_type": "markdown",
   "metadata": {},
   "source": [
    "# Joe Biden Jr."
   ]
  },
  {
   "cell_type": "code",
   "execution_count": 9,
   "metadata": {},
   "outputs": [
    {
     "data": {
      "text/plain": [
       "[['JUL',\n",
       "  '6',\n",
       "  'Sumter, SC: Community Event with Joe Biden',\n",
       "  'Sat 2:00 PM CDT ',\n",
       "  ' 3 guests',\n",
       "  'M.H. Newton Family Life Enrichment Center 415 Manning Ave. Sumter, SC 29150'],\n",
       " ['JUL',\n",
       "  '6',\n",
       "  'Orangeburg, SC: Community Event with Joe Biden',\n",
       "  'Sat 5:30 PM EDT ',\n",
       "  ' 12 guests',\n",
       "  'Edisto Fork United Methodist Church 356 Lariot Road Orangeburg, SC 29115'],\n",
       " ['JUL',\n",
       "  '7',\n",
       "  'Charleston, SC: Town Hall with Joe Biden and State Sen. Marlon K',\n",
       "  'Sun 2:30 PM EDT ',\n",
       "  ' Hosted by Joe Biden',\n",
       "  'International Longshoremen’s Association Hall 1142 Morrison Dr Charleston, SC 29403'],\n",
       " ['JUL',\n",
       "  '4',\n",
       "  'Marshalltown, IA: Community Event with Joe and Jill Biden',\n",
       "  'Thu 1:00 PM CDT ',\n",
       "  ' 89 guests',\n",
       "  'Best Western Regency Inn',\n",
       "  'Marshalltown, IA'],\n",
       " ['JUL',\n",
       "  '4',\n",
       "  'March with Joe Biden in the Independence 4th of July Pa',\n",
       "  'Thu 8:00 AM EDT ',\n",
       "  ' 19 guests',\n",
       "  '209 5th Ave. NE Independence, IA 50644'],\n",
       " ['JUL',\n",
       "  '3',\n",
       "  'Waterloo, IA: Community Event with Joe and Jill Biden',\n",
       "  'Wed 5:30 PM CDT ',\n",
       "  ' 354 guests',\n",
       "  'UAW Local 838',\n",
       "  'Waterloo, IA'],\n",
       " ['JUN',\n",
       "  '29',\n",
       "  'Meet and Greet with Dr. Jill Biden',\n",
       "  'Sat 1:30 PM CDT ',\n",
       "  ' 39 guests',\n",
       "  'Ames Public Library, Rotary Room 515 Douglas Ave. Ames, IA 50010'],\n",
       " ['JUN',\n",
       "  '28',\n",
       "  'Meet and Greet with Dr. Jill Biden',\n",
       "  'Fri 5:15 PM CDT ',\n",
       "  ' 42 guests',\n",
       "  'State Historical Museum of Iowa 600 E. Locust St. Des Moines, IA 50319'],\n",
       " ['JUN',\n",
       "  '26',\n",
       "  'Team Joe Miami Debate Visibility',\n",
       "  'Jun 26 - Jun 27 ',\n",
       "  ' 280 guests',\n",
       "  '1300 Biscayne Blvd, Miami, FL 33132-1608, United States'],\n",
       " ['JUN',\n",
       "  '22',\n",
       "  'South Carolina Democratic Party Convention',\n",
       "  'Sat 7:30 AM EDT ',\n",
       "  ' 17 guests',\n",
       "  'Columbia Metropolitan Convention Center 1101 Lincoln Street Columbia, SC 29201'],\n",
       " ['JUN',\n",
       "  '21',\n",
       "  \"Rep. Clyburn's World Famous Fish Fry\",\n",
       "  'Fri 5:30 PM EDT ',\n",
       "  ' 21 guests',\n",
       "  \"EdVenture Children's Museum 211 Gervais Street Columbia, SC 29201\"],\n",
       " ['JUN',\n",
       "  '19',\n",
       "  'House Party with Jill Biden in Pelham',\n",
       "  'Wed 2:00 PM EDT ',\n",
       "  ' 74 guests',\n",
       "  'Pelham, New Hampshire',\n",
       "  'Pelham, NH'],\n",
       " ['JUN',\n",
       "  '19',\n",
       "  'Educator and Mental Health Roundtable with Jill Biden',\n",
       "  'Wed 11:00 AM EDT ',\n",
       "  ' 9 guests',\n",
       "  'The Recital Hall Rochester Performance & Arts Center 32 North Main Street Rochester, NH 03867'],\n",
       " ['JUN',\n",
       "  '12',\n",
       "  'Clinton, IA: Community Event with Joe Biden',\n",
       "  'Wed 10:15 AM EDT ',\n",
       "  ' 20 guests',\n",
       "  'Clinton Community College, Auditorium 1000 Lincoln Blvd. Clinton, IA 52732'],\n",
       " ['JUN',\n",
       "  '11',\n",
       "  'Davenport, IA: Community Event with Joe Biden',\n",
       "  'Tue 6:00 PM EDT ',\n",
       "  ' 25 guests',\n",
       "  'Keppy 4-H Hall, Mississippi Valley Fairgrounds 2815 Locust Street Davenport, IA 52804'],\n",
       " ['JUN',\n",
       "  '11',\n",
       "  'Mount Pleasant, IA: Community Event with Joe Biden',\n",
       "  'Tue 2:45 PM EDT ',\n",
       "  ' 17 guests',\n",
       "  'Social Hall, Howe Student Activity Center at Iowa Wesleyan University 601 N Main Street Mount Pleasant, IA 52641'],\n",
       " ['JUN',\n",
       "  '11',\n",
       "  'Ottumwa, IA: Community Event with Joe Biden',\n",
       "  'Tue 12:00 PM CDT ',\n",
       "  ' 64 guests',\n",
       "  'Bridge View Center',\n",
       "  'Ottumwa, IA'],\n",
       " ['JUN',\n",
       "  '4',\n",
       "  'Concord, NH: Campaign Stop with Joe Biden',\n",
       "  'Tue 5:30 PM EDT ',\n",
       "  ' 122 guests',\n",
       "  'IBEW Local 490, Concord New Hampshire',\n",
       "  'Concord, NH'],\n",
       " ['JUN',\n",
       "  '4',\n",
       "  'Berlin, NH: Community Stop with Joe Biden',\n",
       "  'Tue 11:30 AM EDT ',\n",
       "  ' 36 guests',\n",
       "  '168 Main St, Berlin, NH 03570-2400, United States'],\n",
       " ['MAY',\n",
       "  '18',\n",
       "  'Biden for President Campaign Kick Off Rally in Philadelphia',\n",
       "  'Sat 11:00 AM EDT ',\n",
       "  ' 1,998 guests',\n",
       "  'Eakins Oval, 2451 Benjamin Franklin Pkwy Philadelphia, PA 19130'],\n",
       " ['MAY',\n",
       "  '7',\n",
       "  'Henderson, NV: Campaign Stop with Joe Biden',\n",
       "  'Tue 11:30 AM PDT ',\n",
       "  ' 213 guests',\n",
       "  '1701 Whitney Mesa Dr, Henderson, NV 89014-2056, United States'],\n",
       " ['MAY',\n",
       "  '4',\n",
       "  'Columbia, SC: Campaign Stop with Joe Biden',\n",
       "  'Sat 3:30 PM EDT ',\n",
       "  ' 440 guests',\n",
       "  '950 Jackson Avenue Columbia, SC 29203'],\n",
       " ['MAY',\n",
       "  '1',\n",
       "  'Des Moines, IA: Campaign Stop with Joe Biden',\n",
       "  'Wed 5:30 PM CDT ',\n",
       "  ' 535 guests',\n",
       "  '340 SW 3rd St, Des Moines, IA 50309-4624, United States'],\n",
       " ['MAY',\n",
       "  '1',\n",
       "  'Iowa City, IA: Campaign Stop with Joe Biden',\n",
       "  'Wed 12:15 PM CDT ',\n",
       "  ' 424 guests',\n",
       "  'Big Grove Brewery & Taproom - Iowa City',\n",
       "  'Iowa City, IA'],\n",
       " ['APR',\n",
       "  '30',\n",
       "  'Dubuque, IA: Campaign Stop with Joe Biden',\n",
       "  'Tue 5:45 PM CDT ',\n",
       "  ' 145 guests',\n",
       "  '500 Bell St, Dubuque, IA 52001-7054, United States'],\n",
       " ['APR',\n",
       "  '30',\n",
       "  'Cedar Rapids, IA: Campaign Stop with Joe Biden',\n",
       "  'Tue 11:30 AM CDT ',\n",
       "  ' 87 guests',\n",
       "  '50 2nd Ave Brg, Cedar Rapids, IA 52401-1225, United States'],\n",
       " ['APR',\n",
       "  '29',\n",
       "  'Pittsburgh, PA: Campaign Stop with Joe Biden',\n",
       "  'Mon 2:00 PM EDT ',\n",
       "  ' 276 guests',\n",
       "  '4701 Butler St, Pittsburgh, PA 15201-2907, United States'],\n",
       " ['JAN',\n",
       "  '24',\n",
       "  'Joe Biden in conversation with Rachel Hollis',\n",
       "  'Thu 7:00 PM CST ',\n",
       "  ' 2,655 guests',\n",
       "  'The Theatre at Grand Prairie',\n",
       "  'Grand Prairie, TX'],\n",
       " ['DEC',\n",
       "  '9',\n",
       "  'Joe Biden: American Promise Tour',\n",
       "  'Sun 3:00 PM EST ',\n",
       "  ' 662 guests',\n",
       "  'Flynn Center for the Performing Arts',\n",
       "  'Burlington, VT'],\n",
       " ['DEC',\n",
       "  '3',\n",
       "  'Joe Biden: American Promise Tour',\n",
       "  'Mon 7:30 PM MST ',\n",
       "  ' 2,399 guests',\n",
       "  'University of Montana',\n",
       "  'Missoula, MT'],\n",
       " ['NOV',\n",
       "  '1',\n",
       "  'Get Out the Vote Rally with Joe Biden!',\n",
       "  'Thu 4:15 PM EDT ',\n",
       "  ' 4,580 guests',\n",
       "  '422 Washington Sq N, Lansing, MI 48933-1235, United States'],\n",
       " ['JUN',\n",
       "  '15',\n",
       "  'Joe Biden: American Promise Tour',\n",
       "  'Fri 8:00 PM CDT ',\n",
       "  ' 3,137 guests',\n",
       "  'The Orpheum Theatre-Memphis',\n",
       "  'Memphis, TN'],\n",
       " ['JUN',\n",
       "  '14',\n",
       "  'Joe Biden: American Promise Tour',\n",
       "  'Thu 7:30 PM CDT ',\n",
       "  ' 4,739 guests',\n",
       "  'Stifel Theatre',\n",
       "  'St. Louis, MO']]"
      ]
     },
     "execution_count": 9,
     "metadata": {},
     "output_type": "execute_result"
    }
   ],
   "source": [
    "driver = webdriver.Chrome()\n",
    "driver.get(\"https://www.facebook.com/pg/joebiden/events/?ref=page_internal\")\n",
    "\n",
    "while driver.find_element_by_tag_name(\"div\"):\n",
    "    driver.execute_script(\"window.scrollTo(0, document.body.scrollHeight);\")\n",
    "    divs=driver.find_element_by_xpath('//*[@id=\"content_container\"]/div').text\n",
    "    if 'APR' in divs:\n",
    "        break\n",
    "    else:\n",
    "        continue\n",
    "driver.quit()\n",
    "\n",
    "divs = re.sub(r\"\\n([A-Z]{3}\\n\\d?)\", r\"\\n///\\1\", divs)\n",
    "divs = divs.split(\"\\n///\")\n",
    "del divs[0]\n",
    "divs = [tix.replace('\\nGet Tickets', \"\") for tix in divs]\n",
    "divs = [tix.replace('\\nPast Events', \"\") for tix in divs]\n",
    "divs = [tix.replace('\\nEnglish (US)\\nEspañol\\nFrançais (France)\\n中文(简体)\\nالعربية\\nPortuguês (Brasil)\\nItaliano\\n한국어\\nDeutsch\\nहिन्दी\\n日本語\\nSign UpLog InMessengerFacebook Lite Watch PeopleProfilesPagesPage CategoriesEventsPlacesGamesLocationsMarketplaceGroupsInstagramLocalFundraisersServicesAboutCreate AdCreate PageDevelopersCareersPrivacyCookiesAd Choices\\nTermsAccount SecurityLogin HelpHelp\\nSettings\\nActivity Log\\nFacebook © 2019', \"\") for tix in divs]\n",
    "\n",
    "for line in range(0, len(divs)):\n",
    "    divs[line] = re.split(\"[\\n·]\",divs[line])\n",
    "divs"
   ]
  },
  {
   "cell_type": "code",
   "execution_count": 10,
   "metadata": {
    "scrolled": true
   },
   "outputs": [],
   "source": [
    "divs_list = []\n",
    "for div in divs:\n",
    "    if len(div) > 5:\n",
    "        divs_list.append(div)"
   ]
  },
  {
   "cell_type": "code",
   "execution_count": 11,
   "metadata": {
    "scrolled": true
   },
   "outputs": [],
   "source": [
    "event_dict = []\n",
    "for chunk in divs_list:\n",
    "    event = {}\n",
    "    event['Event_Date'] = chunk[0] + \" \" + chunk[1]\n",
    "    event['Event_Title'] = chunk[2]\n",
    "    event['Event_Crowd'] = chunk[4]\n",
    "    try: event['Event_Address']=chunk[5]+\", \"+chunk[6]\n",
    "    except: event['Event_Address'] = chunk[5]\n",
    "    event['properties.name'] = \"Joe Biden Jr.\"\n",
    "    event_dict.append(event)"
   ]
  },
  {
   "cell_type": "code",
   "execution_count": 12,
   "metadata": {
    "scrolled": true
   },
   "outputs": [],
   "source": [
    "biden_df = pd.DataFrame(event_dict)\n",
    "biden_df.Event_Date = pd.to_datetime(biden_df.Event_Date, format=\"%b %d\", errors='coerce')\n",
    "biden_df.Event_Date = biden_df.Event_Date.dt.strftime(\"%m/%d/2019\")\n",
    "biden_df.Event_Crowd = biden_df.Event_Crowd.str.extract(\"^(.*)\\sguests\")"
   ]
  },
  {
   "cell_type": "code",
   "execution_count": 13,
   "metadata": {},
   "outputs": [
    {
     "data": {
      "text/html": [
       "<div>\n",
       "<style scoped>\n",
       "    .dataframe tbody tr th:only-of-type {\n",
       "        vertical-align: middle;\n",
       "    }\n",
       "\n",
       "    .dataframe tbody tr th {\n",
       "        vertical-align: top;\n",
       "    }\n",
       "\n",
       "    .dataframe thead th {\n",
       "        text-align: right;\n",
       "    }\n",
       "</style>\n",
       "<table border=\"1\" class=\"dataframe\">\n",
       "  <thead>\n",
       "    <tr style=\"text-align: right;\">\n",
       "      <th></th>\n",
       "      <th>Event_Address</th>\n",
       "      <th>Event_Crowd</th>\n",
       "      <th>Event_Date</th>\n",
       "      <th>Event_Title</th>\n",
       "      <th>properties.name</th>\n",
       "    </tr>\n",
       "  </thead>\n",
       "  <tbody>\n",
       "    <tr>\n",
       "      <th>0</th>\n",
       "      <td>M.H. Newton Family Life Enrichment Center 415 Manning Ave. Sumter, SC 29150</td>\n",
       "      <td>3</td>\n",
       "      <td>07/06/2019</td>\n",
       "      <td>Sumter, SC: Community Event with Joe Biden</td>\n",
       "      <td>Joe Biden Jr.</td>\n",
       "    </tr>\n",
       "    <tr>\n",
       "      <th>1</th>\n",
       "      <td>Edisto Fork United Methodist Church 356 Lariot Road Orangeburg, SC 29115</td>\n",
       "      <td>12</td>\n",
       "      <td>07/06/2019</td>\n",
       "      <td>Orangeburg, SC: Community Event with Joe Biden</td>\n",
       "      <td>Joe Biden Jr.</td>\n",
       "    </tr>\n",
       "    <tr>\n",
       "      <th>2</th>\n",
       "      <td>International Longshoremen’s Association Hall 1142 Morrison Dr Charleston, SC 29403</td>\n",
       "      <td>NaN</td>\n",
       "      <td>07/07/2019</td>\n",
       "      <td>Charleston, SC: Town Hall with Joe Biden and State Sen. Marlon K</td>\n",
       "      <td>Joe Biden Jr.</td>\n",
       "    </tr>\n",
       "    <tr>\n",
       "      <th>3</th>\n",
       "      <td>Best Western Regency Inn, Marshalltown, IA</td>\n",
       "      <td>89</td>\n",
       "      <td>07/04/2019</td>\n",
       "      <td>Marshalltown, IA: Community Event with Joe and Jill Biden</td>\n",
       "      <td>Joe Biden Jr.</td>\n",
       "    </tr>\n",
       "    <tr>\n",
       "      <th>4</th>\n",
       "      <td>209 5th Ave. NE Independence, IA 50644</td>\n",
       "      <td>19</td>\n",
       "      <td>07/04/2019</td>\n",
       "      <td>March with Joe Biden in the Independence 4th of July Pa</td>\n",
       "      <td>Joe Biden Jr.</td>\n",
       "    </tr>\n",
       "  </tbody>\n",
       "</table>\n",
       "</div>"
      ],
      "text/plain": [
       "                                                                         Event_Address  \\\n",
       "0  M.H. Newton Family Life Enrichment Center 415 Manning Ave. Sumter, SC 29150           \n",
       "1  Edisto Fork United Methodist Church 356 Lariot Road Orangeburg, SC 29115              \n",
       "2  International Longshoremen’s Association Hall 1142 Morrison Dr Charleston, SC 29403   \n",
       "3  Best Western Regency Inn, Marshalltown, IA                                            \n",
       "4  209 5th Ave. NE Independence, IA 50644                                                \n",
       "\n",
       "  Event_Crowd  Event_Date  \\\n",
       "0   3          07/06/2019   \n",
       "1   12         07/06/2019   \n",
       "2  NaN         07/07/2019   \n",
       "3   89         07/04/2019   \n",
       "4   19         07/04/2019   \n",
       "\n",
       "                                                        Event_Title  \\\n",
       "0  Sumter, SC: Community Event with Joe Biden                         \n",
       "1  Orangeburg, SC: Community Event with Joe Biden                     \n",
       "2  Charleston, SC: Town Hall with Joe Biden and State Sen. Marlon K   \n",
       "3  Marshalltown, IA: Community Event with Joe and Jill Biden          \n",
       "4  March with Joe Biden in the Independence 4th of July Pa            \n",
       "\n",
       "  properties.name  \n",
       "0  Joe Biden Jr.   \n",
       "1  Joe Biden Jr.   \n",
       "2  Joe Biden Jr.   \n",
       "3  Joe Biden Jr.   \n",
       "4  Joe Biden Jr.   "
      ]
     },
     "execution_count": 13,
     "metadata": {},
     "output_type": "execute_result"
    }
   ],
   "source": [
    "biden_df.head()"
   ]
  },
  {
   "cell_type": "code",
   "execution_count": 14,
   "metadata": {},
   "outputs": [],
   "source": [
    "## Dropping everything before the announcement date\n",
    "# biden_df.drop(biden_df.tail(1).index,inplace=True)"
   ]
  },
  {
   "cell_type": "code",
   "execution_count": 15,
   "metadata": {},
   "outputs": [
    {
     "data": {
      "text/plain": [
       "(33, 5)"
      ]
     },
     "execution_count": 15,
     "metadata": {},
     "output_type": "execute_result"
    }
   ],
   "source": [
    "biden_df.shape"
   ]
  },
  {
   "cell_type": "code",
   "execution_count": 16,
   "metadata": {},
   "outputs": [],
   "source": [
    "df2 = bennet_df.append(biden_df, ignore_index=True)"
   ]
  },
  {
   "cell_type": "code",
   "execution_count": 17,
   "metadata": {},
   "outputs": [
    {
     "data": {
      "text/plain": [
       "(35, 5)"
      ]
     },
     "execution_count": 17,
     "metadata": {},
     "output_type": "execute_result"
    }
   ],
   "source": [
    "df2.shape"
   ]
  },
  {
   "cell_type": "markdown",
   "metadata": {},
   "source": [
    "# Cory Booker"
   ]
  },
  {
   "cell_type": "code",
   "execution_count": 18,
   "metadata": {},
   "outputs": [
    {
     "data": {
      "text/plain": [
       "[['JUL',\n",
       "  '12',\n",
       "  'Boston Grassroots Happy Hour',\n",
       "  'Fri 6:30 PM EDT ',\n",
       "  ' 392 guests',\n",
       "  'Boston, Massachusetts',\n",
       "  'Boston, MA'],\n",
       " ['JUL',\n",
       "  '15',\n",
       "  'Chicago Grassroots Happy Hour',\n",
       "  'Mon 7:00 PM CDT ',\n",
       "  ' 395 guests',\n",
       "  'Chicago, Illinois',\n",
       "  'Chicago, IL'],\n",
       " ['JUL',\n",
       "  '17',\n",
       "  'DC Grassroots Happy Hour',\n",
       "  'Wed 6:00 PM EDT ',\n",
       "  ' 1,287 guests',\n",
       "  '1445 New York Ave NW, Washington, DC 20005-2134, United States'],\n",
       " ['JUN',\n",
       "  '5',\n",
       "  'Atlanta, GA—Grassroots Fundraiser for Cory',\n",
       "  'Wed 7:30 PM EDT ',\n",
       "  ' 730 guests',\n",
       "  'Atlanta, Georgia',\n",
       "  'Atlanta, GA'],\n",
       " ['MAY',\n",
       "  '13',\n",
       "  'Conversation with Cory and Congresswoman Annie Kuster in Concord',\n",
       "  'Mon 11:00 AM EDT ',\n",
       "  ' 331 guests'],\n",
       " ['MAY',\n",
       "  '12',\n",
       "  'Conversation with Cory in Berlin',\n",
       "  'Sun 4:30 PM EDT ',\n",
       "  ' 24 guests',\n",
       "  'Berlin City Hall, 168 Main Street, Berlin, NH 03570'],\n",
       " ['MAY',\n",
       "  '11',\n",
       "  'Orangeburg, SC—Office Opening with Cory',\n",
       "  'Sat 9:00 AM EDT ',\n",
       "  ' 107 guests',\n",
       "  '920 Russell St, Orangeburg, SC 29115-5876, United States'],\n",
       " ['APR',\n",
       "  '28',\n",
       "  'Miami Gardens, FL—Meet and Greet with Cory on Voting Rights',\n",
       "  'Sun 3:30 PM EDT ',\n",
       "  ' 660 guests',\n",
       "  '16190 NW 27th Ave, Opa-Locka, FL 33054-6806, United States'],\n",
       " ['APR',\n",
       "  '26',\n",
       "  'Beaufort, SC—Conversation with Cory',\n",
       "  'Fri 7:30 PM EDT ',\n",
       "  ' 240 guests',\n",
       "  'Whale Branch Middle',\n",
       "  'Seabrook, SC'],\n",
       " ['APR',\n",
       "  '26',\n",
       "  'Hampton, SC—Meet and Greet',\n",
       "  'Fri 4:30 PM EDT ',\n",
       "  ' 31 guests',\n",
       "  '719 Magnolia St W, Hampton, SC 29924-2211, United States'],\n",
       " ['APR',\n",
       "  '26',\n",
       "  'Manning, SC—Stump on the Steps with Cory',\n",
       "  'Fri 2:00 PM EDT ',\n",
       "  ' 26 guests',\n",
       "  'Weldon Auditorium',\n",
       "  'Manning, SC'],\n",
       " ['APR',\n",
       "  '25',\n",
       "  'Union, SC—Conversation with Cory',\n",
       "  'Thu 7:00 PM EDT ',\n",
       "  ' 70 guests',\n",
       "  'Pacolet River Baptist Association',\n",
       "  'Union, SC'],\n",
       " ['APR',\n",
       "  '25',\n",
       "  'Spartanburg , SC—Conversation with Cory',\n",
       "  'Thu 5:00 PM EDT ',\n",
       "  ' 512 guests',\n",
       "  'C.C. Woodson Community Center',\n",
       "  'Spartanburg, SC'],\n",
       " ['APR',\n",
       "  '23',\n",
       "  'Roundtable on Gun Violence Prevention',\n",
       "  'Tue 12:00 PM CDT ',\n",
       "  ' 825 guests',\n",
       "  'Coffee Makes You Black',\n",
       "  'Milwaukee, WI'],\n",
       " ['APR',\n",
       "  '20',\n",
       "  'Conversation with Cory',\n",
       "  'Sat 1:30 PM PDT ',\n",
       "  ' 382 guests',\n",
       "  'Mirabelli Community Center',\n",
       "  'Las Vegas, NV'],\n",
       " ['APR',\n",
       "  '19',\n",
       "  'Conversation with Cory',\n",
       "  'Fri 11:15 AM PDT ',\n",
       "  ' 45 guests',\n",
       "  '1758 US Highway 395 N, Minden, NV 89423-4700, United States'],\n",
       " ['APR',\n",
       "  '19',\n",
       "  'Conversation with Cory',\n",
       "  'Fri 1:30 PM EDT ',\n",
       "  ' 50 guests',\n",
       "  '1465 Terminal Way Suite #1'],\n",
       " ['APR',\n",
       "  '18',\n",
       "  'Young Dems Meet and Greet with Cory',\n",
       "  'Thu 6:30 PM PDT ',\n",
       "  ' 151 guests',\n",
       "  'UNLV Student Union',\n",
       "  'Las Vegas, NV'],\n",
       " ['APR',\n",
       "  '17',\n",
       "  'Conversation with Cory on Voting Rights and Reproductive Justice',\n",
       "  'Wed 3:30 PM EDT ',\n",
       "  ' 708 guests',\n",
       "  \"Paschal's Restaurant\",\n",
       "  'Atlanta, GA'],\n",
       " ['APR',\n",
       "  '16',\n",
       "  'Iowa Democratic Party Black Caucus Town Hall',\n",
       "  'Tue 7:45 PM CDT ',\n",
       "  ' 150 guests',\n",
       "  'Polk County Central Senior Center',\n",
       "  'Des Moines, IA'],\n",
       " ['APR',\n",
       "  '16',\n",
       "  'Coffee with Cory: Carroll County',\n",
       "  'Tue 1:00 PM CDT ',\n",
       "  ' 28 guests',\n",
       "  '1730 US-71, Carroll, IA 51401-1360, United States'],\n",
       " ['APR',\n",
       "  '15',\n",
       "  'Justice for All Tour: Sioux City',\n",
       "  'Mon 6:00 PM CDT ',\n",
       "  ' 65 guests',\n",
       "  'Sioux City Public Museum',\n",
       "  'Sioux City, IA'],\n",
       " ['APR',\n",
       "  '13',\n",
       "  \"Cory Booker's Official Hometown Kickoff in Newark\",\n",
       "  'Sat 9:00 AM EDT ',\n",
       "  ' 3,787 guests',\n",
       "  'Military Park',\n",
       "  'Newark, NJ'],\n",
       " ['APR',\n",
       "  '7',\n",
       "  'Dover Conversation with Cory',\n",
       "  'Sun 12:00 PM EDT ',\n",
       "  ' 131 guests',\n",
       "  'McConnell Fitness Center Gym',\n",
       "  'Dover, NH'],\n",
       " ['APR',\n",
       "  '7',\n",
       "  'Londonderry Conversation with Cory',\n",
       "  'Sun 10:30 AM EDT ',\n",
       "  ' 807 guests',\n",
       "  'Matthew Thornton Elementary School',\n",
       "  'Londonderry, NH'],\n",
       " ['APR',\n",
       "  '6',\n",
       "  'Amherst House Party',\n",
       "  'Sat 6:30 PM EDT ',\n",
       "  ' 111 guests',\n",
       "  '3 High Meadow Ln, Amherst, NH 03031-2554, United States'],\n",
       " ['MAR',\n",
       "  '27',\n",
       "  'Cedar Rapids - CNN Town Hall Watch Party',\n",
       "  'Wed 8:30 PM CDT ',\n",
       "  ' 121 guests',\n",
       "  'Parlor City Pub and Eatery, 1125 3rd Street SE, Cedar Rapids, IA 52401'],\n",
       " ['MAR',\n",
       "  '27',\n",
       "  'Davenport - CNN Town Hall Watch Party',\n",
       "  'Wed 8:30 PM CDT ',\n",
       "  ' 68 guests',\n",
       "  'Front Street Brewery, 208 E River Drive, Davenport, IA 52801'],\n",
       " ['MAR',\n",
       "  '27',\n",
       "  'Simpson College - CNN Town Hall Watch Party',\n",
       "  'Wed 8:30 PM CDT ',\n",
       "  ' 100 guests',\n",
       "  'McNiel Hall, 701 N C Street, Indianola, Iowa 50125'],\n",
       " ['MAR',\n",
       "  '27',\n",
       "  'Manchester, NH - CNN Town Hall Watch Party',\n",
       "  'Wed 9:00 PM EDT ',\n",
       "  ' 228 guests',\n",
       "  'Stark Brewing Company',\n",
       "  'Manchester, NH'],\n",
       " ['MAR',\n",
       "  '23',\n",
       "  'Columbia, SC - Conversation with Cory on Economic Inequality',\n",
       "  'Sat 4:00 PM EDT ',\n",
       "  ' 218 guests'],\n",
       " ['MAR',\n",
       "  '23',\n",
       "  'Rock Hill, SC - Conversation with Cory',\n",
       "  'Sat 11:30 AM EDT ',\n",
       "  ' 634 guests',\n",
       "  '215 Main St E, Rock Hill, SC 29730-4541, United States'],\n",
       " ['MAR',\n",
       "  '17',\n",
       "  'Davenport, IA - Conversation with Cory',\n",
       "  'Sun 7:30 PM CDT ',\n",
       "  ' 1,055 guests',\n",
       "  '136 E 3rd St, Davenport, IA 52801-1505, United States'],\n",
       " ['MAR',\n",
       "  '17',\n",
       "  'Canvass Kick-Off with Cory Booker',\n",
       "  'Sun 4:00 PM CDT ',\n",
       "  ' 143 guests',\n",
       "  'Black Hawk County Democrats',\n",
       "  'Waterloo, IA'],\n",
       " ['MAR',\n",
       "  '17',\n",
       "  'Ames, IA - Conversation with Cory and Working Hero Iowa',\n",
       "  'Sun 12:00 PM CDT ',\n",
       "  ' 450 guests',\n",
       "  '3801 W 190th St, Ames, IA 50014-9398, United States'],\n",
       " ['MAR', '16', 'Indianola Meet and Greet', 'Sat 5:00 PM CDT ', ' 298 guests'],\n",
       " ['MAR',\n",
       "  '16',\n",
       "  'Ottumwa, IA - Conversation with Cory',\n",
       "  'Sat 1:00 PM CDT ',\n",
       "  ' 181 guests',\n",
       "  '107 E 2nd St, Ottumwa, IA 52501-2926, United States'],\n",
       " ['MAR',\n",
       "  '15',\n",
       "  'Claremont House Party with Cory',\n",
       "  'Fri 11:00 AM EDT ',\n",
       "  ' 182 guests',\n",
       "  'Buckley and Zopf',\n",
       "  'Claremont, NH'],\n",
       " ['MAR',\n",
       "  '15',\n",
       "  'Lebanon Conversation with Cory',\n",
       "  'Fri 8:30 AM EDT ',\n",
       "  ' 311 guests',\n",
       "  'Salt hill Pub',\n",
       "  'Lebanon, NH'],\n",
       " ['MAR',\n",
       "  '2',\n",
       "  'Charleston, South Carolina Conversation With Cory',\n",
       "  'Sat 2:30 PM EST ',\n",
       "  ' 911 guests',\n",
       "  'Burke High School Gymnasium, 244 President Street'],\n",
       " ['MAR',\n",
       "  '1',\n",
       "  'Simpsonville, South Carolina Conversation With Cory',\n",
       "  'Fri 1:00 PM EST ',\n",
       "  ' 528 guests',\n",
       "  'Reedy Fork Baptist Church'],\n",
       " ['FEB',\n",
       "  '24',\n",
       "  'Las Vegas Conversation with Cory Booker',\n",
       "  'Sun 11:00 AM PST ',\n",
       "  ' 1,552 guests'],\n",
       " ['FEB',\n",
       "  '18',\n",
       "  'Nashua House Party with Cory Booker',\n",
       "  'Mon 10:00 AM EST ',\n",
       "  ' 169 guests',\n",
       "  'Home of Senator Cindy Rosenwald & Dr. Peter Klementowicz, 101 Wellington St, Nashua, NH 03064-1616, United States'],\n",
       " ['FEB',\n",
       "  '17',\n",
       "  'Manchester House Party with Cory Booker',\n",
       "  'Sun 1:30 PM EST ',\n",
       "  ' 433 guests',\n",
       "  'Home of Gray & Tara Chynoweth, 1258 Union Street, Manchester, NH 03104'],\n",
       " ['FEB',\n",
       "  '17',\n",
       "  'Rochester Meet-and-Greet with Cory Booker',\n",
       "  'Sun 10:00 AM EST ',\n",
       "  ' 138 guests',\n",
       "  \"Rolland House at the Governor's Inn, 78 Wakefield St, Rochester, NH 03867-1921, United States\"],\n",
       " ['FEB',\n",
       "  '16',\n",
       "  'North Conway House Party with Cory Booker',\n",
       "  'Sat 6:00 PM EST ',\n",
       "  ' 257 guests',\n",
       "  'Office of Chris Meier, 2935 White Mountain Hwy, North Conway, NH 03860-5111, United States'],\n",
       " ['FEB',\n",
       "  '16',\n",
       "  'Portsmouth Conversation with Cory Booker',\n",
       "  'Sat 10:00 AM EST ',\n",
       "  ' 1,050 guests',\n",
       "  '3S Artspace',\n",
       "  'Portsmouth, NH'],\n",
       " ['FEB',\n",
       "  '11',\n",
       "  'Sumter County Forum',\n",
       "  'Mon 9:00 AM EST ',\n",
       "  ' 224 guests',\n",
       "  'Morris College, W.H. Neal-Iola Jones Fine Arts Center 100 West College Street'],\n",
       " ['FEB',\n",
       "  '10',\n",
       "  'Bamberg County Forum',\n",
       "  'Sun 5:00 PM EST ',\n",
       "  ' 357 guests',\n",
       "  'Voorhees College - Massachusetts Hall 151 Academic Circle'],\n",
       " ['FEB',\n",
       "  '10',\n",
       "  'Fairfield County Forum',\n",
       "  'Sun 2:00 PM EST ',\n",
       "  ' 413 guests',\n",
       "  'Fairfield Central High School, Cafeteria 836 Us Hwy 321 Bypass'],\n",
       " ['FEB',\n",
       "  '9',\n",
       "  'Des Moines Rising Leadership Forum',\n",
       "  'Sat 2:00 PM CST ',\n",
       "  ' 1,252 guests',\n",
       "  'Kum & Go Theater',\n",
       "  'Des Moines, IA'],\n",
       " ['FEB',\n",
       "  '9',\n",
       "  'Marshalltown Meet-and-Greet',\n",
       "  'Sat 11:30 AM CST ',\n",
       "  ' 95 guests'],\n",
       " ['FEB',\n",
       "  '8',\n",
       "  'Cedar Rapids Rising Leadership Forum',\n",
       "  'Fri 4:30 PM CST ',\n",
       "  ' 320 guests',\n",
       "  'African American Museum of Iowa',\n",
       "  'Cedar Rapids, IA'],\n",
       " ['FEB',\n",
       "  '8',\n",
       "  'Waterloo Community Round Table',\n",
       "  'Fri 1:00 PM CST ',\n",
       "  ' 403 guests',\n",
       "  'Hawkeye Community College Van G. Miller Adult Learning Center',\n",
       "  'Waterloo, IA'],\n",
       " ['FEB', '8', 'Mason City Meet-and-Greet', 'Fri 8:45 AM CST ', ' 125 guests'],\n",
       " ['MAR',\n",
       "  '1',\n",
       "  '2012 State of the City Address',\n",
       "  'Thu 6:30 PM PST ',\n",
       "  ' 59 guests',\n",
       "  'New Jersey Performing Arts Center (NJPAC)',\n",
       "  'Newark, NJ']]"
      ]
     },
     "execution_count": 18,
     "metadata": {},
     "output_type": "execute_result"
    }
   ],
   "source": [
    "driver = webdriver.Chrome()\n",
    "driver.get(\"https://www.facebook.com/pg/corybooker/events/?ref=page_internal\")\n",
    "\n",
    "while driver.find_element_by_tag_name(\"div\"):\n",
    "    driver.execute_script(\"window.scrollTo(0, document.body.scrollHeight);\")\n",
    "    divs=driver.find_element_by_xpath('//*[@id=\"content_container\"]/div').text\n",
    "    if '2012 State of the City Address' in divs:\n",
    "        break\n",
    "    else:\n",
    "        continue\n",
    "driver.quit()\n",
    "\n",
    "divs = re.sub(r\"\\n([A-Z]{3}\\n\\d?)\", r\"\\n///\\1\", divs)\n",
    "divs = divs.split(\"\\n///\")\n",
    "del divs[0]\n",
    "divs = [tix.replace('\\nGet Tickets', \"\") for tix in divs]\n",
    "divs = [tix.replace('\\nPast Events', \"\") for tix in divs]\n",
    "divs = [tix.replace('\\nEnglish (US)\\nEspañol\\nFrançais (France)\\n中文(简体)\\nالعربية\\nPortuguês (Brasil)\\nItaliano\\n한국어\\nDeutsch\\nहिन्दी\\n日本語\\nSign UpLog InMessengerFacebook Lite Watch PeopleProfilesPagesPage CategoriesEventsPlacesGamesLocationsMarketplaceGroupsInstagramLocalFundraisersServicesAboutCreate AdCreate PageDevelopersCareersPrivacyCookiesAd Choices\\nTermsAccount SecurityLogin HelpHelp\\nSettings\\nActivity Log\\nFacebook © 2019', \"\") for tix in divs]\n",
    "\n",
    "for line in range(0, len(divs)):\n",
    "    divs[line] = re.split(\"[\\n·]\",divs[line])\n",
    "divs"
   ]
  },
  {
   "cell_type": "code",
   "execution_count": 19,
   "metadata": {
    "scrolled": true
   },
   "outputs": [],
   "source": [
    "divs_list = []\n",
    "for div in divs:\n",
    "    if len(div) > 5:\n",
    "        divs_list.append(div)"
   ]
  },
  {
   "cell_type": "code",
   "execution_count": 20,
   "metadata": {
    "scrolled": true
   },
   "outputs": [],
   "source": [
    "event_dict = []\n",
    "for chunk in divs_list:\n",
    "    event = {}\n",
    "    event['Event_Date'] = chunk[0] + \" \" + chunk[1]\n",
    "    event['Event_Title'] = chunk[2]\n",
    "    event['Event_Crowd'] = chunk[4]\n",
    "    try: event['Event_Address']=chunk[5]+\", \"+chunk[6]\n",
    "    except: event['Event_Address'] = chunk[5]\n",
    "    event['properties.name'] = \"Cory Booker\"\n",
    "    event_dict.append(event)"
   ]
  },
  {
   "cell_type": "code",
   "execution_count": 21,
   "metadata": {
    "scrolled": true
   },
   "outputs": [],
   "source": [
    "booker_df = pd.DataFrame(event_dict)\n",
    "booker_df.Event_Date = pd.to_datetime(booker_df.Event_Date, format=\"%b %d\", errors='coerce')\n",
    "booker_df.Event_Date = booker_df.Event_Date.dt.strftime(\"%m/%d/2019\")\n",
    "booker_df.Event_Crowd = booker_df.Event_Crowd.str.extract(\"^(.*)\\sguests\")"
   ]
  },
  {
   "cell_type": "code",
   "execution_count": 22,
   "metadata": {},
   "outputs": [
    {
     "data": {
      "text/html": [
       "<div>\n",
       "<style scoped>\n",
       "    .dataframe tbody tr th:only-of-type {\n",
       "        vertical-align: middle;\n",
       "    }\n",
       "\n",
       "    .dataframe tbody tr th {\n",
       "        vertical-align: top;\n",
       "    }\n",
       "\n",
       "    .dataframe thead th {\n",
       "        text-align: right;\n",
       "    }\n",
       "</style>\n",
       "<table border=\"1\" class=\"dataframe\">\n",
       "  <thead>\n",
       "    <tr style=\"text-align: right;\">\n",
       "      <th></th>\n",
       "      <th>Event_Address</th>\n",
       "      <th>Event_Crowd</th>\n",
       "      <th>Event_Date</th>\n",
       "      <th>Event_Title</th>\n",
       "      <th>properties.name</th>\n",
       "    </tr>\n",
       "  </thead>\n",
       "  <tbody>\n",
       "    <tr>\n",
       "      <th>0</th>\n",
       "      <td>Boston, Massachusetts, Boston, MA</td>\n",
       "      <td>392</td>\n",
       "      <td>07/12/2019</td>\n",
       "      <td>Boston Grassroots Happy Hour</td>\n",
       "      <td>Cory Booker</td>\n",
       "    </tr>\n",
       "    <tr>\n",
       "      <th>1</th>\n",
       "      <td>Chicago, Illinois, Chicago, IL</td>\n",
       "      <td>395</td>\n",
       "      <td>07/15/2019</td>\n",
       "      <td>Chicago Grassroots Happy Hour</td>\n",
       "      <td>Cory Booker</td>\n",
       "    </tr>\n",
       "    <tr>\n",
       "      <th>2</th>\n",
       "      <td>1445 New York Ave NW, Washington, DC 20005-2134, United States</td>\n",
       "      <td>1,287</td>\n",
       "      <td>07/17/2019</td>\n",
       "      <td>DC Grassroots Happy Hour</td>\n",
       "      <td>Cory Booker</td>\n",
       "    </tr>\n",
       "    <tr>\n",
       "      <th>3</th>\n",
       "      <td>Atlanta, Georgia, Atlanta, GA</td>\n",
       "      <td>730</td>\n",
       "      <td>06/05/2019</td>\n",
       "      <td>Atlanta, GA—Grassroots Fundraiser for Cory</td>\n",
       "      <td>Cory Booker</td>\n",
       "    </tr>\n",
       "    <tr>\n",
       "      <th>4</th>\n",
       "      <td>Berlin City Hall, 168 Main Street, Berlin, NH 03570</td>\n",
       "      <td>24</td>\n",
       "      <td>05/12/2019</td>\n",
       "      <td>Conversation with Cory in Berlin</td>\n",
       "      <td>Cory Booker</td>\n",
       "    </tr>\n",
       "  </tbody>\n",
       "</table>\n",
       "</div>"
      ],
      "text/plain": [
       "                                                    Event_Address Event_Crowd  \\\n",
       "0  Boston, Massachusetts, Boston, MA                                392         \n",
       "1  Chicago, Illinois, Chicago, IL                                   395         \n",
       "2  1445 New York Ave NW, Washington, DC 20005-2134, United States   1,287       \n",
       "3  Atlanta, Georgia, Atlanta, GA                                    730         \n",
       "4  Berlin City Hall, 168 Main Street, Berlin, NH 03570              24          \n",
       "\n",
       "   Event_Date                                 Event_Title properties.name  \n",
       "0  07/12/2019  Boston Grassroots Happy Hour                Cory Booker     \n",
       "1  07/15/2019  Chicago Grassroots Happy Hour               Cory Booker     \n",
       "2  07/17/2019  DC Grassroots Happy Hour                    Cory Booker     \n",
       "3  06/05/2019  Atlanta, GA—Grassroots Fundraiser for Cory  Cory Booker     \n",
       "4  05/12/2019  Conversation with Cory in Berlin            Cory Booker     "
      ]
     },
     "execution_count": 22,
     "metadata": {},
     "output_type": "execute_result"
    }
   ],
   "source": [
    "booker_df.head()"
   ]
  },
  {
   "cell_type": "code",
   "execution_count": 23,
   "metadata": {},
   "outputs": [],
   "source": [
    "## Dropping everything before the announcement date\n",
    "# biden_df.drop(biden_df.tail(1).index,inplace=True)"
   ]
  },
  {
   "cell_type": "code",
   "execution_count": 24,
   "metadata": {},
   "outputs": [
    {
     "data": {
      "text/plain": [
       "(50, 5)"
      ]
     },
     "execution_count": 24,
     "metadata": {},
     "output_type": "execute_result"
    }
   ],
   "source": [
    "booker_df.shape"
   ]
  },
  {
   "cell_type": "code",
   "execution_count": 25,
   "metadata": {},
   "outputs": [],
   "source": [
    "df2 = df2.append(booker_df, ignore_index=True)"
   ]
  },
  {
   "cell_type": "code",
   "execution_count": 26,
   "metadata": {},
   "outputs": [
    {
     "data": {
      "text/plain": [
       "(85, 5)"
      ]
     },
     "execution_count": 26,
     "metadata": {},
     "output_type": "execute_result"
    }
   ],
   "source": [
    "df2.shape"
   ]
  },
  {
   "cell_type": "code",
   "execution_count": 27,
   "metadata": {},
   "outputs": [
    {
     "data": {
      "text/plain": [
       "Cory Booker       50\n",
       "Joe Biden Jr.     33\n",
       "Michael Bennet    2 \n",
       "Name: properties.name, dtype: int64"
      ]
     },
     "execution_count": 27,
     "metadata": {},
     "output_type": "execute_result"
    }
   ],
   "source": [
    "df2['properties.name'].value_counts()"
   ]
  },
  {
   "cell_type": "markdown",
   "metadata": {},
   "source": [
    "# Steve Bullock"
   ]
  },
  {
   "cell_type": "code",
   "execution_count": 28,
   "metadata": {},
   "outputs": [],
   "source": [
    "driver = webdriver.Chrome()\n",
    "driver.get(\"https://www.facebook.com/pg/GovernorBullock/events/?ref=page_internal\")\n",
    "\n",
    "while driver.find_element_by_tag_name(\"div\"):\n",
    "    driver.execute_script(\"window.scrollTo(0, document.body.scrollHeight);\")\n",
    "    divs=driver.find_element_by_xpath('//*[@id=\"content_container\"]/div').text\n",
    "    if 'APR' in divs:\n",
    "        break\n",
    "    else:\n",
    "        continue\n",
    "driver.quit()\n",
    "\n",
    "divs = re.sub(r\"\\n([A-Z]{3}\\n\\d?)\", r\"\\n///\\1\", divs)\n",
    "divs = divs.split(\"\\n///\")\n",
    "del divs[0]\n",
    "divs = [tix.replace('\\nGet Tickets', \"\") for tix in divs]\n",
    "divs = [tix.replace('\\nPast Events', \"\") for tix in divs]\n",
    "divs = [tix.replace('\\nEnglish (US)\\nEspañol\\nFrançais (France)\\n中文(简体)\\nالعربية\\nPortuguês (Brasil)\\nItaliano\\n한국어\\nDeutsch\\nहिन्दी\\n日本語\\nSign UpLog InMessengerFacebook Lite Watch PeopleProfilesPagesPage CategoriesEventsPlacesGamesLocationsMarketplaceGroupsInstagramLocalFundraisersServicesAboutCreate AdCreate PageDevelopersCareersPrivacyCookiesAd Choices\\nTermsAccount SecurityLogin HelpHelp\\nSettings\\nActivity Log\\nFacebook © 2019', \"\") for tix in divs]\n",
    "\n",
    "for line in range(0, len(divs)):\n",
    "    divs[line] = re.split(\"[\\n·]\",divs[line])"
   ]
  },
  {
   "cell_type": "code",
   "execution_count": 29,
   "metadata": {
    "scrolled": true
   },
   "outputs": [],
   "source": [
    "divs_list = []\n",
    "for div in divs:\n",
    "    if len(div) > 5:\n",
    "        divs_list.append(div)"
   ]
  },
  {
   "cell_type": "code",
   "execution_count": 30,
   "metadata": {
    "scrolled": true
   },
   "outputs": [],
   "source": [
    "event_dict = []\n",
    "for chunk in divs_list:\n",
    "    event = {}\n",
    "    event['Event_Date'] = chunk[0] + \" \" + chunk[1]\n",
    "    event['Event_Title'] = chunk[2]\n",
    "    event['Event_Crowd'] = chunk[4]\n",
    "    try: event['Event_Address']=chunk[5]+\", \"+chunk[6]\n",
    "    except: event['Event_Address'] = chunk[5]\n",
    "    event['properties.name'] = \"Steve Bullock\"\n",
    "    event_dict.append(event)"
   ]
  },
  {
   "cell_type": "code",
   "execution_count": 31,
   "metadata": {
    "scrolled": true
   },
   "outputs": [],
   "source": [
    "bullock_df = pd.DataFrame(event_dict)\n",
    "bullock_df.Event_Date = pd.to_datetime(bullock_df.Event_Date, format=\"%b %d\", errors='coerce')\n",
    "bullock_df.Event_Date = bullock_df.Event_Date.dt.strftime(\"%m/%d/2019\")\n",
    "bullock_df.Event_Crowd = bullock_df.Event_Crowd.str.extract(\"^(.*)\\sguests\")"
   ]
  },
  {
   "cell_type": "code",
   "execution_count": 32,
   "metadata": {},
   "outputs": [
    {
     "data": {
      "text/html": [
       "<div>\n",
       "<style scoped>\n",
       "    .dataframe tbody tr th:only-of-type {\n",
       "        vertical-align: middle;\n",
       "    }\n",
       "\n",
       "    .dataframe tbody tr th {\n",
       "        vertical-align: top;\n",
       "    }\n",
       "\n",
       "    .dataframe thead th {\n",
       "        text-align: right;\n",
       "    }\n",
       "</style>\n",
       "<table border=\"1\" class=\"dataframe\">\n",
       "  <thead>\n",
       "    <tr style=\"text-align: right;\">\n",
       "      <th></th>\n",
       "      <th>Event_Address</th>\n",
       "      <th>Event_Crowd</th>\n",
       "      <th>Event_Date</th>\n",
       "      <th>Event_Title</th>\n",
       "      <th>properties.name</th>\n",
       "    </tr>\n",
       "  </thead>\n",
       "  <tbody>\n",
       "    <tr>\n",
       "      <th>0</th>\n",
       "      <td>Tremont Inn On Main, Marshalltown, IA</td>\n",
       "      <td>8</td>\n",
       "      <td>07/10/2019</td>\n",
       "      <td>A Fair Shot for Marshalltown with Steve Bullock</td>\n",
       "      <td>Steve Bullock</td>\n",
       "    </tr>\n",
       "    <tr>\n",
       "      <th>1</th>\n",
       "      <td>SingleSpeed Brewing Co. (Waterloo, IA), Waterloo, IA</td>\n",
       "      <td>15</td>\n",
       "      <td>07/10/2019</td>\n",
       "      <td>A Fair Shot for Waterloo with Steve Bullock</td>\n",
       "      <td>Steve Bullock</td>\n",
       "    </tr>\n",
       "    <tr>\n",
       "      <th>2</th>\n",
       "      <td>LaReyna, Vinton, IA</td>\n",
       "      <td>6</td>\n",
       "      <td>07/10/2019</td>\n",
       "      <td>A Fair Shot for Vinton with Steve Bullock</td>\n",
       "      <td>Steve Bullock</td>\n",
       "    </tr>\n",
       "    <tr>\n",
       "      <th>3</th>\n",
       "      <td>Blackstone, Iowa City, IA</td>\n",
       "      <td>20</td>\n",
       "      <td>07/10/2019</td>\n",
       "      <td>A Fair Shot for Iowa City with Steve Bullock</td>\n",
       "      <td>Steve Bullock</td>\n",
       "    </tr>\n",
       "    <tr>\n",
       "      <th>4</th>\n",
       "      <td>100 S Commercial St, Manchester, NH 03101-2605, United States</td>\n",
       "      <td>98</td>\n",
       "      <td>06/27/2019</td>\n",
       "      <td>WMUR Town Hall with Governor Steve Bullock</td>\n",
       "      <td>Steve Bullock</td>\n",
       "    </tr>\n",
       "  </tbody>\n",
       "</table>\n",
       "</div>"
      ],
      "text/plain": [
       "                                                   Event_Address Event_Crowd  \\\n",
       "0  Tremont Inn On Main, Marshalltown, IA                           8           \n",
       "1  SingleSpeed Brewing Co. (Waterloo, IA), Waterloo, IA            15          \n",
       "2  LaReyna, Vinton, IA                                             6           \n",
       "3  Blackstone, Iowa City, IA                                       20          \n",
       "4  100 S Commercial St, Manchester, NH 03101-2605, United States   98          \n",
       "\n",
       "   Event_Date                                      Event_Title properties.name  \n",
       "0  07/10/2019  A Fair Shot for Marshalltown with Steve Bullock  Steve Bullock   \n",
       "1  07/10/2019  A Fair Shot for Waterloo with Steve Bullock      Steve Bullock   \n",
       "2  07/10/2019  A Fair Shot for Vinton with Steve Bullock        Steve Bullock   \n",
       "3  07/10/2019  A Fair Shot for Iowa City with Steve Bullock     Steve Bullock   \n",
       "4  06/27/2019  WMUR Town Hall with Governor Steve Bullock       Steve Bullock   "
      ]
     },
     "execution_count": 32,
     "metadata": {},
     "output_type": "execute_result"
    }
   ],
   "source": [
    "bullock_df.head()"
   ]
  },
  {
   "cell_type": "code",
   "execution_count": 33,
   "metadata": {},
   "outputs": [],
   "source": [
    "## Dropping everything before the announcement date\n",
    "bullock_df.drop(bullock_df.tail(5).index,inplace=True)"
   ]
  },
  {
   "cell_type": "code",
   "execution_count": 34,
   "metadata": {},
   "outputs": [
    {
     "data": {
      "text/plain": [
       "(24, 5)"
      ]
     },
     "execution_count": 34,
     "metadata": {},
     "output_type": "execute_result"
    }
   ],
   "source": [
    "bullock_df.shape"
   ]
  },
  {
   "cell_type": "code",
   "execution_count": 35,
   "metadata": {},
   "outputs": [],
   "source": [
    "df2 = df2.append(bullock_df, ignore_index=True)"
   ]
  },
  {
   "cell_type": "code",
   "execution_count": 36,
   "metadata": {
    "scrolled": true
   },
   "outputs": [
    {
     "data": {
      "text/plain": [
       "(109, 5)"
      ]
     },
     "execution_count": 36,
     "metadata": {},
     "output_type": "execute_result"
    }
   ],
   "source": [
    "df2.shape"
   ]
  },
  {
   "cell_type": "code",
   "execution_count": 37,
   "metadata": {},
   "outputs": [
    {
     "data": {
      "text/plain": [
       "Cory Booker       50\n",
       "Joe Biden Jr.     33\n",
       "Steve Bullock     24\n",
       "Michael Bennet    2 \n",
       "Name: properties.name, dtype: int64"
      ]
     },
     "execution_count": 37,
     "metadata": {},
     "output_type": "execute_result"
    }
   ],
   "source": [
    "df2['properties.name'].value_counts()"
   ]
  },
  {
   "cell_type": "markdown",
   "metadata": {},
   "source": [
    "# Pete Buttigieg"
   ]
  },
  {
   "cell_type": "code",
   "execution_count": 38,
   "metadata": {
    "scrolled": true
   },
   "outputs": [
    {
     "data": {
      "text/plain": [
       "[['JUL',\n",
       "  '3',\n",
       "  'Meet Pete in Sioux City!',\n",
       "  'Wed 4:00 PM CDT ',\n",
       "  ' 842 guests',\n",
       "  'Sioux City North High School',\n",
       "  'Sioux City, IA'],\n",
       " ['JUN',\n",
       "  '22',\n",
       "  'Town Hall in North Augusta',\n",
       "  'Sat 5:00 PM EDT ',\n",
       "  ' 1,027 guests',\n",
       "  'Maude Edenfield Park',\n",
       "  'North Augusta, SC'],\n",
       " ['JUN',\n",
       "  '9',\n",
       "  'Cedar Rapids Picnic with Pete!',\n",
       "  'Sun 11:00 AM EDT ',\n",
       "  ' 329 guests',\n",
       "  'Greene Square Park 372-480 4th Ave SE Cedar Rapids, IA 52401'],\n",
       " ['MAY',\n",
       "  '25',\n",
       "  'Town Hall with Pete Buttigieg',\n",
       "  'Sat 11:00 AM EDT ',\n",
       "  ' 897 guests',\n",
       "  'Keene High School',\n",
       "  'Keene, NH'],\n",
       " ['MAY',\n",
       "  '18',\n",
       "  'Meet Pete in Dubuque!',\n",
       "  'Sat 3:30 PM CDT ',\n",
       "  ' 652 guests',\n",
       "  '7 Hills Brewing Company Event Center 1085 Washington St Dubuque, IA 52001'],\n",
       " ['MAY',\n",
       "  '18',\n",
       "  'Meet Pete in Johnson County!',\n",
       "  'Sat 12:30 PM CDT ',\n",
       "  ' 1,408 guests',\n",
       "  'Wildwood Smokehouse & Saloon Walleye Dr SE, Iowa City, IA 52240'],\n",
       " ['MAY',\n",
       "  '6',\n",
       "  'Meet and Greet in Orangeburg',\n",
       "  'Mon 12:30 PM EDT ',\n",
       "  ' 352 guests',\n",
       "  '1005 Broughton Street Orangeburg, SC 29115'],\n",
       " ['MAY',\n",
       "  '5',\n",
       "  'Town Hall in North Charleston',\n",
       "  'Sun 4:30 PM EDT ',\n",
       "  ' 950 guests',\n",
       "  'North Charleston High School 1087 E Montague Ave North Charleston, SC 29405'],\n",
       " ['APR',\n",
       "  '20',\n",
       "  'A Town Hall with Mayor Pete at Plymouth State University',\n",
       "  'Sat 11:15 AM EDT ',\n",
       "  ' 330 guests',\n",
       "  'Plymouth State University, Courtroom at Hartman Union Building'],\n",
       " ['APR',\n",
       "  '16',\n",
       "  'Meet Pete rally in Des Moines',\n",
       "  'Tue 5:45 PM CDT ',\n",
       "  ' 791 guests',\n",
       "  'Franklin Middle School 4801 Franklin Ave. Des Moines, IA 50310'],\n",
       " ['APR',\n",
       "  '14',\n",
       "  'A Special Announcement from Pete Buttigieg',\n",
       "  'Sun 12:00 PM EDT ',\n",
       "  ' 14,925 guests',\n",
       "  'Studebaker Building 84, 635 S Lafayette Blvd'],\n",
       " ['MAR',\n",
       "  '8',\n",
       "  'Meet and Greet with Mayor Pete',\n",
       "  'Fri 6:00 PM EST ',\n",
       "  ' 737 guests',\n",
       "  'Portsmouth Gas Light Co.',\n",
       "  'Portsmouth, NH']]"
      ]
     },
     "execution_count": 38,
     "metadata": {},
     "output_type": "execute_result"
    }
   ],
   "source": [
    "driver = webdriver.Chrome()\n",
    "driver.get(\"https://www.facebook.com/pg/petebuttigieg1/events/?ref=page_internal\")\n",
    "\n",
    "while driver.find_element_by_tag_name(\"div\"):\n",
    "    driver.execute_script(\"window.scrollTo(0, document.body.scrollHeight);\")\n",
    "    divs=driver.find_element_by_xpath('//*[@id=\"content_container\"]/div').text\n",
    "    if 'MAR' in divs:\n",
    "        break\n",
    "    else:\n",
    "        continue\n",
    "driver.quit()\n",
    "\n",
    "divs = re.sub(r\"\\n([A-Z]{3}\\n\\d?)\", r\"\\n///\\1\", divs)\n",
    "divs = divs.split(\"\\n///\")\n",
    "del divs[0]\n",
    "divs = [tix.replace('\\nGet Tickets', \"\") for tix in divs]\n",
    "divs = [tix.replace('\\nPast Events', \"\") for tix in divs]\n",
    "divs = [tix.replace('\\nEnglish (US)\\nEspañol\\nFrançais (France)\\n中文(简体)\\nالعربية\\nPortuguês (Brasil)\\nItaliano\\n한국어\\nDeutsch\\nहिन्दी\\n日本語\\nSign UpLog InMessengerFacebook Lite Watch PeopleProfilesPagesPage CategoriesEventsPlacesGamesLocationsMarketplaceGroupsInstagramLocalFundraisersServicesAboutCreate AdCreate PageDevelopersCareersPrivacyCookiesAd Choices\\nTermsAccount SecurityLogin HelpHelp\\nSettings\\nActivity Log\\nFacebook © 2019', \"\") for tix in divs]\n",
    "\n",
    "for line in range(0, len(divs)):\n",
    "    divs[line] = re.split(\"[\\n·]\",divs[line])\n",
    "divs"
   ]
  },
  {
   "cell_type": "code",
   "execution_count": 39,
   "metadata": {
    "scrolled": true
   },
   "outputs": [],
   "source": [
    "divs_list = []\n",
    "for div in divs:\n",
    "    if len(div) > 5:\n",
    "        divs_list.append(div)"
   ]
  },
  {
   "cell_type": "code",
   "execution_count": 40,
   "metadata": {
    "scrolled": true
   },
   "outputs": [],
   "source": [
    "event_dict = []\n",
    "for chunk in divs_list:\n",
    "    event = {}\n",
    "    event['Event_Date'] = chunk[0] + \" \" + chunk[1]\n",
    "    event['Event_Title'] = chunk[2]\n",
    "    event['Event_Crowd'] = chunk[4]\n",
    "    try: event['Event_Address']=chunk[5]+\", \"+chunk[6]\n",
    "    except: event['Event_Address'] = chunk[5]\n",
    "    event['properties.name'] = \"Pete Buttigieg\"\n",
    "    event_dict.append(event)"
   ]
  },
  {
   "cell_type": "code",
   "execution_count": 41,
   "metadata": {
    "scrolled": true
   },
   "outputs": [],
   "source": [
    "buttigieg_df = pd.DataFrame(event_dict)\n",
    "buttigieg_df.Event_Date = pd.to_datetime(buttigieg_df.Event_Date, format=\"%b %d\", errors='coerce')\n",
    "buttigieg_df.Event_Date = buttigieg_df.Event_Date.dt.strftime(\"%m/%d/2019\")\n",
    "buttigieg_df.Event_Crowd = buttigieg_df.Event_Crowd.str.extract(\"^(.*)\\sguests\")"
   ]
  },
  {
   "cell_type": "code",
   "execution_count": 42,
   "metadata": {},
   "outputs": [
    {
     "data": {
      "text/html": [
       "<div>\n",
       "<style scoped>\n",
       "    .dataframe tbody tr th:only-of-type {\n",
       "        vertical-align: middle;\n",
       "    }\n",
       "\n",
       "    .dataframe tbody tr th {\n",
       "        vertical-align: top;\n",
       "    }\n",
       "\n",
       "    .dataframe thead th {\n",
       "        text-align: right;\n",
       "    }\n",
       "</style>\n",
       "<table border=\"1\" class=\"dataframe\">\n",
       "  <thead>\n",
       "    <tr style=\"text-align: right;\">\n",
       "      <th></th>\n",
       "      <th>Event_Address</th>\n",
       "      <th>Event_Crowd</th>\n",
       "      <th>Event_Date</th>\n",
       "      <th>Event_Title</th>\n",
       "      <th>properties.name</th>\n",
       "    </tr>\n",
       "  </thead>\n",
       "  <tbody>\n",
       "    <tr>\n",
       "      <th>0</th>\n",
       "      <td>Sioux City North High School, Sioux City, IA</td>\n",
       "      <td>842</td>\n",
       "      <td>07/03/2019</td>\n",
       "      <td>Meet Pete in Sioux City!</td>\n",
       "      <td>Pete Buttigieg</td>\n",
       "    </tr>\n",
       "    <tr>\n",
       "      <th>1</th>\n",
       "      <td>Maude Edenfield Park, North Augusta, SC</td>\n",
       "      <td>1,027</td>\n",
       "      <td>06/22/2019</td>\n",
       "      <td>Town Hall in North Augusta</td>\n",
       "      <td>Pete Buttigieg</td>\n",
       "    </tr>\n",
       "    <tr>\n",
       "      <th>2</th>\n",
       "      <td>Greene Square Park 372-480 4th Ave SE Cedar Rapids, IA 52401</td>\n",
       "      <td>329</td>\n",
       "      <td>06/09/2019</td>\n",
       "      <td>Cedar Rapids Picnic with Pete!</td>\n",
       "      <td>Pete Buttigieg</td>\n",
       "    </tr>\n",
       "    <tr>\n",
       "      <th>3</th>\n",
       "      <td>Keene High School, Keene, NH</td>\n",
       "      <td>897</td>\n",
       "      <td>05/25/2019</td>\n",
       "      <td>Town Hall with Pete Buttigieg</td>\n",
       "      <td>Pete Buttigieg</td>\n",
       "    </tr>\n",
       "    <tr>\n",
       "      <th>4</th>\n",
       "      <td>7 Hills Brewing Company Event Center 1085 Washington St Dubuque, IA 52001</td>\n",
       "      <td>652</td>\n",
       "      <td>05/18/2019</td>\n",
       "      <td>Meet Pete in Dubuque!</td>\n",
       "      <td>Pete Buttigieg</td>\n",
       "    </tr>\n",
       "  </tbody>\n",
       "</table>\n",
       "</div>"
      ],
      "text/plain": [
       "                                                               Event_Address  \\\n",
       "0  Sioux City North High School, Sioux City, IA                                \n",
       "1  Maude Edenfield Park, North Augusta, SC                                     \n",
       "2  Greene Square Park 372-480 4th Ave SE Cedar Rapids, IA 52401                \n",
       "3  Keene High School, Keene, NH                                                \n",
       "4  7 Hills Brewing Company Event Center 1085 Washington St Dubuque, IA 52001   \n",
       "\n",
       "  Event_Crowd  Event_Date                     Event_Title properties.name  \n",
       "0   842        07/03/2019  Meet Pete in Sioux City!        Pete Buttigieg  \n",
       "1   1,027      06/22/2019  Town Hall in North Augusta      Pete Buttigieg  \n",
       "2   329        06/09/2019  Cedar Rapids Picnic with Pete!  Pete Buttigieg  \n",
       "3   897        05/25/2019  Town Hall with Pete Buttigieg   Pete Buttigieg  \n",
       "4   652        05/18/2019  Meet Pete in Dubuque!           Pete Buttigieg  "
      ]
     },
     "execution_count": 42,
     "metadata": {},
     "output_type": "execute_result"
    }
   ],
   "source": [
    "buttigieg_df.head()"
   ]
  },
  {
   "cell_type": "code",
   "execution_count": 43,
   "metadata": {},
   "outputs": [],
   "source": [
    "## Dropping everything before the announcement date\n",
    "buttigieg_df.drop(buttigieg_df.tail(2).index,inplace=True)"
   ]
  },
  {
   "cell_type": "code",
   "execution_count": 44,
   "metadata": {},
   "outputs": [
    {
     "data": {
      "text/plain": [
       "(10, 5)"
      ]
     },
     "execution_count": 44,
     "metadata": {},
     "output_type": "execute_result"
    }
   ],
   "source": [
    "buttigieg_df.shape"
   ]
  },
  {
   "cell_type": "code",
   "execution_count": 45,
   "metadata": {},
   "outputs": [],
   "source": [
    "df2 = df2.append(buttigieg_df, ignore_index=True)"
   ]
  },
  {
   "cell_type": "code",
   "execution_count": 46,
   "metadata": {},
   "outputs": [
    {
     "data": {
      "text/plain": [
       "Cory Booker       50\n",
       "Joe Biden Jr.     33\n",
       "Steve Bullock     24\n",
       "Pete Buttigieg    10\n",
       "Michael Bennet    2 \n",
       "Name: properties.name, dtype: int64"
      ]
     },
     "execution_count": 46,
     "metadata": {},
     "output_type": "execute_result"
    }
   ],
   "source": [
    "df2['properties.name'].value_counts()"
   ]
  },
  {
   "cell_type": "markdown",
   "metadata": {},
   "source": [
    "# Julian Castro"
   ]
  },
  {
   "cell_type": "code",
   "execution_count": 47,
   "metadata": {},
   "outputs": [
    {
     "data": {
      "text/plain": [
       "[['JUL',\n",
       "  '7',\n",
       "  'Meet Julián Castro in Council Bluffs, IA',\n",
       "  'Sun 7:00 PM CDT ',\n",
       "  ' 428 guests',\n",
       "  '1900 Madison Ave, Council Bluffs, IA 51503-5250, United States'],\n",
       " ['JUL',\n",
       "  '8',\n",
       "  'Meet Julián Castro in Red Oak, IA',\n",
       "  'Mon 8:30 AM CDT ',\n",
       "  ' 202 guests',\n",
       "  'The Bridge Coffeehouse',\n",
       "  'Red Oak, IA'],\n",
       " ['JUL',\n",
       "  '1',\n",
       "  'Road to 2020: Julián Castro',\n",
       "  'Mon 6:00 PM CDT ',\n",
       "  ' 2,148 guests',\n",
       "  'La Gran Plaza de Fort Worth',\n",
       "  'Fort Worth, TX'],\n",
       " ['JUL',\n",
       "  '1',\n",
       "  'Frisco Democratic Club Town Hall with Sec. Julian Castro',\n",
       "  'Mon 12:30 PM CDT ',\n",
       "  ' 754 guests',\n",
       "  'Collin College, Preston Ridge Campus',\n",
       "  'Frisco, TX'],\n",
       " ['JUN',\n",
       "  '30',\n",
       "  'HCDP Presidential Candidate Speaker Series with Julián Castro',\n",
       "  'Sun 2:00 PM CDT ',\n",
       "  ' 1,905 guests',\n",
       "  \"St. John's Downtown\",\n",
       "  'Houston, TX'],\n",
       " ['JUN',\n",
       "  '29',\n",
       "  'March with Julián at SA Pride Parade!',\n",
       "  'Sat 8:30 PM CDT ',\n",
       "  ' 446 guests',\n",
       "  'Lewis St. between Dewey Place and Ashby Place'],\n",
       " ['JUN',\n",
       "  '29',\n",
       "  'Castro2020 Pre-Pride Happy Hour',\n",
       "  'Sat 6:30 PM CDT ',\n",
       "  ' 1,009 guests',\n",
       "  'Finesilver',\n",
       "  'San Antonio, TX'],\n",
       " ['JUN',\n",
       "  '29',\n",
       "  'SA Family Pride with Team Julián!',\n",
       "  'Sat 11:00 AM CDT ',\n",
       "  ' 554 guests',\n",
       "  'Crockett Park',\n",
       "  'San Antonio, TX'],\n",
       " ['JUN',\n",
       "  '28',\n",
       "  'Meet & Greet with Secretary Julián Castro',\n",
       "  'Fri 7:00 PM CDT ',\n",
       "  ' 1,655 guests',\n",
       "  'Cheer Up Charlies',\n",
       "  'Austin, TX'],\n",
       " ['JUN',\n",
       "  '26',\n",
       "  'Julian Castro Debate Watch Party',\n",
       "  'Wed 8:00 PM CDT ',\n",
       "  ' 208 guests',\n",
       "  'Burnt Nopal Creative Studio',\n",
       "  'San Antonio, TX'],\n",
       " ['JUN',\n",
       "  '26',\n",
       "  'Debate Watch Party with #TeamJulián Reno',\n",
       "  'Wed 5:30 PM PDT ',\n",
       "  ' 47 guests',\n",
       "  '1745 S Wells Ave, Reno, NV 89502-3306, United States'],\n",
       " ['JUN',\n",
       "  '26',\n",
       "  'Debate Watch Party with #TeamJulián Iowa',\n",
       "  'Wed 7:30 PM CDT ',\n",
       "  ' 28 guests',\n",
       "  'El Fogon',\n",
       "  'West Des Moines, IA'],\n",
       " ['JUN',\n",
       "  '26',\n",
       "  'Debate Watch Party with #TeamJulián in Las Vegas',\n",
       "  'Wed 5:00 PM PDT ',\n",
       "  ' 5 guests',\n",
       "  '1900 E Howard Ave, Las Vegas NV 89104'],\n",
       " ['JUN',\n",
       "  '26',\n",
       "  'Debate Watch Party with #TeamJulián in South Carolina',\n",
       "  'Wed 8:00 PM EDT ',\n",
       "  ' 8 guests',\n",
       "  '1626 Main St, Columbia, SC 29201-2818, United States'],\n",
       " ['JUN',\n",
       "  '15',\n",
       "  'Julián Castro Town Hall in Cedar Rapids, IA',\n",
       "  'Sat 1:30 PM CDT ',\n",
       "  ' 247 guests',\n",
       "  'Raygun',\n",
       "  'Cedar Rapids, IA'],\n",
       " ['JUN',\n",
       "  '14',\n",
       "  'Meet Julián Castro in Urbandale, IA',\n",
       "  'Fri 7:00 PM CDT ',\n",
       "  ' 609 guests',\n",
       "  'Urbandale, Iowa',\n",
       "  'Urbandale, IA'],\n",
       " ['JUN',\n",
       "  '13',\n",
       "  'Post-Town Hall Happy Hour with Secretary Castro',\n",
       "  'Thu 5:30 PM MST ',\n",
       "  ' 623 guests',\n",
       "  'Spokes on Southern',\n",
       "  'Tempe, AZ'],\n",
       " ['MAY',\n",
       "  '18',\n",
       "  'Meet Julián in Flagstaff, AZ!',\n",
       "  'Sat 11:00 AM MST ',\n",
       "  ' 43 guests',\n",
       "  'Coconino High School',\n",
       "  'Flagstaff, AZ'],\n",
       " ['MAY',\n",
       "  '10',\n",
       "  'Cancelled: Town Hall with Julián Castro in Davenport, IA',\n",
       "  'Fri 7:00 PM CDT ',\n",
       "  ' 262 guests',\n",
       "  'Scott Community College Urban Campus'],\n",
       " ['MAY',\n",
       "  '10',\n",
       "  'Cancelled: Meet Julián in Muscatine, IA',\n",
       "  'Fri 2:00 PM CDT ',\n",
       "  ' 22 guests',\n",
       "  'Strawberry Farm Bed & Breakfast',\n",
       "  'Muscatine, IA'],\n",
       " ['MAY',\n",
       "  '7',\n",
       "  'Iowa 2020 Book Club with Julián Castro',\n",
       "  'Tue 7:30 PM CDT ',\n",
       "  ' 142 guests',\n",
       "  'Grand View University',\n",
       "  'Des Moines, IA'],\n",
       " ['MAY',\n",
       "  '7',\n",
       "  'Meet Julián in Des Moines, IA',\n",
       "  'Tue 6:30 PM CDT ',\n",
       "  ' 44 guests',\n",
       "  'Grand View University',\n",
       "  'Des Moines, IA'],\n",
       " ['MAY',\n",
       "  '7',\n",
       "  'Meet Julián in Grinnell, IA',\n",
       "  'Tue 2:30 PM CDT ',\n",
       "  ' 86 guests',\n",
       "  'Drake Community Library',\n",
       "  'Grinnell, IA'],\n",
       " ['MAY',\n",
       "  '7',\n",
       "  'Meet Julián in Ames, IA',\n",
       "  'Tue 11:00 AM CDT ',\n",
       "  ' 102 guests',\n",
       "  'Collegiate United Methodist Church and Wesley Foundation',\n",
       "  'Ames, IA'],\n",
       " ['MAY',\n",
       "  '6',\n",
       "  'An Evening with Julián Castro',\n",
       "  'Mon 6:30 PM EDT ',\n",
       "  ' 69 guests',\n",
       "  'Flight Coffee of Dover NH',\n",
       "  'Dover, NH'],\n",
       " ['APR',\n",
       "  '28',\n",
       "  'Meet Julián in Keene, NH',\n",
       "  'Sun 7:00 PM EDT ',\n",
       "  ' 8 guests',\n",
       "  'Keene State College',\n",
       "  'Keene, NH'],\n",
       " ['APR',\n",
       "  '28',\n",
       "  'Meet Julián in Plymouth, NH',\n",
       "  'Sun 11:00 AM EDT ',\n",
       "  ' 6 guests',\n",
       "  'LuckyDog Psu',\n",
       "  'Plymouth, NH'],\n",
       " ['APR',\n",
       "  '28',\n",
       "  'Meet Julián in Laconia, NH',\n",
       "  'Sun 9:00 AM EDT ',\n",
       "  ' 12 guests',\n",
       "  '1487 Old North Main St, Laconia, NH 03246-2684, United States'],\n",
       " ['APR',\n",
       "  '26',\n",
       "  'Meet Julián in Las Vegas, NV',\n",
       "  'Fri 6:00 PM PDT ',\n",
       "  ' 58 guests',\n",
       "  '1933 Hassett Ave, Las Vegas, NV 89104-3626, United States'],\n",
       " ['APR',\n",
       "  '17',\n",
       "  'Meet Julián in Reno, NV',\n",
       "  'Wed 3:30 PM PDT ',\n",
       "  ' 121 guests',\n",
       "  'Democratic Party of Washoe County',\n",
       "  'Reno, NV'],\n",
       " ['APR',\n",
       "  '15',\n",
       "  'Asian & Latino Coalition Reception with Julián Castro',\n",
       "  'Mon 7:00 PM CDT ',\n",
       "  ' 677 guests',\n",
       "  'Machinist Hall',\n",
       "  'Des Moines, IA'],\n",
       " ['APR',\n",
       "  '14',\n",
       "  'Political Party Live! with Julián Castro in Iowa City, IA',\n",
       "  'Sun 7:00 PM CDT ',\n",
       "  ' 80 guests',\n",
       "  'The Mill',\n",
       "  'Iowa City, IA'],\n",
       " ['APR',\n",
       "  '14',\n",
       "  'Cancelled-Meet Julián in Muscatine, IA',\n",
       "  'Sun 3:00 PM CDT ',\n",
       "  ' 43 guests',\n",
       "  'Strawberry Farm Bed & Breakfast',\n",
       "  'Muscatine, IA'],\n",
       " ['APR',\n",
       "  '14',\n",
       "  'Cancelled-Meet Julián in Davenport, IA',\n",
       "  'Sun 1:00 PM CDT ',\n",
       "  ' 113 guests',\n",
       "  '2411 W Central Park Ave, Davenport, IA 52804-2501, United States'],\n",
       " ['APR',\n",
       "  '10',\n",
       "  'People First Rally',\n",
       "  'Wed 6:00 PM CDT ',\n",
       "  ' 2,470 guests',\n",
       "  'Hemisfair | 600 Hemisfair Plaza Way, San Antonio, TX, 78205'],\n",
       " ['APR',\n",
       "  '6',\n",
       "  'Meet Julián in East Los Angeles',\n",
       "  'Sat 12:00 PM PDT ',\n",
       "  ' 936 guests',\n",
       "  'James A. Garfield High School',\n",
       "  'East Los Angeles, CA'],\n",
       " ['MAR',\n",
       "  '31',\n",
       "  'Meet Julián in Hiawatha, IA',\n",
       "  'Sun 4:30 PM CDT ',\n",
       "  ' 25 guests',\n",
       "  'Karma Coffee Cafe',\n",
       "  'Hiawatha, IA'],\n",
       " ['MAR',\n",
       "  '31',\n",
       "  'Meet Julián in Waterloo, IA',\n",
       "  'Sun 1:00 PM CDT ',\n",
       "  ' 64 guests',\n",
       "  '307 E 4th St Waterloo, IA 50703'],\n",
       " ['MAR',\n",
       "  '30',\n",
       "  'Meet Julián in Fort Dodge, IA',\n",
       "  'Sat 3:30 PM CDT ',\n",
       "  ' 45 guests'],\n",
       " ['MAR',\n",
       "  '30',\n",
       "  'Meet Julián in Nevada, IA',\n",
       "  'Sat 9:00 AM CDT ',\n",
       "  ' 13 guests',\n",
       "  'FarmGrounds',\n",
       "  'Nevada, IA'],\n",
       " ['MAR',\n",
       "  '17',\n",
       "  'Meet Julián in Columbia, SC!',\n",
       "  'Sun 4:15 PM EDT ',\n",
       "  ' 26 guests',\n",
       "  '220 Stoneridge Dr # 100, Columbia, SC 29210'],\n",
       " ['MAR',\n",
       "  '17',\n",
       "  'Meet Julián in Orangeburg, SC!',\n",
       "  'Sun 1:30 PM EDT ',\n",
       "  ' 6 guests',\n",
       "  'Word Of Mouth Lounge',\n",
       "  'Orangeburg, SC'],\n",
       " ['MAR',\n",
       "  '17',\n",
       "  'Meet Julián in Charleston, SC!',\n",
       "  'Sun 11:00 AM EDT ',\n",
       "  ' 436 guests',\n",
       "  'Tasty Thai & Sushi',\n",
       "  'Charleston, SC'],\n",
       " ['MAR',\n",
       "  '15',\n",
       "  'Meet Julián in Las Vegas',\n",
       "  'Fri 7:00 PM PDT ',\n",
       "  ' 269 guests',\n",
       "  '1221 S Main St, Las Vegas, NV 89104-1028, United States'],\n",
       " ['MAR',\n",
       "  '14',\n",
       "  'Real America with Jorge Ramos: Julián: El Primer Presidente?',\n",
       "  'Thu 8:00 PM CDT ',\n",
       "  ' 597 guests',\n",
       "  'San Antonio, Texas',\n",
       "  'San Antonio, TX'],\n",
       " ['MAR',\n",
       "  '4',\n",
       "  'Meet Julián Castro in Los Angeles',\n",
       "  'Mon 6:30 PM PST ',\n",
       "  ' 2,189 guests',\n",
       "  'City Club LA (Los Angeles, CA)',\n",
       "  'Los Angeles, CA'],\n",
       " ['FEB',\n",
       "  '27',\n",
       "  'Meet Julián Castro in Salt Lake City, Utah',\n",
       "  'Wed 7:00 PM MST ',\n",
       "  ' 767 guests',\n",
       "  'Centro Cívico, 155 S 600 W Salt Lake City, Utah 84101'],\n",
       " ['FEB',\n",
       "  '26',\n",
       "  'Meet & Greet with Julián Castro',\n",
       "  'Tue 7:00 PM MST ',\n",
       "  ' 1,385 guests',\n",
       "  'Jordan Ballroom at BSU',\n",
       "  'Boise, ID'],\n",
       " ['FEB',\n",
       "  '23',\n",
       "  'Annual Soup Supper Fundraiser',\n",
       "  'Sat 5:00 PM CST ',\n",
       "  ' 580 guests',\n",
       "  '2622 Lincoln Way, Ames, IA 50014-7220, United States'],\n",
       " ['FEB',\n",
       "  '23',\n",
       "  'Meet Julián Castro in Storm Lake, Iowa',\n",
       "  'Sat 10:00 AM CST ',\n",
       "  ' 69 guests',\n",
       "  'Better Day Cafe',\n",
       "  'Storm Lake, IA'],\n",
       " ['FEB',\n",
       "  '22',\n",
       "  'Truman Club - Julian Castro',\n",
       "  'Fri 6:00 PM CST ',\n",
       "  ' 220 guests',\n",
       "  '615 Shady Lane Dr, Sioux City, IA 51104-1154, United States'],\n",
       " ['FEB',\n",
       "  '22',\n",
       "  'Meet Julián Castro in Orange City, Iowa',\n",
       "  'Fri 4:00 PM CST ',\n",
       "  ' 164 guests',\n",
       "  'Town Square Coffee House',\n",
       "  'Orange City, IA'],\n",
       " ['FEB',\n",
       "  '22',\n",
       "  'Meet Julián Castro in Denison, Iowa',\n",
       "  'Fri 11:00 AM CST ',\n",
       "  ' 7 guests',\n",
       "  \"Cronk's Restaurant & Lounge\",\n",
       "  'Denison, IA'],\n",
       " ['FEB',\n",
       "  '22',\n",
       "  'Meet Julián Castro in Carroll, Iowa',\n",
       "  'Fri 9:00 AM CST ',\n",
       "  ' 9 guests',\n",
       "  \"Sam's Sodas & Sandwiches\",\n",
       "  'Carroll, IA'],\n",
       " ['FEB',\n",
       "  '21',\n",
       "  'Audubon Dems Meet Julian Castro and Odd-year Caucus',\n",
       "  'Thu 5:00 PM CST ',\n",
       "  ' 95 guests',\n",
       "  'Exira Event Center 106 Jefferson St, Exira, Iowa 50076'],\n",
       " ['FEB',\n",
       "  '21',\n",
       "  'Grand View University Town Hall with Julián Castro',\n",
       "  'Thu 12:30 PM CST ',\n",
       "  ' 347 guests',\n",
       "  'Grand View University - Student Center, 2811 E. 14th St., Des Moines, IA 50316'],\n",
       " ['JAN',\n",
       "  '12',\n",
       "  'A Special Announcement from Julián Castro',\n",
       "  'Sat 10:00 AM CST ',\n",
       "  ' 7,463 guests',\n",
       "  'Plaza Guadalupe',\n",
       "  'San Antonio, TX'],\n",
       " ['OCT',\n",
       "  '15',\n",
       "  'Julián Castro | An Unlikely Journey — with Jonathan Allen',\n",
       "  'Mon 7:00 PM EDT ',\n",
       "  ' 673 guests',\n",
       "  'Sixth & I',\n",
       "  'Washington'],\n",
       " ['SEP',\n",
       "  '16',\n",
       "  'Our 39th Birthday Celebration',\n",
       "  'Mon 6:00 PM CDT ',\n",
       "  ' 3,036 guests',\n",
       "  'Pearl Stable',\n",
       "  'San Antonio, TX']]"
      ]
     },
     "execution_count": 47,
     "metadata": {},
     "output_type": "execute_result"
    }
   ],
   "source": [
    "driver = webdriver.Chrome()\n",
    "driver.get(\"https://www.facebook.com/pg/julianforthefuture/events/?ref=page_internal\")\n",
    "\n",
    "while driver.find_element_by_tag_name(\"div\"):\n",
    "    driver.execute_script(\"window.scrollTo(0, document.body.scrollHeight);\")\n",
    "    divs=driver.find_element_by_xpath('//*[@id=\"content_container\"]/div').text\n",
    "    if 'Julián Castro | An Unlikely Journey' in divs:\n",
    "        break\n",
    "    else:\n",
    "        continue\n",
    "driver.quit()\n",
    "\n",
    "divs = re.sub(r\"\\n([A-Z]{3}\\n\\d?)\", r\"\\n///\\1\", divs)\n",
    "divs = divs.split(\"\\n///\")\n",
    "del divs[0]\n",
    "divs = [tix.replace('\\nGet Tickets', \"\") for tix in divs]\n",
    "divs = [tix.replace('\\nPast Events', \"\") for tix in divs]\n",
    "divs = [tix.replace('\\nEnglish (US)\\nEspañol\\nFrançais (France)\\n中文(简体)\\nالعربية\\nPortuguês (Brasil)\\nItaliano\\n한국어\\nDeutsch\\nहिन्दी\\n日本語\\nSign UpLog InMessengerFacebook Lite Watch PeopleProfilesPagesPage CategoriesEventsPlacesGamesLocationsMarketplaceGroupsInstagramLocalFundraisersServicesAboutCreate AdCreate PageDevelopersCareersPrivacyCookiesAd Choices\\nTermsAccount SecurityLogin HelpHelp\\nSettings\\nActivity Log\\nFacebook © 2019', \"\") for tix in divs]\n",
    "\n",
    "for line in range(0, len(divs)):\n",
    "    divs[line] = re.split(\"[\\n·]\",divs[line])\n",
    "divs"
   ]
  },
  {
   "cell_type": "code",
   "execution_count": 48,
   "metadata": {
    "scrolled": true
   },
   "outputs": [],
   "source": [
    "divs_list = []\n",
    "for div in divs:\n",
    "    if len(div) > 5:\n",
    "        divs_list.append(div)"
   ]
  },
  {
   "cell_type": "code",
   "execution_count": 49,
   "metadata": {
    "scrolled": true
   },
   "outputs": [],
   "source": [
    "event_dict = []\n",
    "for chunk in divs_list:\n",
    "    event = {}\n",
    "    event['Event_Date'] = chunk[0] + \" \" + chunk[1]\n",
    "    event['Event_Title'] = chunk[2]\n",
    "    event['Event_Crowd'] = chunk[4]\n",
    "    try: event['Event_Address']=chunk[5]+\", \"+chunk[6]\n",
    "    except: event['Event_Address'] = chunk[5]\n",
    "    event['properties.name'] = \"Julian Castro\"\n",
    "    event_dict.append(event)"
   ]
  },
  {
   "cell_type": "code",
   "execution_count": 50,
   "metadata": {
    "scrolled": true
   },
   "outputs": [],
   "source": [
    "castro_df = pd.DataFrame(event_dict)\n",
    "castro_df.Event_Date = pd.to_datetime(castro_df.Event_Date, format=\"%b %d\", errors='coerce')\n",
    "castro_df.Event_Date = castro_df.Event_Date.dt.strftime(\"%m/%d/2019\")\n",
    "castro_df.Event_Crowd = castro_df.Event_Crowd.str.extract(\"^(.*)\\sguests\")"
   ]
  },
  {
   "cell_type": "code",
   "execution_count": 51,
   "metadata": {},
   "outputs": [
    {
     "data": {
      "text/html": [
       "<div>\n",
       "<style scoped>\n",
       "    .dataframe tbody tr th:only-of-type {\n",
       "        vertical-align: middle;\n",
       "    }\n",
       "\n",
       "    .dataframe tbody tr th {\n",
       "        vertical-align: top;\n",
       "    }\n",
       "\n",
       "    .dataframe thead th {\n",
       "        text-align: right;\n",
       "    }\n",
       "</style>\n",
       "<table border=\"1\" class=\"dataframe\">\n",
       "  <thead>\n",
       "    <tr style=\"text-align: right;\">\n",
       "      <th></th>\n",
       "      <th>Event_Address</th>\n",
       "      <th>Event_Crowd</th>\n",
       "      <th>Event_Date</th>\n",
       "      <th>Event_Title</th>\n",
       "      <th>properties.name</th>\n",
       "    </tr>\n",
       "  </thead>\n",
       "  <tbody>\n",
       "    <tr>\n",
       "      <th>0</th>\n",
       "      <td>1900 Madison Ave, Council Bluffs, IA 51503-5250, United States</td>\n",
       "      <td>428</td>\n",
       "      <td>07/07/2019</td>\n",
       "      <td>Meet Julián Castro in Council Bluffs, IA</td>\n",
       "      <td>Julian Castro</td>\n",
       "    </tr>\n",
       "    <tr>\n",
       "      <th>1</th>\n",
       "      <td>The Bridge Coffeehouse, Red Oak, IA</td>\n",
       "      <td>202</td>\n",
       "      <td>07/08/2019</td>\n",
       "      <td>Meet Julián Castro in Red Oak, IA</td>\n",
       "      <td>Julian Castro</td>\n",
       "    </tr>\n",
       "    <tr>\n",
       "      <th>2</th>\n",
       "      <td>La Gran Plaza de Fort Worth, Fort Worth, TX</td>\n",
       "      <td>2,148</td>\n",
       "      <td>07/01/2019</td>\n",
       "      <td>Road to 2020: Julián Castro</td>\n",
       "      <td>Julian Castro</td>\n",
       "    </tr>\n",
       "    <tr>\n",
       "      <th>3</th>\n",
       "      <td>Collin College, Preston Ridge Campus, Frisco, TX</td>\n",
       "      <td>754</td>\n",
       "      <td>07/01/2019</td>\n",
       "      <td>Frisco Democratic Club Town Hall with Sec. Julian Castro</td>\n",
       "      <td>Julian Castro</td>\n",
       "    </tr>\n",
       "    <tr>\n",
       "      <th>4</th>\n",
       "      <td>St. John's Downtown, Houston, TX</td>\n",
       "      <td>1,905</td>\n",
       "      <td>06/30/2019</td>\n",
       "      <td>HCDP Presidential Candidate Speaker Series with Julián Castro</td>\n",
       "      <td>Julian Castro</td>\n",
       "    </tr>\n",
       "  </tbody>\n",
       "</table>\n",
       "</div>"
      ],
      "text/plain": [
       "                                                    Event_Address Event_Crowd  \\\n",
       "0  1900 Madison Ave, Council Bluffs, IA 51503-5250, United States   428         \n",
       "1  The Bridge Coffeehouse, Red Oak, IA                              202         \n",
       "2  La Gran Plaza de Fort Worth, Fort Worth, TX                      2,148       \n",
       "3  Collin College, Preston Ridge Campus, Frisco, TX                 754         \n",
       "4  St. John's Downtown, Houston, TX                                 1,905       \n",
       "\n",
       "   Event_Date                                                    Event_Title  \\\n",
       "0  07/07/2019  Meet Julián Castro in Council Bluffs, IA                        \n",
       "1  07/08/2019  Meet Julián Castro in Red Oak, IA                               \n",
       "2  07/01/2019  Road to 2020: Julián Castro                                     \n",
       "3  07/01/2019  Frisco Democratic Club Town Hall with Sec. Julian Castro        \n",
       "4  06/30/2019  HCDP Presidential Candidate Speaker Series with Julián Castro   \n",
       "\n",
       "  properties.name  \n",
       "0  Julian Castro   \n",
       "1  Julian Castro   \n",
       "2  Julian Castro   \n",
       "3  Julian Castro   \n",
       "4  Julian Castro   "
      ]
     },
     "execution_count": 51,
     "metadata": {},
     "output_type": "execute_result"
    }
   ],
   "source": [
    "castro_df.head()"
   ]
  },
  {
   "cell_type": "code",
   "execution_count": 52,
   "metadata": {},
   "outputs": [],
   "source": [
    "## Dropping everything before the announcement date\n",
    "castro_df.drop(castro_df.tail(2).index,inplace=True)"
   ]
  },
  {
   "cell_type": "code",
   "execution_count": 53,
   "metadata": {},
   "outputs": [
    {
     "data": {
      "text/plain": [
       "(56, 5)"
      ]
     },
     "execution_count": 53,
     "metadata": {},
     "output_type": "execute_result"
    }
   ],
   "source": [
    "castro_df.shape"
   ]
  },
  {
   "cell_type": "code",
   "execution_count": 54,
   "metadata": {},
   "outputs": [],
   "source": [
    "df2 = df2.append(castro_df, ignore_index=True)"
   ]
  },
  {
   "cell_type": "code",
   "execution_count": 55,
   "metadata": {},
   "outputs": [
    {
     "data": {
      "text/plain": [
       "Julian Castro     56\n",
       "Cory Booker       50\n",
       "Joe Biden Jr.     33\n",
       "Steve Bullock     24\n",
       "Pete Buttigieg    10\n",
       "Michael Bennet    2 \n",
       "Name: properties.name, dtype: int64"
      ]
     },
     "execution_count": 55,
     "metadata": {},
     "output_type": "execute_result"
    }
   ],
   "source": [
    "df2['properties.name'].value_counts()"
   ]
  },
  {
   "cell_type": "markdown",
   "metadata": {},
   "source": [
    "# John K. Delaney"
   ]
  },
  {
   "cell_type": "code",
   "execution_count": null,
   "metadata": {},
   "outputs": [],
   "source": [
    "driver = webdriver.Chrome()\n",
    "driver.get(\"https://www.facebook.com/pg/JohnKDelaneyJKD/events/?ref=page_internal\")\n",
    "\n",
    "while driver.find_element_by_tag_name(\"div\"):\n",
    "    driver.execute_script(\"window.scrollTo(0, document.body.scrollHeight);\")\n",
    "    divs=driver.find_element_by_xpath('//*[@id=\"content_container\"]/div').text\n",
    "    if 'Rally to Save Health Care' in divs:\n",
    "        break\n",
    "    else:\n",
    "        continue\n",
    "driver.quit()\n",
    "\n",
    "divs = re.sub(r\"\\n([A-Z]{3}\\n\\d?)\", r\"\\n///\\1\", divs)\n",
    "divs = divs.split(\"\\n///\")\n",
    "del divs[0]\n",
    "divs = [tix.replace('\\nGet Tickets', \"\") for tix in divs]\n",
    "divs = [tix.replace('\\nPast Events', \"\") for tix in divs]\n",
    "divs = [tix.replace('\\nEnglish (US)\\nEspañol\\nFrançais (France)\\n中文(简体)\\nالعربية\\nPortuguês (Brasil)\\nItaliano\\n한국어\\nDeutsch\\nहिन्दी\\n日本語\\nSign UpLog InMessengerFacebook Lite Watch PeopleProfilesPagesPage CategoriesEventsPlacesGamesLocationsMarketplaceGroupsInstagramLocalFundraisersServicesAboutCreate AdCreate PageDevelopersCareersPrivacyCookiesAd Choices\\nTermsAccount SecurityLogin HelpHelp\\nSettings\\nActivity Log\\nFacebook © 2019', \"\") for tix in divs]\n",
    "\n",
    "for line in range(0, len(divs)):\n",
    "    divs[line] = re.split(\"[\\n·]\",divs[line])\n",
    "divs"
   ]
  },
  {
   "cell_type": "code",
   "execution_count": null,
   "metadata": {
    "scrolled": true
   },
   "outputs": [],
   "source": [
    "divs_list = []\n",
    "for div in divs:\n",
    "    if len(div) > 5:\n",
    "        divs_list.append(div)"
   ]
  },
  {
   "cell_type": "code",
   "execution_count": null,
   "metadata": {
    "scrolled": true
   },
   "outputs": [],
   "source": [
    "event_dict = []\n",
    "for chunk in divs_list:\n",
    "    event = {}\n",
    "    event['Event_Date'] = chunk[0] + \" \" + chunk[1]\n",
    "    event['Event_Title'] = chunk[2]\n",
    "    event['Event_Crowd'] = chunk[4]\n",
    "    try: event['Event_Address']=chunk[5]+\", \"+chunk[6]\n",
    "    except: event['Event_Address'] = chunk[5]\n",
    "    event['properties.name'] = \"John K. Delaney\"\n",
    "    event_dict.append(event)"
   ]
  },
  {
   "cell_type": "code",
   "execution_count": null,
   "metadata": {
    "scrolled": true
   },
   "outputs": [],
   "source": [
    "delaney_df = pd.DataFrame(event_dict)\n",
    "delaney_df.Event_Date = pd.to_datetime(delaney_df.Event_Date, format=\"%b %d\", errors='coerce')\n",
    "delaney_df.Event_Date = delaney_df.Event_Date.dt.strftime(\"%m/%d/2019\")\n",
    "delaney_df.Event_Crowd = delaney_df.Event_Crowd.str.extract(\"^(.*)\\sguests\")"
   ]
  },
  {
   "cell_type": "code",
   "execution_count": null,
   "metadata": {},
   "outputs": [],
   "source": [
    "delaney_df.head()"
   ]
  },
  {
   "cell_type": "code",
   "execution_count": null,
   "metadata": {},
   "outputs": [],
   "source": [
    "## Dropping everything before the announcement date\n",
    "delaney_df.drop(delaney_df.tail(3).index,inplace=True)"
   ]
  },
  {
   "cell_type": "code",
   "execution_count": null,
   "metadata": {},
   "outputs": [],
   "source": [
    "delaney_df.shape"
   ]
  },
  {
   "cell_type": "code",
   "execution_count": null,
   "metadata": {},
   "outputs": [],
   "source": [
    "df2 = df2.append(delaney_df, ignore_index=True)"
   ]
  },
  {
   "cell_type": "code",
   "execution_count": null,
   "metadata": {},
   "outputs": [],
   "source": [
    "df2['properties.name'].value_counts()"
   ]
  },
  {
   "cell_type": "markdown",
   "metadata": {},
   "source": [
    "# Tulsi Gabbard"
   ]
  },
  {
   "cell_type": "code",
   "execution_count": null,
   "metadata": {},
   "outputs": [],
   "source": [
    "driver = webdriver.Chrome()\n",
    "driver.get(\"https://www.facebook.com/pg/TulsiGabbard/events/?ref=page_internal\")\n",
    "\n",
    "while driver.find_element_by_tag_name(\"div\"):\n",
    "    driver.execute_script(\"window.scrollTo(0, document.body.scrollHeight);\")\n",
    "    divs=driver.find_element_by_xpath('//*[@id=\"content_container\"]/div').text\n",
    "    if '4th Annual Brews and BBQ ' in divs:\n",
    "        break\n",
    "    else:\n",
    "        continue\n",
    "driver.quit()\n",
    "\n",
    "divs = re.sub(r\"\\n([A-Z]{3}\\n\\d?)\", r\"\\n///\\1\", divs)\n",
    "divs = divs.split(\"\\n///\")\n",
    "del divs[0]\n",
    "divs = [tix.replace('\\nGet Tickets', \"\") for tix in divs]\n",
    "divs = [tix.replace('\\nPast Events', \"\") for tix in divs]\n",
    "divs = [tix.replace('\\nEnglish (US)\\nEspañol\\nFrançais (France)\\n中文(简体)\\nالعربية\\nPortuguês (Brasil)\\nItaliano\\n한국어\\nDeutsch\\nहिन्दी\\n日本語\\nSign UpLog InMessengerFacebook Lite Watch PeopleProfilesPagesPage CategoriesEventsPlacesGamesLocationsMarketplaceGroupsInstagramLocalFundraisersServicesAboutCreate AdCreate PageDevelopersCareersPrivacyCookiesAd Choices\\nTermsAccount SecurityLogin HelpHelp\\nSettings\\nActivity Log\\nFacebook © 2019', \"\") for tix in divs]\n",
    "\n",
    "for line in range(0, len(divs)):\n",
    "    divs[line] = re.split(\"[\\n·]\",divs[line])\n",
    "divs"
   ]
  },
  {
   "cell_type": "code",
   "execution_count": null,
   "metadata": {
    "scrolled": true
   },
   "outputs": [],
   "source": [
    "divs_list = []\n",
    "for div in divs:\n",
    "    if len(div) > 5:\n",
    "        divs_list.append(div)"
   ]
  },
  {
   "cell_type": "code",
   "execution_count": null,
   "metadata": {
    "scrolled": true
   },
   "outputs": [],
   "source": [
    "event_dict = []\n",
    "for chunk in divs_list:\n",
    "    event = {}\n",
    "    event['Event_Date'] = chunk[0] + \" \" + chunk[1]\n",
    "    event['Event_Title'] = chunk[2]\n",
    "    event['Event_Crowd'] = chunk[4]\n",
    "    try: event['Event_Address']=chunk[5]+\", \"+chunk[6]\n",
    "    except: event['Event_Address'] = chunk[5]\n",
    "    event['properties.name'] = \"Tulsi Gabbard\"\n",
    "    event_dict.append(event)"
   ]
  },
  {
   "cell_type": "code",
   "execution_count": null,
   "metadata": {
    "scrolled": true
   },
   "outputs": [],
   "source": [
    "gabbard_df = pd.DataFrame(event_dict)\n",
    "gabbard_df.Event_Date = pd.to_datetime(gabbard_df.Event_Date, format=\"%b %d\", errors='coerce')\n",
    "gabbard_df.Event_Date = gabbard_df.Event_Date.dt.strftime(\"%m/%d/2019\")\n",
    "gabbard_df.Event_Crowd = gabbard_df.Event_Crowd.str.extract(\"^(.*)\\sguests\")"
   ]
  },
  {
   "cell_type": "code",
   "execution_count": null,
   "metadata": {},
   "outputs": [],
   "source": [
    "gabbard_df.head()"
   ]
  },
  {
   "cell_type": "code",
   "execution_count": null,
   "metadata": {},
   "outputs": [],
   "source": [
    "## Dropping everything before the announcement date\n",
    "gabbard_df.drop(gabbard_df.tail(1).index,inplace=True)"
   ]
  },
  {
   "cell_type": "code",
   "execution_count": null,
   "metadata": {},
   "outputs": [],
   "source": [
    "gabbard_df.shape"
   ]
  },
  {
   "cell_type": "code",
   "execution_count": null,
   "metadata": {},
   "outputs": [],
   "source": [
    "df2 = df2.append(gabbard_df, ignore_index=True)"
   ]
  },
  {
   "cell_type": "code",
   "execution_count": null,
   "metadata": {},
   "outputs": [],
   "source": [
    "df2['properties.name'].value_counts()"
   ]
  },
  {
   "cell_type": "markdown",
   "metadata": {},
   "source": [
    "# Kirsten E. Gillibrand"
   ]
  },
  {
   "cell_type": "code",
   "execution_count": null,
   "metadata": {},
   "outputs": [],
   "source": [
    "driver = webdriver.Chrome()\n",
    "driver.get(\"https://www.facebook.com/pg/KirstenGillibrand/events/?ref=page_internal\")\n",
    "\n",
    "while driver.find_element_by_tag_name(\"div\"):\n",
    "    driver.execute_script(\"window.scrollTo(0, document.body.scrollHeight);\")\n",
    "    divs=driver.find_element_by_xpath('//*[@id=\"content_container\"]/div').text\n",
    "    if 'Porstmouth Roundtable with Kirsten' in divs:\n",
    "        break\n",
    "    else:\n",
    "        continue\n",
    "driver.quit()\n",
    "\n",
    "divs = re.sub(r\"\\n([A-Z]{3}\\n\\d?)\", r\"\\n///\\1\", divs)\n",
    "divs = divs.split(\"\\n///\")\n",
    "del divs[0]\n",
    "divs = [tix.replace('\\nGet Tickets', \"\") for tix in divs]\n",
    "divs = [tix.replace('\\nPast Events', \"\") for tix in divs]\n",
    "divs = [tix.replace('\\nEnglish (US)\\nEspañol\\nFrançais (France)\\n中文(简体)\\nالعربية\\nPortuguês (Brasil)\\nItaliano\\n한국어\\nDeutsch\\nहिन्दी\\n日本語\\nSign UpLog InMessengerFacebook Lite Watch PeopleProfilesPagesPage CategoriesEventsPlacesGamesLocationsMarketplaceGroupsInstagramLocalFundraisersServicesAboutCreate AdCreate PageDevelopersCareersPrivacyCookiesAd Choices\\nTermsAccount SecurityLogin HelpHelp\\nSettings\\nActivity Log\\nFacebook © 2019', \"\") for tix in divs]\n",
    "\n",
    "for line in range(0, len(divs)):\n",
    "    divs[line] = re.split(\"[\\n·]\",divs[line])\n",
    "divs"
   ]
  },
  {
   "cell_type": "code",
   "execution_count": null,
   "metadata": {
    "scrolled": true
   },
   "outputs": [],
   "source": [
    "divs_list = []\n",
    "for div in divs:\n",
    "    if len(div) > 5:\n",
    "        divs_list.append(div)"
   ]
  },
  {
   "cell_type": "code",
   "execution_count": null,
   "metadata": {
    "scrolled": true
   },
   "outputs": [],
   "source": [
    "event_dict = []\n",
    "for chunk in divs_list:\n",
    "    event = {}\n",
    "    event['Event_Date'] = chunk[0] + \" \" + chunk[1]\n",
    "    event['Event_Title'] = chunk[2]\n",
    "    event['Event_Crowd'] = chunk[4]\n",
    "    try: event['Event_Address']=chunk[5]+\", \"+chunk[6]\n",
    "    except: event['Event_Address'] = chunk[5]\n",
    "    event['properties.name'] = \"Kirsten E. Gillibrand\"\n",
    "    event_dict.append(event)"
   ]
  },
  {
   "cell_type": "code",
   "execution_count": null,
   "metadata": {
    "scrolled": true
   },
   "outputs": [],
   "source": [
    "gillibrand_df = pd.DataFrame(event_dict)\n",
    "gillibrand_df.Event_Date = pd.to_datetime(gillibrand_df.Event_Date, format=\"%b %d\", errors='coerce')\n",
    "gillibrand_df.Event_Date = gillibrand_df.Event_Date.dt.strftime(\"%m/%d/2019\")\n",
    "gillibrand_df.Event_Crowd = gillibrand_df.Event_Crowd.str.extract(\"^(.*)\\sguests\")"
   ]
  },
  {
   "cell_type": "code",
   "execution_count": null,
   "metadata": {},
   "outputs": [],
   "source": [
    "gillibrand_df.head()"
   ]
  },
  {
   "cell_type": "code",
   "execution_count": null,
   "metadata": {},
   "outputs": [],
   "source": [
    "## Dropping everything before the announcement date\n",
    "gillibrand_df.drop(gillibrand_df.tail(1).index,inplace=True)"
   ]
  },
  {
   "cell_type": "code",
   "execution_count": null,
   "metadata": {},
   "outputs": [],
   "source": [
    "gillibrand_df.shape"
   ]
  },
  {
   "cell_type": "code",
   "execution_count": null,
   "metadata": {},
   "outputs": [],
   "source": [
    "df2 = df2.append(gillibrand_df, ignore_index=True)"
   ]
  },
  {
   "cell_type": "code",
   "execution_count": null,
   "metadata": {},
   "outputs": [],
   "source": [
    "df2['properties.name'].value_counts()"
   ]
  },
  {
   "cell_type": "markdown",
   "metadata": {},
   "source": [
    "# Beto O'Rourke"
   ]
  },
  {
   "cell_type": "code",
   "execution_count": null,
   "metadata": {},
   "outputs": [],
   "source": [
    "driver = webdriver.Chrome()\n",
    "driver.get(\"https://www.facebook.com/pg/betoorourke/events/?ref=page_internal\")\n",
    "\n",
    "while driver.find_element_by_tag_name(\"div\"):\n",
    "    driver.execute_script(\"window.scrollTo(0, document.body.scrollHeight);\")\n",
    "    divs=driver.find_element_by_xpath('//*[@id=\"content_container\"]/div').text\n",
    "    if 'FEB' in divs:\n",
    "        break\n",
    "    else:\n",
    "        continue\n",
    "driver.quit()\n",
    "\n",
    "divs = re.sub(r\"\\n([A-Z]{3}\\n\\d?)\", r\"\\n///\\1\", divs)\n",
    "divs = divs.split(\"\\n///\")\n",
    "del divs[0]\n",
    "divs = [tix.replace('\\nGet Tickets', \"\") for tix in divs]\n",
    "divs = [tix.replace('\\nPast Events', \"\") for tix in divs]\n",
    "divs = [tix.replace('\\nEnglish (US)\\nEspañol\\nFrançais (France)\\n中文(简体)\\nالعربية\\nPortuguês (Brasil)\\nItaliano\\n한국어\\nDeutsch\\nहिन्दी\\n日本語\\nSign UpLog InMessengerFacebook Lite Watch PeopleProfilesPagesPage CategoriesEventsPlacesGamesLocationsMarketplaceGroupsInstagramLocalFundraisersServicesAboutCreate AdCreate PageDevelopersCareersPrivacyCookiesAd Choices\\nTermsAccount SecurityLogin HelpHelp\\nSettings\\nActivity Log\\nFacebook © 2019', \"\") for tix in divs]\n",
    "\n",
    "for line in range(0, len(divs)):\n",
    "    divs[line] = re.split(\"[\\n·]\",divs[line])"
   ]
  },
  {
   "cell_type": "code",
   "execution_count": null,
   "metadata": {
    "scrolled": true
   },
   "outputs": [],
   "source": [
    "divs_list = []\n",
    "for div in divs:\n",
    "    if len(div) > 5:\n",
    "        divs_list.append(div)"
   ]
  },
  {
   "cell_type": "code",
   "execution_count": null,
   "metadata": {
    "scrolled": true
   },
   "outputs": [],
   "source": [
    "event_dict = []\n",
    "for chunk in divs_list:\n",
    "    event = {}\n",
    "    event['Event_Date'] = chunk[0] + \" \" + chunk[1]\n",
    "    event['Event_Title'] = chunk[2]\n",
    "    event['Event_Crowd'] = chunk[4]\n",
    "    try: event['Event_Address'] = chunk[5] + \", \" + chunk[6]\n",
    "    except: event['Event_Address'] = chunk[5]\n",
    "    event['properties.name'] = \"Beto O'Rourke\"\n",
    "    event_dict.append(event)"
   ]
  },
  {
   "cell_type": "code",
   "execution_count": null,
   "metadata": {
    "scrolled": true
   },
   "outputs": [],
   "source": [
    "beto_df = pd.DataFrame(event_dict)\n",
    "beto_df.Event_Date = pd.to_datetime(beto_df.Event_Date, format=\"%b %d\", errors='coerce')\n",
    "beto_df.Event_Date = beto_df.Event_Date.dt.strftime(\"%m/%d/2019\")\n",
    "beto_df.Event_Crowd = beto_df.Event_Crowd.str.extract(\"^(.*)\\sguests\")"
   ]
  },
  {
   "cell_type": "code",
   "execution_count": null,
   "metadata": {},
   "outputs": [],
   "source": [
    "beto_df.head()"
   ]
  },
  {
   "cell_type": "code",
   "execution_count": null,
   "metadata": {},
   "outputs": [],
   "source": [
    "## Dropping everything before the announcement date\n",
    "beto_df.drop(beto_df.tail(1).index,inplace=True)"
   ]
  },
  {
   "cell_type": "code",
   "execution_count": null,
   "metadata": {},
   "outputs": [],
   "source": [
    "beto_df.shape"
   ]
  },
  {
   "cell_type": "code",
   "execution_count": null,
   "metadata": {},
   "outputs": [],
   "source": [
    "df2 = df2.append(beto_df, ignore_index=True)"
   ]
  },
  {
   "cell_type": "code",
   "execution_count": null,
   "metadata": {},
   "outputs": [],
   "source": [
    "df2['properties.name'].value_counts()"
   ]
  },
  {
   "cell_type": "markdown",
   "metadata": {},
   "source": [
    "# Elizabeth Warren"
   ]
  },
  {
   "cell_type": "code",
   "execution_count": null,
   "metadata": {},
   "outputs": [],
   "source": [
    "driver = webdriver.Chrome()\n",
    "driver.get(\"https://www.facebook.com/pg/ElizabethWarren/events/?ref=page_internal\")\n",
    "\n",
    "while driver.find_element_by_tag_name(\"div\"):\n",
    "    driver.execute_script(\"window.scrollTo(0, document.body.scrollHeight);\")\n",
    "    divs=driver.find_element_by_xpath('//*[@id=\"content_container\"]/div').text\n",
    "    if 'DEC' in divs:\n",
    "        break\n",
    "    else:\n",
    "        continue\n",
    "driver.quit()\n",
    "\n",
    "divs = re.sub(r\"\\n([A-Z]{3}\\n\\d?)\", r\"\\n///\\1\", divs)\n",
    "divs = divs.split(\"\\n///\")\n",
    "del divs[0]\n",
    "divs = [tix.replace('\\nGet Tickets', \"\") for tix in divs]\n",
    "divs = [tix.replace('\\nPast Events', \"\") for tix in divs]\n",
    "divs = [tix.replace('\\nPagesPublic FigureElizabeth WarrenEvents\\nEnglish (US)\\nEspañol\\nFrançais (France)\\n中文(简体)\\nالعربية\\nPortuguês (Brasil)\\nItaliano\\n한국어\\nDeutsch\\nहिन्दी\\n日本語\\nSign UpLog InMessengerFacebook Lite Watch PeopleProfilesPagesPage CategoriesEventsPlacesGamesLocationsMarketplaceGroupsInstagramLocalFundraisersServicesAboutCreate AdCreate PageDevelopersCareersPrivacyCookiesAd Choices\\nTermsAccount SecurityLogin HelpHelp\\nSettings\\nActivity Log\\nFacebook © 2019', \"\") for tix in divs]\n",
    "\n",
    "for line in range(0, len(divs)):\n",
    "    divs[line] = re.split(\"[\\n·]\",divs[line])"
   ]
  },
  {
   "cell_type": "code",
   "execution_count": null,
   "metadata": {},
   "outputs": [],
   "source": [
    "divs_list = []\n",
    "for div in divs:\n",
    "    if len(div) > 5:\n",
    "        divs_list.append(div)"
   ]
  },
  {
   "cell_type": "code",
   "execution_count": null,
   "metadata": {},
   "outputs": [],
   "source": [
    "event_dict = []\n",
    "for chunk in divs_list:\n",
    "    event = {}\n",
    "    event['Event_Date'] = chunk[0] + \" \" + chunk[1]\n",
    "    event['Event_Title'] = chunk[2]\n",
    "    event['Event_Crowd'] = chunk[4]\n",
    "    try: event['Event_Address'] = chunk[5] + \", \" + chunk[6]\n",
    "    except: event['Event_Address'] = chunk[5]\n",
    "    event['properties.name'] = \"Elizabeth Warren\"\n",
    "    \n",
    "    event_dict.append(event)"
   ]
  },
  {
   "cell_type": "code",
   "execution_count": null,
   "metadata": {},
   "outputs": [],
   "source": [
    "warren_df = pd.DataFrame(event_dict)\n",
    "warren_df.Event_Date = pd.to_datetime(warren_df.Event_Date, format=\"%b %d\", errors='coerce')\n",
    "warren_df.Event_Date = warren_df.Event_Date.dt.strftime(\"%m/%d/2019\")\n",
    "warren_df.Event_Crowd = warren_df.Event_Crowd.str.extract(\"^(.*)\\sguests\")"
   ]
  },
  {
   "cell_type": "code",
   "execution_count": null,
   "metadata": {},
   "outputs": [],
   "source": [
    "warren_df.head()"
   ]
  },
  {
   "cell_type": "code",
   "execution_count": null,
   "metadata": {},
   "outputs": [],
   "source": [
    "## Dropping everything before the announcement date\n",
    "warren_df.drop(warren_df.tail(4).index,inplace=True)"
   ]
  },
  {
   "cell_type": "code",
   "execution_count": null,
   "metadata": {},
   "outputs": [],
   "source": [
    "df2 = df2.append(warren_df, ignore_index=True)"
   ]
  },
  {
   "cell_type": "code",
   "execution_count": null,
   "metadata": {},
   "outputs": [],
   "source": [
    "df2['properties.name'].value_counts()"
   ]
  },
  {
   "cell_type": "markdown",
   "metadata": {},
   "source": [
    "# Bernie Sanders"
   ]
  },
  {
   "cell_type": "code",
   "execution_count": null,
   "metadata": {},
   "outputs": [],
   "source": [
    "driver = webdriver.Chrome()\n",
    "driver.get(\"https://www.facebook.com/pg/berniesanders/events/?ref=page_internal\")\n",
    "\n",
    "while driver.find_element_by_tag_name(\"div\"):\n",
    "    driver.execute_script(\"window.scrollTo(0, document.body.scrollHeight);\")\n",
    "    divs=driver.find_element_by_xpath('//*[@id=\"content_container\"]/div').text\n",
    "    if 'JAN' in divs:\n",
    "        break\n",
    "    else:\n",
    "        continue\n",
    "driver.quit()\n",
    "\n",
    "divs = re.sub(r\"\\n([A-Z]{3}\\n\\d?)\", r\"\\n///\\1\", divs)\n",
    "divs = divs.split(\"\\n///\")\n",
    "del divs[0]\n",
    "divs = [tix.replace('\\nGet Tickets', \"\") for tix in divs]\n",
    "divs = [tix.replace('\\nPast Events', \"\") for tix in divs]\n",
    "divs = [tix.replace('\\nEnglish (US)\\nEspañol\\nFrançais (France)\\n中文(简体)\\nالعربية\\nPortuguês (Brasil)\\nItaliano\\n한국어\\nDeutsch\\nहिन्दी\\n日本語\\nSign UpLog InMessengerFacebook Lite Watch PeopleProfilesPagesPage CategoriesEventsPlacesGamesLocationsMarketplaceGroupsInstagramLocalFundraisersServicesAboutCreate AdCreate PageDevelopersCareersPrivacyCookiesAd Choices\\nTermsAccount SecurityLogin HelpHelp\\nSettings\\nActivity Log\\nFacebook © 2019', \"\") for tix in divs]\n",
    "\n",
    "for line in range(0, len(divs)):\n",
    "    divs[line] = re.split(\"[\\n·]\",divs[line])\n",
    "divs"
   ]
  },
  {
   "cell_type": "code",
   "execution_count": null,
   "metadata": {
    "scrolled": true
   },
   "outputs": [],
   "source": [
    "divs_list = []\n",
    "for div in divs:\n",
    "    if len(div) > 5:\n",
    "        divs_list.append(div)"
   ]
  },
  {
   "cell_type": "code",
   "execution_count": null,
   "metadata": {
    "scrolled": true
   },
   "outputs": [],
   "source": [
    "event_dict = []\n",
    "for chunk in divs_list:\n",
    "    event = {}\n",
    "    event['Event_Date'] = chunk[0] + \" \" + chunk[1]\n",
    "    event['Event_Title'] = chunk[2]\n",
    "    event['Event_Crowd'] = chunk[4]\n",
    "    try: event['Event_Address']=chunk[5]+\", \"+chunk[6]\n",
    "    except: event['Event_Address'] = chunk[5]\n",
    "    event['properties.name'] = \"Bernie Sanders\"\n",
    "    event_dict.append(event)"
   ]
  },
  {
   "cell_type": "code",
   "execution_count": null,
   "metadata": {
    "scrolled": true
   },
   "outputs": [],
   "source": [
    "sanders_df = pd.DataFrame(event_dict)\n",
    "sanders_df.Event_Date = pd.to_datetime(sanders_df.Event_Date, format=\"%b %d\", errors='coerce')\n",
    "sanders_df.Event_Date = sanders_df.Event_Date.dt.strftime(\"%m/%d/2019\")\n",
    "sanders_df.Event_Crowd = sanders_df.Event_Crowd.str.extract(\"^(.*)\\sguests\")"
   ]
  },
  {
   "cell_type": "code",
   "execution_count": null,
   "metadata": {},
   "outputs": [],
   "source": [
    "sanders_df.head()"
   ]
  },
  {
   "cell_type": "code",
   "execution_count": null,
   "metadata": {},
   "outputs": [],
   "source": [
    "## Dropping everything before the announcement date\n",
    "sanders_df.drop(sanders_df.tail(12).index,inplace=True)"
   ]
  },
  {
   "cell_type": "code",
   "execution_count": null,
   "metadata": {},
   "outputs": [],
   "source": [
    "sanders_df.shape"
   ]
  },
  {
   "cell_type": "code",
   "execution_count": null,
   "metadata": {},
   "outputs": [],
   "source": [
    "df2 = df2.append(sanders_df, ignore_index=True)"
   ]
  },
  {
   "cell_type": "code",
   "execution_count": null,
   "metadata": {
    "scrolled": true
   },
   "outputs": [],
   "source": [
    "df2['properties.name'].value_counts()"
   ]
  },
  {
   "cell_type": "markdown",
   "metadata": {},
   "source": [
    "# Merging Candidate info\n",
    "Scraped from each candidate's C-"
   ]
  },
  {
   "cell_type": "code",
   "execution_count": null,
   "metadata": {
    "scrolled": true
   },
   "outputs": [],
   "source": [
    "df2.shape"
   ]
  },
  {
   "cell_type": "code",
   "execution_count": null,
   "metadata": {},
   "outputs": [],
   "source": [
    "cand_df = pd.read_csv(\"candidate_info.csv\")"
   ]
  },
  {
   "cell_type": "code",
   "execution_count": null,
   "metadata": {},
   "outputs": [],
   "source": [
    "merged_df2 = df2.merge(cand_df, right_on='Name', left_on='properties.name')"
   ]
  },
  {
   "cell_type": "code",
   "execution_count": null,
   "metadata": {
    "scrolled": false
   },
   "outputs": [],
   "source": [
    "merged_df2.shape"
   ]
  },
  {
   "cell_type": "markdown",
   "metadata": {},
   "source": [
    "# Getting the info ready"
   ]
  },
  {
   "cell_type": "code",
   "execution_count": null,
   "metadata": {},
   "outputs": [],
   "source": [
    "# def get_coords(x):\n",
    "#     try:\n",
    "#         url = 'https://maps.googleapis.com/maps/api/geocode/json'\n",
    "#         keys = {'address': x, 'key': api_key}\n",
    "#         r = requests.get(url,params=keys)\n",
    "#         result_dic = r.json()\n",
    "#         return float(result_dic['results'][0]['geometry']['location']['lng']), float(result_dic['results'][0]['geometry']['location']['lat'])\n",
    "#     except:\n",
    "#         return np.nan"
   ]
  },
  {
   "cell_type": "code",
   "execution_count": null,
   "metadata": {},
   "outputs": [],
   "source": [
    "geometry_df = []\n",
    "for place in merged_df2['Event_Address']:\n",
    "    try:\n",
    "        url = 'https://maps.googleapis.com/maps/api/geocode/json'\n",
    "        keys = {'address': place, 'key': api_key}\n",
    "        r = requests.get(url,params=keys)\n",
    "        result_dic = r.json()\n",
    "        lat = result_dic['results'][0]['geometry']['location']['lat']\n",
    "        long = result_dic['results'][0]['geometry']['location']['lng']\n",
    "        coords = []\n",
    "        coords.append(float(long))\n",
    "        coords.append(float(lat))\n",
    "        mygeometry = {'place': place, 'geometry.type': 'Point','geometry.coordinates': coords}\n",
    "        geometry_df.append(mygeometry)\n",
    "    except: pass\n",
    "geometry_df"
   ]
  },
  {
   "cell_type": "code",
   "execution_count": null,
   "metadata": {},
   "outputs": [],
   "source": [
    "geometry_df = pd.DataFrame(geometry_df)"
   ]
  },
  {
   "cell_type": "code",
   "execution_count": null,
   "metadata": {},
   "outputs": [],
   "source": [
    "merged_df2 = merged_df2.merge(geometry_df, left_on='Event_Address', right_on='place')"
   ]
  },
  {
   "cell_type": "code",
   "execution_count": null,
   "metadata": {},
   "outputs": [],
   "source": [
    "def prop_ids(x):\n",
    "    if x['properties.name'] == \"Michael Bennet\":\n",
    "        x['properties.color'] = \"3bd01fa\"\n",
    "        x['properties_color'] = x['properties.color']\n",
    "        x['properties.group_name'] = x['properties.name']\n",
    "        x['properties.group_id'] = 1\n",
    "        return x\n",
    "        \n",
    "    if x['properties.name'] == \"Joe Biden Jr.\":\n",
    "        x['properties.color'] = \"#cf4b16\"\n",
    "        x['properties_color'] = x['properties.color']\n",
    "        x['properties.group_name'] = x['properties.name']\n",
    "        x['properties.group_id'] = 2\n",
    "        return x\n",
    "    \n",
    "    if x['properties.name'] == \"Cory Booker\":\n",
    "        x['properties.color'] = \"#3b36a8\"\n",
    "        x['properties_color'] = x['properties.color']\n",
    "        x['properties.group_name'] = x['properties.name']\n",
    "        x['properties.group_id'] = 3\n",
    "        return x\n",
    "    \n",
    "    if x['properties.name'] == \"Steve Bullock\":\n",
    "        x['properties.color'] = \"#77cee9\"\n",
    "        x['properties_color'] = x['properties.color']\n",
    "        x['properties.group_name'] = x['properties.name']\n",
    "        x['properties.group_id'] = 4\n",
    "        return x\n",
    "    \n",
    "    if x['properties.name'] == \"Pete Buttigieg\":\n",
    "        x['properties.color'] = \"#8fd34a\"\n",
    "        x['properties_color'] = x['properties.color']\n",
    "        x['properties.group_name'] = x['properties.name']\n",
    "        x['properties.group_id'] = 5\n",
    "        return x\n",
    "    \n",
    "    if x['properties.name'] == \"Julian Castro\":\n",
    "        x['properties.color'] = \"#cf53c5\"\n",
    "        x['properties_color'] = x['properties.color']\n",
    "        x['properties.group_name'] = x['properties.name']\n",
    "        x['properties.group_id'] = 6\n",
    "        return x\n",
    "    \n",
    "    if x['properties.name'] == \"John K. Delaney\":\n",
    "        x['properties.color'] = \"#75a044\"\n",
    "        x['properties_color'] = x['properties.color']\n",
    "        x['properties.group_name'] = x['properties.name']\n",
    "        x['properties.group_id'] = 7\n",
    "        return x\n",
    "    \n",
    "    if x['properties.name'] == \"Tulsi Gabbard\":\n",
    "        x['properties.color'] = \"#351f46\"\n",
    "        x['properties_color'] = x['properties.color']\n",
    "        x['properties.group_name'] = x['properties.name']\n",
    "        x['properties.group_id'] = 8\n",
    "        return x\n",
    "    \n",
    "    if x['properties.name'] == \"Kirsten E. Gillibrand\":\n",
    "        x['properties.color'] = \"#c283ec\"\n",
    "        x['properties_color'] = x['properties.color']\n",
    "        x['properties.group_name'] = x['properties.name']\n",
    "        x['properties.group_id'] = 9\n",
    "        return x\n",
    "    \n",
    "    if x['properties.name'] == \"Kamala D. Harris\":\n",
    "        x['properties.color'] = \"#326223\"\n",
    "        x['properties_color'] = x['properties.color']\n",
    "        x['properties.group_name'] = x['properties.name']\n",
    "        x['properties.group_id'] = 10\n",
    "        return x\n",
    "    \n",
    "    if x['properties.name'] == \"John W. Hickenlooper\":\n",
    "        x['properties.color'] = \"#2de957\"\n",
    "        x['properties_color'] = x['properties.color']\n",
    "        x['properties.group_name'] = x['properties.name']\n",
    "        x['properties.group_id'] = 11\n",
    "        return x\n",
    "    \n",
    "    if x['properties.name'] == \"Jay Inslee\":\n",
    "        x['properties.color'] = \"#2ba773\"\n",
    "        x['properties_color'] = x['properties.color']\n",
    "        x['properties.group_name'] = x['properties.name']\n",
    "        x['properties.group_id'] = 12\n",
    "        return x\n",
    "    \n",
    "    if x['properties.name'] == \"Amy Klobuchar\":\n",
    "        x['properties.color'] = \"#20f75a\"\n",
    "        x['properties_color'] = x['properties.color']\n",
    "        x['properties.group_name'] = x['properties.name']\n",
    "        x['properties.group_id'] = 13\n",
    "        return x\n",
    "        \n",
    "    if x['properties.name'] == \"Seth W. Moulton\":\n",
    "        x['properties.color'] = \"#67c77d\"\n",
    "        x['properties_color'] = x['properties.color']\n",
    "        x['properties.group_name'] = x['properties.name']\n",
    "        x['properties.group_id'] = 14\n",
    "        return x\n",
    "    \n",
    "    if x['properties.name'] == \"Beto O'Rourke\":\n",
    "        x['properties.color'] = \"#0bb9b8\"\n",
    "        x['properties_color'] = x['properties.color']\n",
    "        x['properties.group_name'] = x['properties.name']\n",
    "        x['properties.group_id'] = 15\n",
    "        return x\n",
    "    \n",
    "    if x['properties.name'] == \"Tim Ryan\":\n",
    "        x['properties.color'] = \"#d766d4\"\n",
    "        x['properties_color'] = x['properties.color']\n",
    "        x['properties.group_name'] = x['properties.name']\n",
    "        x['properties.group_id'] = 16\n",
    "        return x\n",
    "    \n",
    "    if x['properties.name'] == \"Bernie Sanders\":\n",
    "        x['properties.color'] = \"#882d35\"\n",
    "        x['properties_color'] = x['properties.color']\n",
    "        x['properties.group_name'] = x['properties.name']\n",
    "        x['properties.group_id'] = 17\n",
    "        return x\n",
    "    \n",
    "    if x['properties.name'] == \"Joe Sestek Jr.\":\n",
    "        x['properties.color'] = \"#93aba7\"\n",
    "        x['properties_color'] = x['properties.color']\n",
    "        x['properties.group_name'] = x['properties.name']\n",
    "        x['properties.group_id'] = 18\n",
    "        return x\n",
    "        \n",
    "    if x['properties.name'] == \"Eric Swalwell\":\n",
    "        x['properties.color'] = \"#1334c3\"\n",
    "        x['properties_color'] = x['properties.color']\n",
    "        x['properties.group_name'] = x['properties.name']\n",
    "        x['properties.group_id'] = 19\n",
    "        return x\n",
    "    \n",
    "    if x['properties.name'] == \"Elizabeth Warren\":\n",
    "        x['properties.color'] = \"#39c285\"\n",
    "        x['properties_color'] = x['properties.color']\n",
    "        x['properties.group_name'] = \"Elizabeth Warren\"\n",
    "        x['properties.group_id'] = 20\n",
    "        return x\n",
    "            \n",
    "    if x['properties.name'] == \"Marianna Williamson\":\n",
    "        x['properties.color'] = \"#cff410\"\n",
    "        x['properties_color'] = x['properties.color']\n",
    "        x['properties.group_name'] = \"Elizabeth Warren\"\n",
    "        x['properties.group_id'] = 21\n",
    "        return x\n",
    "                \n",
    "    if x['properties.name'] == \"Andrew Yang\":\n",
    "        x['properties.color'] = \"#45b374\"\n",
    "        x['properties_color'] = x['properties.color']\n",
    "        x['properties.group_name'] = \"Elizabeth Warren\"\n",
    "        x['properties.group_id'] = 22\n",
    "        return x"
   ]
  },
  {
   "cell_type": "code",
   "execution_count": null,
   "metadata": {
    "scrolled": true
   },
   "outputs": [],
   "source": [
    "merged_df2 = merged_df2.apply(prop_ids, axis=1)"
   ]
  },
  {
   "cell_type": "code",
   "execution_count": null,
   "metadata": {},
   "outputs": [],
   "source": [
    "merged_df2['properties.name'].value_counts()"
   ]
  },
  {
   "cell_type": "code",
   "execution_count": null,
   "metadata": {},
   "outputs": [],
   "source": [
    "# x['properties.color'] = \"#9244FF\",\n",
    "# x['properties_color'] = x['properties.color'],\n",
    "# x['properties.group_name'] = \"Elizabeth Warren\",\n",
    "# x['properties.group_id'] = 1;"
   ]
  },
  {
   "cell_type": "code",
   "execution_count": null,
   "metadata": {},
   "outputs": [],
   "source": [
    "# merged_df2['properties_color'] = merged_df2['properties.name'].apply(lambda x: prop_color(x))"
   ]
  },
  {
   "cell_type": "code",
   "execution_count": null,
   "metadata": {},
   "outputs": [],
   "source": [
    "def prop_headline(x):\n",
    "    return x"
   ]
  },
  {
   "cell_type": "code",
   "execution_count": null,
   "metadata": {},
   "outputs": [],
   "source": [
    "merged_df2['properties.headline'] = merged_df2['Event_Title'].apply(lambda x: prop_headline(x))"
   ]
  },
  {
   "cell_type": "code",
   "execution_count": null,
   "metadata": {},
   "outputs": [],
   "source": [
    "def prop_article(row):\n",
    "    return f\"<div id='img><img src={row.IMG}></div>\\\n",
    "    <div id='headline'><h2 style='font-family:helvetica;font-size:38px;border-bottom: 5px solid {row.properties_color}'>{row.Event_Title}</h2></div>\\\n",
    "    <p style='font-size:20px;'> Location: {row.Event_Address}</p>\\\n",
    "    <p style='font-size:20px;'> Crowd size: {row.Event_Crowd}</p>\"\n"
   ]
  },
  {
   "cell_type": "code",
   "execution_count": null,
   "metadata": {},
   "outputs": [],
   "source": [
    "merged_df2['properties.article'] = merged_df2.apply(prop_article, axis=1)"
   ]
  },
  {
   "cell_type": "code",
   "execution_count": null,
   "metadata": {},
   "outputs": [],
   "source": [
    "# def prop_group_name(x):\n",
    "#     if x == \"Elizabeth Warren\":\n",
    "#         return \"Elizabeth Warren\"\n",
    "#     if x == \"Beto O'Rourke\":\n",
    "#         return \"Beto O'Rourke\"\n",
    "#     if x == \"Bernie Sanders\":\n",
    "#         return \"Bernie Sanders\""
   ]
  },
  {
   "cell_type": "code",
   "execution_count": null,
   "metadata": {},
   "outputs": [],
   "source": [
    "# merged_df2['properties.group_name'] = merged_df2['properties.name'].apply(lambda x: prop_group_name(x))"
   ]
  },
  {
   "cell_type": "code",
   "execution_count": null,
   "metadata": {},
   "outputs": [],
   "source": [
    "# def prop_group_id(x):\n",
    "#     if x == \"Elizabeth Warren\":\n",
    "#         return 1\n",
    "#     if x == \"Beto O'Rourke\":\n",
    "#         return 2\n",
    "#     if x == \"Bernie Sanders\":\n",
    "#         x"
   ]
  },
  {
   "cell_type": "code",
   "execution_count": null,
   "metadata": {},
   "outputs": [],
   "source": [
    "# merged_df2['properties.group_id'] = merged_df2['properties.name'].apply(lambda x: prop_group_id(x))"
   ]
  },
  {
   "cell_type": "code",
   "execution_count": null,
   "metadata": {},
   "outputs": [],
   "source": [
    "merged_df2.to_csv(\"fb_events_info.csv\", index=False)"
   ]
  },
  {
   "cell_type": "code",
   "execution_count": null,
   "metadata": {},
   "outputs": [],
   "source": [
    "csv_df = pd.read_csv(\"fb_events_info.csv\", thousands=\",\", usecols=['geometry.coordinates', 'geometry.type', 'properties.name', 'properties.headline', 'properties.article', 'properties.color', 'properties.group_id', 'properties.group_name'])"
   ]
  },
  {
   "cell_type": "code",
   "execution_count": null,
   "metadata": {},
   "outputs": [],
   "source": [
    "csv_df['geometry.coordinates'] = csv_df['geometry.coordinates'].apply(json.loads)"
   ]
  },
  {
   "cell_type": "code",
   "execution_count": null,
   "metadata": {},
   "outputs": [],
   "source": [
    "csv_df.head()"
   ]
  },
  {
   "cell_type": "code",
   "execution_count": null,
   "metadata": {},
   "outputs": [],
   "source": [
    "ok_json = json.loads(csv_df.to_json(orient='records'))"
   ]
  },
  {
   "cell_type": "code",
   "execution_count": null,
   "metadata": {},
   "outputs": [],
   "source": [
    "def process_to_geojson(file):\n",
    "    geo_data = {\"type\": \"FeatureCollection\", \"features\":[]}\n",
    "    for row in file:\n",
    "        this_dict = {\"type\": \"Feature\", \"properties\":{}, \"geometry\": {}}\n",
    "        for key, value in row.items():\n",
    "            key_names = key.split('.')\n",
    "            if key_names[0] == 'geometry':\n",
    "                this_dict['geometry'][key_names[1]] = value\n",
    "            if str(key_names[0]) == 'properties':\n",
    "                this_dict['properties'][key_names[1]] = value\n",
    "        geo_data['features'].append(this_dict)\n",
    "    return geo_data\n"
   ]
  },
  {
   "cell_type": "code",
   "execution_count": null,
   "metadata": {},
   "outputs": [],
   "source": [
    "geo_format = process_to_geojson(ok_json)"
   ]
  },
  {
   "cell_type": "code",
   "execution_count": null,
   "metadata": {},
   "outputs": [],
   "source": [
    "with open('geo-data.js', 'w') as outfile:\n",
    "    outfile.write(\"var infoData = \" + json.dumps(geo_format))"
   ]
  },
  {
   "cell_type": "code",
   "execution_count": null,
   "metadata": {
    "scrolled": true
   },
   "outputs": [],
   "source": [
    "merged_df2[merged_df2['properties.name']==\"Beto O'Rourke\"].sort_values(by='Event_Crowd', ascending=False).head(1)\n",
    "# .plot(kind='barh', figsize=(12,2), title=\"Facebook Events per 2020 Dem. Candidate\")"
   ]
  },
  {
   "cell_type": "code",
   "execution_count": null,
   "metadata": {},
   "outputs": [],
   "source": [
    "merged_df2.to_csv(\"merged_df2.csv\", index=False)"
   ]
  },
  {
   "cell_type": "code",
   "execution_count": null,
   "metadata": {},
   "outputs": [],
   "source": [
    "df = pd.read_csv(\"merged_df2.csv\", thousands=\",\")"
   ]
  },
  {
   "cell_type": "code",
   "execution_count": null,
   "metadata": {},
   "outputs": [],
   "source": [
    "ax = df['properties.name'].value_counts().sort_values().plot(kind='barh',figsize=(12,5), title=\"Facebook Events per 2020 Dem. Candidate\")"
   ]
  },
  {
   "cell_type": "code",
   "execution_count": null,
   "metadata": {},
   "outputs": [],
   "source": [
    "ax = df.groupby(by='properties.name').Event_Crowd.mean()\\\n",
    "    .sort_values().plot(kind='barh', figsize=(12,5), title=\"Average attendees per event\")\n",
    "ax.set_ylabel('')\n",
    "alt = ax.twinx()\n",
    "# Set the new graph to have its tick marks in the same position\n",
    "alt.set_yticks(ax.yaxis.get_ticklocs()) \n",
    "alt.set_ylim(ax.get_ylim())\n",
    "# Set the labels for the tick marks to be the same, too\n",
    "alt.set_yticklabels(df.groupby(by='properties.name').Event_Crowd.mean().sort_values())"
   ]
  },
  {
   "cell_type": "code",
   "execution_count": null,
   "metadata": {},
   "outputs": [],
   "source": []
  }
 ],
 "metadata": {
  "kernelspec": {
   "display_name": "Python 3",
   "language": "python",
   "name": "python3"
  },
  "language_info": {
   "codemirror_mode": {
    "name": "ipython",
    "version": 3
   },
   "file_extension": ".py",
   "mimetype": "text/x-python",
   "name": "python",
   "nbconvert_exporter": "python",
   "pygments_lexer": "ipython3",
   "version": "3.7.3"
  }
 },
 "nbformat": 4,
 "nbformat_minor": 2
}
